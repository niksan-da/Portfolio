{
 "cells": [
  {
   "cell_type": "markdown",
   "metadata": {},
   "source": [
    "# Интернет-магазин \"Крупный\": A/B-тестирование гипотез."
   ]
  },
  {
   "cell_type": "markdown",
   "metadata": {
    "toc": true
   },
   "source": [
    "<h1>Table of Contents<span class=\"tocSkip\"></span></h1>\n",
    "<div class=\"toc\"><ul class=\"toc-item\"><li><span><a href=\"#Общее-описание-проекта-и-исходные-данные\" data-toc-modified-id=\"Общее-описание-проекта-и-исходные-данные-1\"><span class=\"toc-item-num\">1&nbsp;&nbsp;</span>Общее описание проекта и исходные данные</a></span></li><li><span><a href=\"#Часть-1.-Приоритизация-гипотез.\" data-toc-modified-id=\"Часть-1.-Приоритизация-гипотез.-2\"><span class=\"toc-item-num\">2&nbsp;&nbsp;</span>Часть 1. Приоритизация гипотез.</a></span><ul class=\"toc-item\"><li><span><a href=\"#Фреймворк-ICE.\" data-toc-modified-id=\"Фреймворк-ICE.-2.1\"><span class=\"toc-item-num\">2.1&nbsp;&nbsp;</span>Фреймворк ICE.</a></span></li><li><span><a href=\"#Фреймворк-RICE.\" data-toc-modified-id=\"Фреймворк-RICE.-2.2\"><span class=\"toc-item-num\">2.2&nbsp;&nbsp;</span>Фреймворк RICE.</a></span></li></ul></li><li><span><a href=\"#Часть-2.-Анализ-A/B-теста.\" data-toc-modified-id=\"Часть-2.-Анализ-A/B-теста.-3\"><span class=\"toc-item-num\">3&nbsp;&nbsp;</span>Часть 2. Анализ A/B-теста.</a></span><ul class=\"toc-item\"><li><span><a href=\"#Исследование,-имитирующее-A/A-тест.\" data-toc-modified-id=\"Исследование,-имитирующее-A/A-тест.-3.1\"><span class=\"toc-item-num\">3.1&nbsp;&nbsp;</span>Исследование, имитирующее A/A-тест.</a></span></li><li><span><a href=\"#Графики-кумулятивной-выручки-по-группам.\" data-toc-modified-id=\"Графики-кумулятивной-выручки-по-группам.-3.2\"><span class=\"toc-item-num\">3.2&nbsp;&nbsp;</span>Графики кумулятивной выручки по группам.</a></span></li><li><span><a href=\"#Графики-кумулятивного-среднего-чека-по-группам.\" data-toc-modified-id=\"Графики-кумулятивного-среднего-чека-по-группам.-3.3\"><span class=\"toc-item-num\">3.3&nbsp;&nbsp;</span>Графики кумулятивного среднего чека по группам.</a></span></li><li><span><a href=\"#График-относительного-изменения-кумулятивного-среднего-чека-группы-B-к-группе-A.\" data-toc-modified-id=\"График-относительного-изменения-кумулятивного-среднего-чека-группы-B-к-группе-A.-3.4\"><span class=\"toc-item-num\">3.4&nbsp;&nbsp;</span>График относительного изменения кумулятивного среднего чека группы B к группе A.</a></span></li><li><span><a href=\"#Графики-кумулятивного-среднего-количества-заказов-на-посетителя-по-группам.\" data-toc-modified-id=\"Графики-кумулятивного-среднего-количества-заказов-на-посетителя-по-группам.-3.5\"><span class=\"toc-item-num\">3.5&nbsp;&nbsp;</span>Графики кумулятивного среднего количества заказов на посетителя по группам.</a></span></li><li><span><a href=\"#График-относительного-изменения-кумулятивного-среднего-количества-заказов-на-посетителя-группы-B-к-группе-A.\" data-toc-modified-id=\"График-относительного-изменения-кумулятивного-среднего-количества-заказов-на-посетителя-группы-B-к-группе-A.-3.6\"><span class=\"toc-item-num\">3.6&nbsp;&nbsp;</span>График относительного изменения кумулятивного среднего количества заказов на посетителя группы B к группе A.</a></span></li><li><span><a href=\"#Точечный-график-количества-заказов-по-пользователям.\" data-toc-modified-id=\"Точечный-график-количества-заказов-по-пользователям.-3.7\"><span class=\"toc-item-num\">3.7&nbsp;&nbsp;</span>Точечный график количества заказов по пользователям.</a></span></li><li><span><a href=\"#Расчёт-перцентилей-количества-заказов.\" data-toc-modified-id=\"Расчёт-перцентилей-количества-заказов.-3.8\"><span class=\"toc-item-num\">3.8&nbsp;&nbsp;</span>Расчёт перцентилей количества заказов.</a></span></li><li><span><a href=\"#Точечный-график-стоимостей-заказов.\" data-toc-modified-id=\"Точечный-график-стоимостей-заказов.-3.9\"><span class=\"toc-item-num\">3.9&nbsp;&nbsp;</span>Точечный график стоимостей заказов.</a></span></li><li><span><a href=\"#Расчёт-перцентилей-сумм-заказов.\" data-toc-modified-id=\"Расчёт-перцентилей-сумм-заказов.-3.10\"><span class=\"toc-item-num\">3.10&nbsp;&nbsp;</span>Расчёт перцентилей сумм заказов.</a></span></li><li><span><a href=\"#Расчёт-статистической-значимости-различий-в-среднем-количестве-заказов-на-посетителя-между-группами-по-«сырым»-данным.\" data-toc-modified-id=\"Расчёт-статистической-значимости-различий-в-среднем-количестве-заказов-на-посетителя-между-группами-по-«сырым»-данным.-3.11\"><span class=\"toc-item-num\">3.11&nbsp;&nbsp;</span>Расчёт статистической значимости различий в среднем количестве заказов на посетителя между группами по «сырым» данным.</a></span></li><li><span><a href=\"#Расчёт-статистической-значимости-различий-в-среднем-чеке-заказа-между-группами-по-«сырым»-данным.\" data-toc-modified-id=\"Расчёт-статистической-значимости-различий-в-среднем-чеке-заказа-между-группами-по-«сырым»-данным.-3.12\"><span class=\"toc-item-num\">3.12&nbsp;&nbsp;</span>Расчёт статистической значимости различий в среднем чеке заказа между группами по «сырым» данным.</a></span></li><li><span><a href=\"#Расчёт-статистической-значимости-различий-в-среднем-количестве-заказов-на-посетителя-между-группами-по-«очищенным»-данным.\" data-toc-modified-id=\"Расчёт-статистической-значимости-различий-в-среднем-количестве-заказов-на-посетителя-между-группами-по-«очищенным»-данным.-3.13\"><span class=\"toc-item-num\">3.13&nbsp;&nbsp;</span>Расчёт статистической значимости различий в среднем количестве заказов на посетителя между группами по «очищенным» данным.</a></span></li><li><span><a href=\"#Расчёт-статистической-значимости-различий-в-среднем-чеке-заказа-между-группами-по-«очищенным»-данным.\" data-toc-modified-id=\"Расчёт-статистической-значимости-различий-в-среднем-чеке-заказа-между-группами-по-«очищенным»-данным.-3.14\"><span class=\"toc-item-num\">3.14&nbsp;&nbsp;</span>Расчёт статистической значимости различий в среднем чеке заказа между группами по «очищенным» данным.</a></span></li><li><span><a href=\"#Решение-по-результатам-теста.\" data-toc-modified-id=\"Решение-по-результатам-теста.-3.15\"><span class=\"toc-item-num\">3.15&nbsp;&nbsp;</span>Решение по результатам теста.</a></span></li></ul></li><li><span><a href=\"#Общие-выводы.\" data-toc-modified-id=\"Общие-выводы.-4\"><span class=\"toc-item-num\">4&nbsp;&nbsp;</span>Общие выводы.</a></span></li></ul></div>"
   ]
  },
  {
   "cell_type": "markdown",
   "metadata": {},
   "source": [
    "## Общее описание проекта и исходные данные"
   ]
  },
  {
   "cell_type": "markdown",
   "metadata": {},
   "source": [
    "Аналитики \"Крупного\" интернет-магазина совместно с отделом маркетинга подготовили список гипотез для увеличения выручки.\n",
    "\n",
    "<span style=\"color:blue\"> **Задача исследования:** </span>\n",
    "\n",
    "приоритизировать гипотезы, запустить A/B-тест и проанализировать его результаты. "
   ]
  },
  {
   "cell_type": "code",
   "execution_count": 83,
   "metadata": {},
   "outputs": [],
   "source": [
    "import pandas as pd\n",
    "import scipy.stats as stats\n",
    "import datetime as dt\n",
    "import numpy as np\n",
    "import matplotlib.pyplot as plt\n",
    "from matplotlib.ticker import MultipleLocator"
   ]
  },
  {
   "cell_type": "code",
   "execution_count": 2,
   "metadata": {},
   "outputs": [],
   "source": [
    "import warnings\n",
    "warnings.filterwarnings(action='ignore')"
   ]
  },
  {
   "cell_type": "markdown",
   "metadata": {},
   "source": [
    "---"
   ]
  },
  {
   "cell_type": "markdown",
   "metadata": {},
   "source": [
    "## Часть 1. Приоритизация гипотез."
   ]
  },
  {
   "cell_type": "code",
   "execution_count": 4,
   "metadata": {},
   "outputs": [
    {
     "data": {
      "text/html": [
       "<div>\n",
       "<style scoped>\n",
       "    .dataframe tbody tr th:only-of-type {\n",
       "        vertical-align: middle;\n",
       "    }\n",
       "\n",
       "    .dataframe tbody tr th {\n",
       "        vertical-align: top;\n",
       "    }\n",
       "\n",
       "    .dataframe thead th {\n",
       "        text-align: right;\n",
       "    }\n",
       "</style>\n",
       "<table border=\"1\" class=\"dataframe\">\n",
       "  <thead>\n",
       "    <tr style=\"text-align: right;\">\n",
       "      <th></th>\n",
       "      <th>Hypothesis</th>\n",
       "      <th>Reach</th>\n",
       "      <th>Impact</th>\n",
       "      <th>Confidence</th>\n",
       "      <th>Efforts</th>\n",
       "    </tr>\n",
       "  </thead>\n",
       "  <tbody>\n",
       "    <tr>\n",
       "      <th>0</th>\n",
       "      <td>Добавить два новых канала привлечения трафика,...</td>\n",
       "      <td>3</td>\n",
       "      <td>10</td>\n",
       "      <td>8</td>\n",
       "      <td>6</td>\n",
       "    </tr>\n",
       "    <tr>\n",
       "      <th>1</th>\n",
       "      <td>Запустить собственную службу доставки, что сок...</td>\n",
       "      <td>2</td>\n",
       "      <td>5</td>\n",
       "      <td>4</td>\n",
       "      <td>10</td>\n",
       "    </tr>\n",
       "    <tr>\n",
       "      <th>2</th>\n",
       "      <td>Добавить блоки рекомендаций товаров на сайт ин...</td>\n",
       "      <td>8</td>\n",
       "      <td>3</td>\n",
       "      <td>7</td>\n",
       "      <td>3</td>\n",
       "    </tr>\n",
       "    <tr>\n",
       "      <th>3</th>\n",
       "      <td>Изменить структура категорий, что увеличит кон...</td>\n",
       "      <td>8</td>\n",
       "      <td>3</td>\n",
       "      <td>3</td>\n",
       "      <td>8</td>\n",
       "    </tr>\n",
       "    <tr>\n",
       "      <th>4</th>\n",
       "      <td>Изменить цвет фона главной страницы, чтобы уве...</td>\n",
       "      <td>3</td>\n",
       "      <td>1</td>\n",
       "      <td>1</td>\n",
       "      <td>1</td>\n",
       "    </tr>\n",
       "    <tr>\n",
       "      <th>5</th>\n",
       "      <td>Добавить страницу отзывов клиентов о магазине,...</td>\n",
       "      <td>3</td>\n",
       "      <td>2</td>\n",
       "      <td>2</td>\n",
       "      <td>3</td>\n",
       "    </tr>\n",
       "    <tr>\n",
       "      <th>6</th>\n",
       "      <td>Показать на главной странице баннеры с актуаль...</td>\n",
       "      <td>5</td>\n",
       "      <td>3</td>\n",
       "      <td>8</td>\n",
       "      <td>3</td>\n",
       "    </tr>\n",
       "    <tr>\n",
       "      <th>7</th>\n",
       "      <td>Добавить форму подписки на все основные страни...</td>\n",
       "      <td>10</td>\n",
       "      <td>7</td>\n",
       "      <td>8</td>\n",
       "      <td>5</td>\n",
       "    </tr>\n",
       "    <tr>\n",
       "      <th>8</th>\n",
       "      <td>Запустить акцию, дающую скидку на товар в день...</td>\n",
       "      <td>1</td>\n",
       "      <td>9</td>\n",
       "      <td>9</td>\n",
       "      <td>5</td>\n",
       "    </tr>\n",
       "  </tbody>\n",
       "</table>\n",
       "</div>"
      ],
      "text/plain": [
       "                                          Hypothesis  Reach  Impact  \\\n",
       "0  Добавить два новых канала привлечения трафика,...      3      10   \n",
       "1  Запустить собственную службу доставки, что сок...      2       5   \n",
       "2  Добавить блоки рекомендаций товаров на сайт ин...      8       3   \n",
       "3  Изменить структура категорий, что увеличит кон...      8       3   \n",
       "4  Изменить цвет фона главной страницы, чтобы уве...      3       1   \n",
       "5  Добавить страницу отзывов клиентов о магазине,...      3       2   \n",
       "6  Показать на главной странице баннеры с актуаль...      5       3   \n",
       "7  Добавить форму подписки на все основные страни...     10       7   \n",
       "8  Запустить акцию, дающую скидку на товар в день...      1       9   \n",
       "\n",
       "   Confidence  Efforts  \n",
       "0           8        6  \n",
       "1           4       10  \n",
       "2           7        3  \n",
       "3           3        8  \n",
       "4           1        1  \n",
       "5           2        3  \n",
       "6           8        3  \n",
       "7           8        5  \n",
       "8           9        5  "
      ]
     },
     "execution_count": 4,
     "metadata": {},
     "output_type": "execute_result"
    }
   ],
   "source": [
    "hypothesis"
   ]
  },
  {
   "cell_type": "code",
   "execution_count": 5,
   "metadata": {},
   "outputs": [],
   "source": [
    "hypothesis.columns = [x.lower().replace(' ', '_') for x in hypothesis.columns.values]"
   ]
  },
  {
   "cell_type": "code",
   "execution_count": 6,
   "metadata": {},
   "outputs": [
    {
     "name": "stdout",
     "output_type": "stream",
     "text": [
      "<class 'pandas.core.frame.DataFrame'>\n",
      "RangeIndex: 9 entries, 0 to 8\n",
      "Data columns (total 5 columns):\n",
      " #   Column      Non-Null Count  Dtype \n",
      "---  ------      --------------  ----- \n",
      " 0   hypothesis  9 non-null      object\n",
      " 1   reach       9 non-null      int64 \n",
      " 2   impact      9 non-null      int64 \n",
      " 3   confidence  9 non-null      int64 \n",
      " 4   efforts     9 non-null      int64 \n",
      "dtypes: int64(4), object(1)\n",
      "memory usage: 488.0+ bytes\n"
     ]
    }
   ],
   "source": [
    "hypothesis.info()"
   ]
  },
  {
   "cell_type": "code",
   "execution_count": 7,
   "metadata": {},
   "outputs": [
    {
     "data": {
      "text/html": [
       "<div>\n",
       "<style scoped>\n",
       "    .dataframe tbody tr th:only-of-type {\n",
       "        vertical-align: middle;\n",
       "    }\n",
       "\n",
       "    .dataframe tbody tr th {\n",
       "        vertical-align: top;\n",
       "    }\n",
       "\n",
       "    .dataframe thead th {\n",
       "        text-align: right;\n",
       "    }\n",
       "</style>\n",
       "<table border=\"1\" class=\"dataframe\">\n",
       "  <thead>\n",
       "    <tr style=\"text-align: right;\">\n",
       "      <th></th>\n",
       "      <th>reach</th>\n",
       "      <th>impact</th>\n",
       "      <th>confidence</th>\n",
       "      <th>efforts</th>\n",
       "    </tr>\n",
       "  </thead>\n",
       "  <tbody>\n",
       "    <tr>\n",
       "      <th>count</th>\n",
       "      <td>9.000000</td>\n",
       "      <td>9.000000</td>\n",
       "      <td>9.000000</td>\n",
       "      <td>9.000000</td>\n",
       "    </tr>\n",
       "    <tr>\n",
       "      <th>mean</th>\n",
       "      <td>4.777778</td>\n",
       "      <td>4.777778</td>\n",
       "      <td>5.555556</td>\n",
       "      <td>4.888889</td>\n",
       "    </tr>\n",
       "    <tr>\n",
       "      <th>std</th>\n",
       "      <td>3.153481</td>\n",
       "      <td>3.192874</td>\n",
       "      <td>3.045944</td>\n",
       "      <td>2.803767</td>\n",
       "    </tr>\n",
       "    <tr>\n",
       "      <th>min</th>\n",
       "      <td>1.000000</td>\n",
       "      <td>1.000000</td>\n",
       "      <td>1.000000</td>\n",
       "      <td>1.000000</td>\n",
       "    </tr>\n",
       "    <tr>\n",
       "      <th>25%</th>\n",
       "      <td>3.000000</td>\n",
       "      <td>3.000000</td>\n",
       "      <td>3.000000</td>\n",
       "      <td>3.000000</td>\n",
       "    </tr>\n",
       "    <tr>\n",
       "      <th>50%</th>\n",
       "      <td>3.000000</td>\n",
       "      <td>3.000000</td>\n",
       "      <td>7.000000</td>\n",
       "      <td>5.000000</td>\n",
       "    </tr>\n",
       "    <tr>\n",
       "      <th>75%</th>\n",
       "      <td>8.000000</td>\n",
       "      <td>7.000000</td>\n",
       "      <td>8.000000</td>\n",
       "      <td>6.000000</td>\n",
       "    </tr>\n",
       "    <tr>\n",
       "      <th>max</th>\n",
       "      <td>10.000000</td>\n",
       "      <td>10.000000</td>\n",
       "      <td>9.000000</td>\n",
       "      <td>10.000000</td>\n",
       "    </tr>\n",
       "  </tbody>\n",
       "</table>\n",
       "</div>"
      ],
      "text/plain": [
       "           reach     impact  confidence    efforts\n",
       "count   9.000000   9.000000    9.000000   9.000000\n",
       "mean    4.777778   4.777778    5.555556   4.888889\n",
       "std     3.153481   3.192874    3.045944   2.803767\n",
       "min     1.000000   1.000000    1.000000   1.000000\n",
       "25%     3.000000   3.000000    3.000000   3.000000\n",
       "50%     3.000000   3.000000    7.000000   5.000000\n",
       "75%     8.000000   7.000000    8.000000   6.000000\n",
       "max    10.000000  10.000000    9.000000  10.000000"
      ]
     },
     "execution_count": 7,
     "metadata": {},
     "output_type": "execute_result"
    }
   ],
   "source": [
    "hypothesis.describe()"
   ]
  },
  {
   "cell_type": "code",
   "execution_count": 8,
   "metadata": {},
   "outputs": [
    {
     "data": {
      "text/plain": [
       "['Добавить два новых канала привлечения трафика, что позволит привлекать на 30% больше пользователей',\n",
       " 'Запустить собственную службу доставки, что сократит срок доставки заказов',\n",
       " 'Добавить блоки рекомендаций товаров на сайт интернет магазина, чтобы повысить конверсию и средний чек заказа',\n",
       " 'Изменить структура категорий, что увеличит конверсию, т.к. пользователи быстрее найдут нужный товар',\n",
       " 'Изменить цвет фона главной страницы, чтобы увеличить вовлеченность пользователей',\n",
       " 'Добавить страницу отзывов клиентов о магазине, что позволит увеличить количество заказов',\n",
       " 'Показать на главной странице баннеры с актуальными акциями и распродажами, чтобы увеличить конверсию',\n",
       " 'Добавить форму подписки на все основные страницы, чтобы собрать базу клиентов для email-рассылок',\n",
       " 'Запустить акцию, дающую скидку на товар в день рождения']"
      ]
     },
     "execution_count": 8,
     "metadata": {},
     "output_type": "execute_result"
    }
   ],
   "source": [
    "hypothesis['hypothesis'].tolist()"
   ]
  },
  {
   "cell_type": "markdown",
   "metadata": {},
   "source": [
    "**Промежуточные выводы:**\n",
    "- данные соответствуют описанию;\n",
    "- данные готовы для исследования."
   ]
  },
  {
   "cell_type": "markdown",
   "metadata": {},
   "source": [
    "### Фреймворк ICE."
   ]
  },
  {
   "cell_type": "code",
   "execution_count": 9,
   "metadata": {},
   "outputs": [
    {
     "data": {
      "text/html": [
       "<style  type=\"text/css\" >\n",
       "</style><table id=\"T_08afe758_aa18_11ed_bc61_b42e99b2e7ab\" ><thead>    <tr>        <th class=\"blank level0\" ></th>        <th class=\"col_heading level0 col0\" >hypothesis</th>        <th class=\"col_heading level0 col1\" >reach</th>        <th class=\"col_heading level0 col2\" >impact</th>        <th class=\"col_heading level0 col3\" >confidence</th>        <th class=\"col_heading level0 col4\" >efforts</th>        <th class=\"col_heading level0 col5\" >ice</th>    </tr></thead><tbody>\n",
       "                <tr>\n",
       "                        <th id=\"T_08afe758_aa18_11ed_bc61_b42e99b2e7ablevel0_row0\" class=\"row_heading level0 row0\" >8</th>\n",
       "                        <td id=\"T_08afe758_aa18_11ed_bc61_b42e99b2e7abrow0_col0\" class=\"data row0 col0\" >Запустить акцию, дающую скидку на товар в день рождения</td>\n",
       "                        <td id=\"T_08afe758_aa18_11ed_bc61_b42e99b2e7abrow0_col1\" class=\"data row0 col1\" >1</td>\n",
       "                        <td id=\"T_08afe758_aa18_11ed_bc61_b42e99b2e7abrow0_col2\" class=\"data row0 col2\" >9</td>\n",
       "                        <td id=\"T_08afe758_aa18_11ed_bc61_b42e99b2e7abrow0_col3\" class=\"data row0 col3\" >9</td>\n",
       "                        <td id=\"T_08afe758_aa18_11ed_bc61_b42e99b2e7abrow0_col4\" class=\"data row0 col4\" >5</td>\n",
       "                        <td id=\"T_08afe758_aa18_11ed_bc61_b42e99b2e7abrow0_col5\" class=\"data row0 col5\" >16.20</td>\n",
       "            </tr>\n",
       "            <tr>\n",
       "                        <th id=\"T_08afe758_aa18_11ed_bc61_b42e99b2e7ablevel0_row1\" class=\"row_heading level0 row1\" >0</th>\n",
       "                        <td id=\"T_08afe758_aa18_11ed_bc61_b42e99b2e7abrow1_col0\" class=\"data row1 col0\" >Добавить два новых канала привлечения трафика, что позволит привлекать на 30% больше пользователей</td>\n",
       "                        <td id=\"T_08afe758_aa18_11ed_bc61_b42e99b2e7abrow1_col1\" class=\"data row1 col1\" >3</td>\n",
       "                        <td id=\"T_08afe758_aa18_11ed_bc61_b42e99b2e7abrow1_col2\" class=\"data row1 col2\" >10</td>\n",
       "                        <td id=\"T_08afe758_aa18_11ed_bc61_b42e99b2e7abrow1_col3\" class=\"data row1 col3\" >8</td>\n",
       "                        <td id=\"T_08afe758_aa18_11ed_bc61_b42e99b2e7abrow1_col4\" class=\"data row1 col4\" >6</td>\n",
       "                        <td id=\"T_08afe758_aa18_11ed_bc61_b42e99b2e7abrow1_col5\" class=\"data row1 col5\" >13.33</td>\n",
       "            </tr>\n",
       "            <tr>\n",
       "                        <th id=\"T_08afe758_aa18_11ed_bc61_b42e99b2e7ablevel0_row2\" class=\"row_heading level0 row2\" >7</th>\n",
       "                        <td id=\"T_08afe758_aa18_11ed_bc61_b42e99b2e7abrow2_col0\" class=\"data row2 col0\" >Добавить форму подписки на все основные страницы, чтобы собрать базу клиентов для email-рассылок</td>\n",
       "                        <td id=\"T_08afe758_aa18_11ed_bc61_b42e99b2e7abrow2_col1\" class=\"data row2 col1\" >10</td>\n",
       "                        <td id=\"T_08afe758_aa18_11ed_bc61_b42e99b2e7abrow2_col2\" class=\"data row2 col2\" >7</td>\n",
       "                        <td id=\"T_08afe758_aa18_11ed_bc61_b42e99b2e7abrow2_col3\" class=\"data row2 col3\" >8</td>\n",
       "                        <td id=\"T_08afe758_aa18_11ed_bc61_b42e99b2e7abrow2_col4\" class=\"data row2 col4\" >5</td>\n",
       "                        <td id=\"T_08afe758_aa18_11ed_bc61_b42e99b2e7abrow2_col5\" class=\"data row2 col5\" >11.20</td>\n",
       "            </tr>\n",
       "            <tr>\n",
       "                        <th id=\"T_08afe758_aa18_11ed_bc61_b42e99b2e7ablevel0_row3\" class=\"row_heading level0 row3\" >6</th>\n",
       "                        <td id=\"T_08afe758_aa18_11ed_bc61_b42e99b2e7abrow3_col0\" class=\"data row3 col0\" >Показать на главной странице баннеры с актуальными акциями и распродажами, чтобы увеличить конверсию</td>\n",
       "                        <td id=\"T_08afe758_aa18_11ed_bc61_b42e99b2e7abrow3_col1\" class=\"data row3 col1\" >5</td>\n",
       "                        <td id=\"T_08afe758_aa18_11ed_bc61_b42e99b2e7abrow3_col2\" class=\"data row3 col2\" >3</td>\n",
       "                        <td id=\"T_08afe758_aa18_11ed_bc61_b42e99b2e7abrow3_col3\" class=\"data row3 col3\" >8</td>\n",
       "                        <td id=\"T_08afe758_aa18_11ed_bc61_b42e99b2e7abrow3_col4\" class=\"data row3 col4\" >3</td>\n",
       "                        <td id=\"T_08afe758_aa18_11ed_bc61_b42e99b2e7abrow3_col5\" class=\"data row3 col5\" >8.00</td>\n",
       "            </tr>\n",
       "            <tr>\n",
       "                        <th id=\"T_08afe758_aa18_11ed_bc61_b42e99b2e7ablevel0_row4\" class=\"row_heading level0 row4\" >2</th>\n",
       "                        <td id=\"T_08afe758_aa18_11ed_bc61_b42e99b2e7abrow4_col0\" class=\"data row4 col0\" >Добавить блоки рекомендаций товаров на сайт интернет магазина, чтобы повысить конверсию и средний чек заказа</td>\n",
       "                        <td id=\"T_08afe758_aa18_11ed_bc61_b42e99b2e7abrow4_col1\" class=\"data row4 col1\" >8</td>\n",
       "                        <td id=\"T_08afe758_aa18_11ed_bc61_b42e99b2e7abrow4_col2\" class=\"data row4 col2\" >3</td>\n",
       "                        <td id=\"T_08afe758_aa18_11ed_bc61_b42e99b2e7abrow4_col3\" class=\"data row4 col3\" >7</td>\n",
       "                        <td id=\"T_08afe758_aa18_11ed_bc61_b42e99b2e7abrow4_col4\" class=\"data row4 col4\" >3</td>\n",
       "                        <td id=\"T_08afe758_aa18_11ed_bc61_b42e99b2e7abrow4_col5\" class=\"data row4 col5\" >7.00</td>\n",
       "            </tr>\n",
       "            <tr>\n",
       "                        <th id=\"T_08afe758_aa18_11ed_bc61_b42e99b2e7ablevel0_row5\" class=\"row_heading level0 row5\" >1</th>\n",
       "                        <td id=\"T_08afe758_aa18_11ed_bc61_b42e99b2e7abrow5_col0\" class=\"data row5 col0\" >Запустить собственную службу доставки, что сократит срок доставки заказов</td>\n",
       "                        <td id=\"T_08afe758_aa18_11ed_bc61_b42e99b2e7abrow5_col1\" class=\"data row5 col1\" >2</td>\n",
       "                        <td id=\"T_08afe758_aa18_11ed_bc61_b42e99b2e7abrow5_col2\" class=\"data row5 col2\" >5</td>\n",
       "                        <td id=\"T_08afe758_aa18_11ed_bc61_b42e99b2e7abrow5_col3\" class=\"data row5 col3\" >4</td>\n",
       "                        <td id=\"T_08afe758_aa18_11ed_bc61_b42e99b2e7abrow5_col4\" class=\"data row5 col4\" >10</td>\n",
       "                        <td id=\"T_08afe758_aa18_11ed_bc61_b42e99b2e7abrow5_col5\" class=\"data row5 col5\" >2.00</td>\n",
       "            </tr>\n",
       "            <tr>\n",
       "                        <th id=\"T_08afe758_aa18_11ed_bc61_b42e99b2e7ablevel0_row6\" class=\"row_heading level0 row6\" >5</th>\n",
       "                        <td id=\"T_08afe758_aa18_11ed_bc61_b42e99b2e7abrow6_col0\" class=\"data row6 col0\" >Добавить страницу отзывов клиентов о магазине, что позволит увеличить количество заказов</td>\n",
       "                        <td id=\"T_08afe758_aa18_11ed_bc61_b42e99b2e7abrow6_col1\" class=\"data row6 col1\" >3</td>\n",
       "                        <td id=\"T_08afe758_aa18_11ed_bc61_b42e99b2e7abrow6_col2\" class=\"data row6 col2\" >2</td>\n",
       "                        <td id=\"T_08afe758_aa18_11ed_bc61_b42e99b2e7abrow6_col3\" class=\"data row6 col3\" >2</td>\n",
       "                        <td id=\"T_08afe758_aa18_11ed_bc61_b42e99b2e7abrow6_col4\" class=\"data row6 col4\" >3</td>\n",
       "                        <td id=\"T_08afe758_aa18_11ed_bc61_b42e99b2e7abrow6_col5\" class=\"data row6 col5\" >1.33</td>\n",
       "            </tr>\n",
       "            <tr>\n",
       "                        <th id=\"T_08afe758_aa18_11ed_bc61_b42e99b2e7ablevel0_row7\" class=\"row_heading level0 row7\" >3</th>\n",
       "                        <td id=\"T_08afe758_aa18_11ed_bc61_b42e99b2e7abrow7_col0\" class=\"data row7 col0\" >Изменить структура категорий, что увеличит конверсию, т.к. пользователи быстрее найдут нужный товар</td>\n",
       "                        <td id=\"T_08afe758_aa18_11ed_bc61_b42e99b2e7abrow7_col1\" class=\"data row7 col1\" >8</td>\n",
       "                        <td id=\"T_08afe758_aa18_11ed_bc61_b42e99b2e7abrow7_col2\" class=\"data row7 col2\" >3</td>\n",
       "                        <td id=\"T_08afe758_aa18_11ed_bc61_b42e99b2e7abrow7_col3\" class=\"data row7 col3\" >3</td>\n",
       "                        <td id=\"T_08afe758_aa18_11ed_bc61_b42e99b2e7abrow7_col4\" class=\"data row7 col4\" >8</td>\n",
       "                        <td id=\"T_08afe758_aa18_11ed_bc61_b42e99b2e7abrow7_col5\" class=\"data row7 col5\" >1.12</td>\n",
       "            </tr>\n",
       "            <tr>\n",
       "                        <th id=\"T_08afe758_aa18_11ed_bc61_b42e99b2e7ablevel0_row8\" class=\"row_heading level0 row8\" >4</th>\n",
       "                        <td id=\"T_08afe758_aa18_11ed_bc61_b42e99b2e7abrow8_col0\" class=\"data row8 col0\" >Изменить цвет фона главной страницы, чтобы увеличить вовлеченность пользователей</td>\n",
       "                        <td id=\"T_08afe758_aa18_11ed_bc61_b42e99b2e7abrow8_col1\" class=\"data row8 col1\" >3</td>\n",
       "                        <td id=\"T_08afe758_aa18_11ed_bc61_b42e99b2e7abrow8_col2\" class=\"data row8 col2\" >1</td>\n",
       "                        <td id=\"T_08afe758_aa18_11ed_bc61_b42e99b2e7abrow8_col3\" class=\"data row8 col3\" >1</td>\n",
       "                        <td id=\"T_08afe758_aa18_11ed_bc61_b42e99b2e7abrow8_col4\" class=\"data row8 col4\" >1</td>\n",
       "                        <td id=\"T_08afe758_aa18_11ed_bc61_b42e99b2e7abrow8_col5\" class=\"data row8 col5\" >1.00</td>\n",
       "            </tr>\n",
       "    </tbody></table>"
      ],
      "text/plain": [
       "<pandas.io.formats.style.Styler at 0x3dd08a58>"
      ]
     },
     "execution_count": 9,
     "metadata": {},
     "output_type": "execute_result"
    }
   ],
   "source": [
    "hypothesis['ice'] = hypothesis['impact'] * hypothesis['confidence'] / hypothesis['efforts']\n",
    "hypothesis.sort_values(by='ice', ascending=False).style.format({'ice':'{:.2f}'})"
   ]
  },
  {
   "cell_type": "markdown",
   "metadata": {},
   "source": [
    "Согласно фреймворка ICE наиболее приоритетной гипотезой является:\n",
    "\n",
    "`Запустить акцию, дающую скидку на товар в день рождения`.\n",
    "\n",
    "Этот результат достигнут за счёт сильного влияния на пользователей, высокой уверенности в показателях гипотезы и средней трудоёмкости проверки."
   ]
  },
  {
   "cell_type": "markdown",
   "metadata": {},
   "source": [
    "### Фреймворк RICE."
   ]
  },
  {
   "cell_type": "code",
   "execution_count": 10,
   "metadata": {},
   "outputs": [
    {
     "data": {
      "text/html": [
       "<style  type=\"text/css\" >\n",
       "</style><table id=\"T_08b248b8_aa18_11ed_be91_b42e99b2e7ab\" ><thead>    <tr>        <th class=\"blank level0\" ></th>        <th class=\"col_heading level0 col0\" >hypothesis</th>        <th class=\"col_heading level0 col1\" >reach</th>        <th class=\"col_heading level0 col2\" >impact</th>        <th class=\"col_heading level0 col3\" >confidence</th>        <th class=\"col_heading level0 col4\" >efforts</th>        <th class=\"col_heading level0 col5\" >ice</th>        <th class=\"col_heading level0 col6\" >rice</th>    </tr></thead><tbody>\n",
       "                <tr>\n",
       "                        <th id=\"T_08b248b8_aa18_11ed_be91_b42e99b2e7ablevel0_row0\" class=\"row_heading level0 row0\" >7</th>\n",
       "                        <td id=\"T_08b248b8_aa18_11ed_be91_b42e99b2e7abrow0_col0\" class=\"data row0 col0\" >Добавить форму подписки на все основные страницы, чтобы собрать базу клиентов для email-рассылок</td>\n",
       "                        <td id=\"T_08b248b8_aa18_11ed_be91_b42e99b2e7abrow0_col1\" class=\"data row0 col1\" >10</td>\n",
       "                        <td id=\"T_08b248b8_aa18_11ed_be91_b42e99b2e7abrow0_col2\" class=\"data row0 col2\" >7</td>\n",
       "                        <td id=\"T_08b248b8_aa18_11ed_be91_b42e99b2e7abrow0_col3\" class=\"data row0 col3\" >8</td>\n",
       "                        <td id=\"T_08b248b8_aa18_11ed_be91_b42e99b2e7abrow0_col4\" class=\"data row0 col4\" >5</td>\n",
       "                        <td id=\"T_08b248b8_aa18_11ed_be91_b42e99b2e7abrow0_col5\" class=\"data row0 col5\" >11.20</td>\n",
       "                        <td id=\"T_08b248b8_aa18_11ed_be91_b42e99b2e7abrow0_col6\" class=\"data row0 col6\" >112.00</td>\n",
       "            </tr>\n",
       "            <tr>\n",
       "                        <th id=\"T_08b248b8_aa18_11ed_be91_b42e99b2e7ablevel0_row1\" class=\"row_heading level0 row1\" >2</th>\n",
       "                        <td id=\"T_08b248b8_aa18_11ed_be91_b42e99b2e7abrow1_col0\" class=\"data row1 col0\" >Добавить блоки рекомендаций товаров на сайт интернет магазина, чтобы повысить конверсию и средний чек заказа</td>\n",
       "                        <td id=\"T_08b248b8_aa18_11ed_be91_b42e99b2e7abrow1_col1\" class=\"data row1 col1\" >8</td>\n",
       "                        <td id=\"T_08b248b8_aa18_11ed_be91_b42e99b2e7abrow1_col2\" class=\"data row1 col2\" >3</td>\n",
       "                        <td id=\"T_08b248b8_aa18_11ed_be91_b42e99b2e7abrow1_col3\" class=\"data row1 col3\" >7</td>\n",
       "                        <td id=\"T_08b248b8_aa18_11ed_be91_b42e99b2e7abrow1_col4\" class=\"data row1 col4\" >3</td>\n",
       "                        <td id=\"T_08b248b8_aa18_11ed_be91_b42e99b2e7abrow1_col5\" class=\"data row1 col5\" >7.00</td>\n",
       "                        <td id=\"T_08b248b8_aa18_11ed_be91_b42e99b2e7abrow1_col6\" class=\"data row1 col6\" >56.00</td>\n",
       "            </tr>\n",
       "            <tr>\n",
       "                        <th id=\"T_08b248b8_aa18_11ed_be91_b42e99b2e7ablevel0_row2\" class=\"row_heading level0 row2\" >0</th>\n",
       "                        <td id=\"T_08b248b8_aa18_11ed_be91_b42e99b2e7abrow2_col0\" class=\"data row2 col0\" >Добавить два новых канала привлечения трафика, что позволит привлекать на 30% больше пользователей</td>\n",
       "                        <td id=\"T_08b248b8_aa18_11ed_be91_b42e99b2e7abrow2_col1\" class=\"data row2 col1\" >3</td>\n",
       "                        <td id=\"T_08b248b8_aa18_11ed_be91_b42e99b2e7abrow2_col2\" class=\"data row2 col2\" >10</td>\n",
       "                        <td id=\"T_08b248b8_aa18_11ed_be91_b42e99b2e7abrow2_col3\" class=\"data row2 col3\" >8</td>\n",
       "                        <td id=\"T_08b248b8_aa18_11ed_be91_b42e99b2e7abrow2_col4\" class=\"data row2 col4\" >6</td>\n",
       "                        <td id=\"T_08b248b8_aa18_11ed_be91_b42e99b2e7abrow2_col5\" class=\"data row2 col5\" >13.33</td>\n",
       "                        <td id=\"T_08b248b8_aa18_11ed_be91_b42e99b2e7abrow2_col6\" class=\"data row2 col6\" >40.00</td>\n",
       "            </tr>\n",
       "            <tr>\n",
       "                        <th id=\"T_08b248b8_aa18_11ed_be91_b42e99b2e7ablevel0_row3\" class=\"row_heading level0 row3\" >6</th>\n",
       "                        <td id=\"T_08b248b8_aa18_11ed_be91_b42e99b2e7abrow3_col0\" class=\"data row3 col0\" >Показать на главной странице баннеры с актуальными акциями и распродажами, чтобы увеличить конверсию</td>\n",
       "                        <td id=\"T_08b248b8_aa18_11ed_be91_b42e99b2e7abrow3_col1\" class=\"data row3 col1\" >5</td>\n",
       "                        <td id=\"T_08b248b8_aa18_11ed_be91_b42e99b2e7abrow3_col2\" class=\"data row3 col2\" >3</td>\n",
       "                        <td id=\"T_08b248b8_aa18_11ed_be91_b42e99b2e7abrow3_col3\" class=\"data row3 col3\" >8</td>\n",
       "                        <td id=\"T_08b248b8_aa18_11ed_be91_b42e99b2e7abrow3_col4\" class=\"data row3 col4\" >3</td>\n",
       "                        <td id=\"T_08b248b8_aa18_11ed_be91_b42e99b2e7abrow3_col5\" class=\"data row3 col5\" >8.00</td>\n",
       "                        <td id=\"T_08b248b8_aa18_11ed_be91_b42e99b2e7abrow3_col6\" class=\"data row3 col6\" >40.00</td>\n",
       "            </tr>\n",
       "            <tr>\n",
       "                        <th id=\"T_08b248b8_aa18_11ed_be91_b42e99b2e7ablevel0_row4\" class=\"row_heading level0 row4\" >8</th>\n",
       "                        <td id=\"T_08b248b8_aa18_11ed_be91_b42e99b2e7abrow4_col0\" class=\"data row4 col0\" >Запустить акцию, дающую скидку на товар в день рождения</td>\n",
       "                        <td id=\"T_08b248b8_aa18_11ed_be91_b42e99b2e7abrow4_col1\" class=\"data row4 col1\" >1</td>\n",
       "                        <td id=\"T_08b248b8_aa18_11ed_be91_b42e99b2e7abrow4_col2\" class=\"data row4 col2\" >9</td>\n",
       "                        <td id=\"T_08b248b8_aa18_11ed_be91_b42e99b2e7abrow4_col3\" class=\"data row4 col3\" >9</td>\n",
       "                        <td id=\"T_08b248b8_aa18_11ed_be91_b42e99b2e7abrow4_col4\" class=\"data row4 col4\" >5</td>\n",
       "                        <td id=\"T_08b248b8_aa18_11ed_be91_b42e99b2e7abrow4_col5\" class=\"data row4 col5\" >16.20</td>\n",
       "                        <td id=\"T_08b248b8_aa18_11ed_be91_b42e99b2e7abrow4_col6\" class=\"data row4 col6\" >16.20</td>\n",
       "            </tr>\n",
       "            <tr>\n",
       "                        <th id=\"T_08b248b8_aa18_11ed_be91_b42e99b2e7ablevel0_row5\" class=\"row_heading level0 row5\" >3</th>\n",
       "                        <td id=\"T_08b248b8_aa18_11ed_be91_b42e99b2e7abrow5_col0\" class=\"data row5 col0\" >Изменить структура категорий, что увеличит конверсию, т.к. пользователи быстрее найдут нужный товар</td>\n",
       "                        <td id=\"T_08b248b8_aa18_11ed_be91_b42e99b2e7abrow5_col1\" class=\"data row5 col1\" >8</td>\n",
       "                        <td id=\"T_08b248b8_aa18_11ed_be91_b42e99b2e7abrow5_col2\" class=\"data row5 col2\" >3</td>\n",
       "                        <td id=\"T_08b248b8_aa18_11ed_be91_b42e99b2e7abrow5_col3\" class=\"data row5 col3\" >3</td>\n",
       "                        <td id=\"T_08b248b8_aa18_11ed_be91_b42e99b2e7abrow5_col4\" class=\"data row5 col4\" >8</td>\n",
       "                        <td id=\"T_08b248b8_aa18_11ed_be91_b42e99b2e7abrow5_col5\" class=\"data row5 col5\" >1.12</td>\n",
       "                        <td id=\"T_08b248b8_aa18_11ed_be91_b42e99b2e7abrow5_col6\" class=\"data row5 col6\" >9.00</td>\n",
       "            </tr>\n",
       "            <tr>\n",
       "                        <th id=\"T_08b248b8_aa18_11ed_be91_b42e99b2e7ablevel0_row6\" class=\"row_heading level0 row6\" >1</th>\n",
       "                        <td id=\"T_08b248b8_aa18_11ed_be91_b42e99b2e7abrow6_col0\" class=\"data row6 col0\" >Запустить собственную службу доставки, что сократит срок доставки заказов</td>\n",
       "                        <td id=\"T_08b248b8_aa18_11ed_be91_b42e99b2e7abrow6_col1\" class=\"data row6 col1\" >2</td>\n",
       "                        <td id=\"T_08b248b8_aa18_11ed_be91_b42e99b2e7abrow6_col2\" class=\"data row6 col2\" >5</td>\n",
       "                        <td id=\"T_08b248b8_aa18_11ed_be91_b42e99b2e7abrow6_col3\" class=\"data row6 col3\" >4</td>\n",
       "                        <td id=\"T_08b248b8_aa18_11ed_be91_b42e99b2e7abrow6_col4\" class=\"data row6 col4\" >10</td>\n",
       "                        <td id=\"T_08b248b8_aa18_11ed_be91_b42e99b2e7abrow6_col5\" class=\"data row6 col5\" >2.00</td>\n",
       "                        <td id=\"T_08b248b8_aa18_11ed_be91_b42e99b2e7abrow6_col6\" class=\"data row6 col6\" >4.00</td>\n",
       "            </tr>\n",
       "            <tr>\n",
       "                        <th id=\"T_08b248b8_aa18_11ed_be91_b42e99b2e7ablevel0_row7\" class=\"row_heading level0 row7\" >5</th>\n",
       "                        <td id=\"T_08b248b8_aa18_11ed_be91_b42e99b2e7abrow7_col0\" class=\"data row7 col0\" >Добавить страницу отзывов клиентов о магазине, что позволит увеличить количество заказов</td>\n",
       "                        <td id=\"T_08b248b8_aa18_11ed_be91_b42e99b2e7abrow7_col1\" class=\"data row7 col1\" >3</td>\n",
       "                        <td id=\"T_08b248b8_aa18_11ed_be91_b42e99b2e7abrow7_col2\" class=\"data row7 col2\" >2</td>\n",
       "                        <td id=\"T_08b248b8_aa18_11ed_be91_b42e99b2e7abrow7_col3\" class=\"data row7 col3\" >2</td>\n",
       "                        <td id=\"T_08b248b8_aa18_11ed_be91_b42e99b2e7abrow7_col4\" class=\"data row7 col4\" >3</td>\n",
       "                        <td id=\"T_08b248b8_aa18_11ed_be91_b42e99b2e7abrow7_col5\" class=\"data row7 col5\" >1.33</td>\n",
       "                        <td id=\"T_08b248b8_aa18_11ed_be91_b42e99b2e7abrow7_col6\" class=\"data row7 col6\" >4.00</td>\n",
       "            </tr>\n",
       "            <tr>\n",
       "                        <th id=\"T_08b248b8_aa18_11ed_be91_b42e99b2e7ablevel0_row8\" class=\"row_heading level0 row8\" >4</th>\n",
       "                        <td id=\"T_08b248b8_aa18_11ed_be91_b42e99b2e7abrow8_col0\" class=\"data row8 col0\" >Изменить цвет фона главной страницы, чтобы увеличить вовлеченность пользователей</td>\n",
       "                        <td id=\"T_08b248b8_aa18_11ed_be91_b42e99b2e7abrow8_col1\" class=\"data row8 col1\" >3</td>\n",
       "                        <td id=\"T_08b248b8_aa18_11ed_be91_b42e99b2e7abrow8_col2\" class=\"data row8 col2\" >1</td>\n",
       "                        <td id=\"T_08b248b8_aa18_11ed_be91_b42e99b2e7abrow8_col3\" class=\"data row8 col3\" >1</td>\n",
       "                        <td id=\"T_08b248b8_aa18_11ed_be91_b42e99b2e7abrow8_col4\" class=\"data row8 col4\" >1</td>\n",
       "                        <td id=\"T_08b248b8_aa18_11ed_be91_b42e99b2e7abrow8_col5\" class=\"data row8 col5\" >1.00</td>\n",
       "                        <td id=\"T_08b248b8_aa18_11ed_be91_b42e99b2e7abrow8_col6\" class=\"data row8 col6\" >3.00</td>\n",
       "            </tr>\n",
       "    </tbody></table>"
      ],
      "text/plain": [
       "<pandas.io.formats.style.Styler at 0x3ea24668>"
      ]
     },
     "execution_count": 10,
     "metadata": {},
     "output_type": "execute_result"
    }
   ],
   "source": [
    "hypothesis['rice'] = hypothesis['reach'] * hypothesis['impact'] * hypothesis['confidence'] / hypothesis['efforts']\n",
    "hypothesis.sort_values(by='rice', ascending=False).style.format({'ice':'{:.2f}', 'rice':'{:.2f}'})"
   ]
  },
  {
   "cell_type": "markdown",
   "metadata": {},
   "source": [
    "Согласно фреймворка RICE наиболее приоритетной гипотезой является:\n",
    "\n",
    "`Добавить форму подписки на все основные страницы, чтобы собрать базу клиентов для email-рассылок`.\n",
    "\n",
    "Этот результат достигнут за счёт максимального охвата пользователей (10 из 10) при средних иных показателях гипотезы. На второе место из середины списка по ICE по той же причине поднялась гипотеза `Добавить блоки рекомендаций товаров на сайт интернет магазина...`\n",
    "\n",
    "Гипотезы-лидеры по ICE оказались в середине списка: это произошло из-за малого охвата этих гипотез."
   ]
  },
  {
   "cell_type": "code",
   "execution_count": 11,
   "metadata": {},
   "outputs": [
    {
     "data": {
      "image/png": "[encoded data removed]",
      "text/plain": [
       "<Figure size 864x432 with 1 Axes>"
      ]
     },
     "metadata": {
      "needs_background": "light"
     },
     "output_type": "display_data"
    }
   ],
   "source": [
    "plt.figure(figsize=(12, 6))\n",
    "ax = plt.subplot()\n",
    "offset = 0.2\n",
    "n_ticks = np.arange(len(hypothesis['ice']))\n",
    "plt.bar(n_ticks - offset, hypothesis['ice'], width=0.4, color='#1986BA')\n",
    "plt.bar(n_ticks + offset, hypothesis['rice'], width=0.4, color='#FF0000')\n",
    "\n",
    "ax.xaxis.set_major_locator(MultipleLocator(base=1))\n",
    "ax.yaxis.set_major_locator(MultipleLocator(base=10))\n",
    "plt.grid(which='major', color='grey', linewidth=0.5)\n",
    "plt.legend(['ICE', 'RICE'], loc='upper left')\n",
    "plt.title('Приоритизация гипотез')\n",
    "plt.xlabel('Гипотезы')\n",
    "plt.ylabel('Баллов')\n",
    "\n",
    "plt.show()"
   ]
  },
  {
   "cell_type": "markdown",
   "metadata": {},
   "source": [
    "**Промежуточные выводы:**\n",
    "- проведена приоритизация гипотез по ICE и RICE;\n",
    "- согласно фреймворка ICE наиболее приоритетной гипотезой является: \n",
    "`Запустить акцию, дающую скидку на товар в день рождения`;\n",
    "- согласно фреймворка RICE наиболее приоритетной гипотезой является: `Добавить форму подписки на все основные страницы, чтобы собрать базу клиентов для email-рассылок`."
   ]
  },
  {
   "cell_type": "markdown",
   "metadata": {},
   "source": [
    "---"
   ]
  },
  {
   "cell_type": "markdown",
   "metadata": {},
   "source": [
    "## Часть 2. Анализ A/B-теста."
   ]
  },
  {
   "cell_type": "code",
   "execution_count": 13,
   "metadata": {},
   "outputs": [
    {
     "data": {
      "text/html": [
       "<div>\n",
       "<style scoped>\n",
       "    .dataframe tbody tr th:only-of-type {\n",
       "        vertical-align: middle;\n",
       "    }\n",
       "\n",
       "    .dataframe tbody tr th {\n",
       "        vertical-align: top;\n",
       "    }\n",
       "\n",
       "    .dataframe thead th {\n",
       "        text-align: right;\n",
       "    }\n",
       "</style>\n",
       "<table border=\"1\" class=\"dataframe\">\n",
       "  <thead>\n",
       "    <tr style=\"text-align: right;\">\n",
       "      <th></th>\n",
       "      <th>transactionId</th>\n",
       "      <th>visitorId</th>\n",
       "      <th>date</th>\n",
       "      <th>revenue</th>\n",
       "      <th>group</th>\n",
       "    </tr>\n",
       "  </thead>\n",
       "  <tbody>\n",
       "    <tr>\n",
       "      <th>0</th>\n",
       "      <td>3667963787</td>\n",
       "      <td>3312258926</td>\n",
       "      <td>2019-08-15</td>\n",
       "      <td>1650</td>\n",
       "      <td>B</td>\n",
       "    </tr>\n",
       "    <tr>\n",
       "      <th>1</th>\n",
       "      <td>2804400009</td>\n",
       "      <td>3642806036</td>\n",
       "      <td>2019-08-15</td>\n",
       "      <td>730</td>\n",
       "      <td>B</td>\n",
       "    </tr>\n",
       "    <tr>\n",
       "      <th>2</th>\n",
       "      <td>2961555356</td>\n",
       "      <td>4069496402</td>\n",
       "      <td>2019-08-15</td>\n",
       "      <td>400</td>\n",
       "      <td>A</td>\n",
       "    </tr>\n",
       "    <tr>\n",
       "      <th>3</th>\n",
       "      <td>3797467345</td>\n",
       "      <td>1196621759</td>\n",
       "      <td>2019-08-15</td>\n",
       "      <td>9759</td>\n",
       "      <td>B</td>\n",
       "    </tr>\n",
       "    <tr>\n",
       "      <th>4</th>\n",
       "      <td>2282983706</td>\n",
       "      <td>2322279887</td>\n",
       "      <td>2019-08-15</td>\n",
       "      <td>2308</td>\n",
       "      <td>B</td>\n",
       "    </tr>\n",
       "  </tbody>\n",
       "</table>\n",
       "</div>"
      ],
      "text/plain": [
       "   transactionId   visitorId        date  revenue group\n",
       "0     3667963787  3312258926  2019-08-15     1650     B\n",
       "1     2804400009  3642806036  2019-08-15      730     B\n",
       "2     2961555356  4069496402  2019-08-15      400     A\n",
       "3     3797467345  1196621759  2019-08-15     9759     B\n",
       "4     2282983706  2322279887  2019-08-15     2308     B"
      ]
     },
     "execution_count": 13,
     "metadata": {},
     "output_type": "execute_result"
    }
   ],
   "source": [
    "orders.head()"
   ]
  },
  {
   "cell_type": "code",
   "execution_count": 14,
   "metadata": {},
   "outputs": [
    {
     "name": "stdout",
     "output_type": "stream",
     "text": [
      "<class 'pandas.core.frame.DataFrame'>\n",
      "RangeIndex: 1197 entries, 0 to 1196\n",
      "Data columns (total 5 columns):\n",
      " #   Column         Non-Null Count  Dtype \n",
      "---  ------         --------------  ----- \n",
      " 0   transactionId  1197 non-null   int64 \n",
      " 1   visitorId      1197 non-null   int64 \n",
      " 2   date           1197 non-null   object\n",
      " 3   revenue        1197 non-null   int64 \n",
      " 4   group          1197 non-null   object\n",
      "dtypes: int64(3), object(2)\n",
      "memory usage: 46.9+ KB\n"
     ]
    }
   ],
   "source": [
    "orders.info()"
   ]
  },
  {
   "cell_type": "code",
   "execution_count": 15,
   "metadata": {},
   "outputs": [
    {
     "data": {
      "text/plain": [
       "0"
      ]
     },
     "execution_count": 15,
     "metadata": {},
     "output_type": "execute_result"
    }
   ],
   "source": [
    "orders.duplicated().sum()"
   ]
  },
  {
   "cell_type": "code",
   "execution_count": 16,
   "metadata": {},
   "outputs": [
    {
     "data": {
      "text/plain": [
       "1197"
      ]
     },
     "execution_count": 16,
     "metadata": {},
     "output_type": "execute_result"
    }
   ],
   "source": [
    "orders['transactionId'].nunique()"
   ]
  },
  {
   "cell_type": "code",
   "execution_count": 17,
   "metadata": {},
   "outputs": [
    {
     "data": {
      "text/plain": [
       "1031"
      ]
     },
     "execution_count": 17,
     "metadata": {},
     "output_type": "execute_result"
    }
   ],
   "source": [
    "orders['visitorId'].nunique()"
   ]
  },
  {
   "cell_type": "code",
   "execution_count": 18,
   "metadata": {},
   "outputs": [],
   "source": [
    "orders['date'] = orders['date'].map(lambda x: dt.datetime.strptime(x, '%Y-%m-%d'))"
   ]
  },
  {
   "cell_type": "code",
   "execution_count": 19,
   "metadata": {},
   "outputs": [
    {
     "name": "stdout",
     "output_type": "stream",
     "text": [
      "Данные в диапазоне: 2019-08-01 00:00:00 -- 2019-08-31 00:00:00\n"
     ]
    }
   ],
   "source": [
    "print('Данные в диапазоне:', orders['date'].min(), '--', orders['date'].max())"
   ]
  },
  {
   "cell_type": "code",
   "execution_count": 20,
   "metadata": {},
   "outputs": [
    {
     "data": {
      "text/plain": [
       "count    1.197000e+03\n",
       "mean     8.348006e+03\n",
       "std      3.919113e+04\n",
       "min      5.000000e+01\n",
       "25%      1.220000e+03\n",
       "50%      2.978000e+03\n",
       "75%      8.290000e+03\n",
       "max      1.294500e+06\n",
       "Name: revenue, dtype: float64"
      ]
     },
     "execution_count": 20,
     "metadata": {},
     "output_type": "execute_result"
    }
   ],
   "source": [
    "orders['revenue'].describe()"
   ]
  },
  {
   "cell_type": "code",
   "execution_count": 21,
   "metadata": {},
   "outputs": [
    {
     "data": {
      "text/plain": [
       "array(['B', 'A'], dtype=object)"
      ]
     },
     "execution_count": 21,
     "metadata": {},
     "output_type": "execute_result"
    }
   ],
   "source": [
    "orders['group'].unique()"
   ]
  },
  {
   "cell_type": "code",
   "execution_count": null,
   "metadata": {},
   "outputs": [],
   "source": []
  },
  {
   "cell_type": "code",
   "execution_count": 22,
   "metadata": {},
   "outputs": [],
   "source": [
    "visitors = pd.read_csv('visitors.csv', sep=',')"
   ]
  },
  {
   "cell_type": "code",
   "execution_count": 23,
   "metadata": {},
   "outputs": [
    {
     "data": {
      "text/html": [
       "<div>\n",
       "<style scoped>\n",
       "    .dataframe tbody tr th:only-of-type {\n",
       "        vertical-align: middle;\n",
       "    }\n",
       "\n",
       "    .dataframe tbody tr th {\n",
       "        vertical-align: top;\n",
       "    }\n",
       "\n",
       "    .dataframe thead th {\n",
       "        text-align: right;\n",
       "    }\n",
       "</style>\n",
       "<table border=\"1\" class=\"dataframe\">\n",
       "  <thead>\n",
       "    <tr style=\"text-align: right;\">\n",
       "      <th></th>\n",
       "      <th>date</th>\n",
       "      <th>group</th>\n",
       "      <th>visitors</th>\n",
       "    </tr>\n",
       "  </thead>\n",
       "  <tbody>\n",
       "    <tr>\n",
       "      <th>0</th>\n",
       "      <td>2019-08-01</td>\n",
       "      <td>A</td>\n",
       "      <td>719</td>\n",
       "    </tr>\n",
       "    <tr>\n",
       "      <th>1</th>\n",
       "      <td>2019-08-02</td>\n",
       "      <td>A</td>\n",
       "      <td>619</td>\n",
       "    </tr>\n",
       "    <tr>\n",
       "      <th>2</th>\n",
       "      <td>2019-08-03</td>\n",
       "      <td>A</td>\n",
       "      <td>507</td>\n",
       "    </tr>\n",
       "    <tr>\n",
       "      <th>3</th>\n",
       "      <td>2019-08-04</td>\n",
       "      <td>A</td>\n",
       "      <td>717</td>\n",
       "    </tr>\n",
       "    <tr>\n",
       "      <th>4</th>\n",
       "      <td>2019-08-05</td>\n",
       "      <td>A</td>\n",
       "      <td>756</td>\n",
       "    </tr>\n",
       "  </tbody>\n",
       "</table>\n",
       "</div>"
      ],
      "text/plain": [
       "         date group  visitors\n",
       "0  2019-08-01     A       719\n",
       "1  2019-08-02     A       619\n",
       "2  2019-08-03     A       507\n",
       "3  2019-08-04     A       717\n",
       "4  2019-08-05     A       756"
      ]
     },
     "execution_count": 23,
     "metadata": {},
     "output_type": "execute_result"
    }
   ],
   "source": [
    "visitors.head()"
   ]
  },
  {
   "cell_type": "code",
   "execution_count": 24,
   "metadata": {},
   "outputs": [
    {
     "name": "stdout",
     "output_type": "stream",
     "text": [
      "<class 'pandas.core.frame.DataFrame'>\n",
      "RangeIndex: 62 entries, 0 to 61\n",
      "Data columns (total 3 columns):\n",
      " #   Column    Non-Null Count  Dtype \n",
      "---  ------    --------------  ----- \n",
      " 0   date      62 non-null     object\n",
      " 1   group     62 non-null     object\n",
      " 2   visitors  62 non-null     int64 \n",
      "dtypes: int64(1), object(2)\n",
      "memory usage: 1.6+ KB\n"
     ]
    }
   ],
   "source": [
    "visitors.info()"
   ]
  },
  {
   "cell_type": "code",
   "execution_count": 25,
   "metadata": {},
   "outputs": [
    {
     "data": {
      "text/plain": [
       "0"
      ]
     },
     "execution_count": 25,
     "metadata": {},
     "output_type": "execute_result"
    }
   ],
   "source": [
    "visitors.duplicated().sum()"
   ]
  },
  {
   "cell_type": "code",
   "execution_count": 26,
   "metadata": {},
   "outputs": [],
   "source": [
    "visitors['date'] = visitors['date'].map(lambda x: dt.datetime.strptime(x, '%Y-%m-%d'))"
   ]
  },
  {
   "cell_type": "code",
   "execution_count": 27,
   "metadata": {},
   "outputs": [
    {
     "name": "stdout",
     "output_type": "stream",
     "text": [
      "Данные в диапазоне: 2019-08-01 00:00:00 -- 2019-08-31 00:00:00\n"
     ]
    }
   ],
   "source": [
    "print('Данные в диапазоне:', visitors['date'].min(), '--', visitors['date'].max())"
   ]
  },
  {
   "cell_type": "code",
   "execution_count": 28,
   "metadata": {},
   "outputs": [
    {
     "data": {
      "text/plain": [
       "array(['A', 'B'], dtype=object)"
      ]
     },
     "execution_count": 28,
     "metadata": {},
     "output_type": "execute_result"
    }
   ],
   "source": [
    "visitors['group'].unique()"
   ]
  },
  {
   "cell_type": "code",
   "execution_count": 29,
   "metadata": {},
   "outputs": [
    {
     "data": {
      "text/plain": [
       "count     62.000000\n",
       "mean     607.290323\n",
       "std      114.400560\n",
       "min      361.000000\n",
       "25%      534.000000\n",
       "50%      624.500000\n",
       "75%      710.500000\n",
       "max      770.000000\n",
       "Name: visitors, dtype: float64"
      ]
     },
     "execution_count": 29,
     "metadata": {},
     "output_type": "execute_result"
    }
   ],
   "source": [
    "visitors['visitors'].describe()"
   ]
  },
  {
   "cell_type": "markdown",
   "metadata": {},
   "source": [
    "**Промежуточные выводы:**\n",
    "- изучены данные о посетителях сайта магазина и заказах;\n",
    "- в целом данные корректны, готовы к дальнейшему использованию;\n",
    "- данные соответствуют описанию;\n",
    "- изменили форматы данных о датах."
   ]
  },
  {
   "cell_type": "markdown",
   "metadata": {},
   "source": [
    "### Исследование, имитирующее A/A-тест.\n",
    "\n",
    "Проверили выполнение следующих условий."
   ]
  },
  {
   "cell_type": "markdown",
   "metadata": {},
   "source": [
    "1. Количество пользователей в различных группах различается не более, чем на 1%."
   ]
  },
  {
   "cell_type": "code",
   "execution_count": 30,
   "metadata": {},
   "outputs": [
    {
     "data": {
      "text/html": [
       "<div>\n",
       "<style scoped>\n",
       "    .dataframe tbody tr th:only-of-type {\n",
       "        vertical-align: middle;\n",
       "    }\n",
       "\n",
       "    .dataframe tbody tr th {\n",
       "        vertical-align: top;\n",
       "    }\n",
       "\n",
       "    .dataframe thead th {\n",
       "        text-align: right;\n",
       "    }\n",
       "</style>\n",
       "<table border=\"1\" class=\"dataframe\">\n",
       "  <thead>\n",
       "    <tr style=\"text-align: right;\">\n",
       "      <th></th>\n",
       "      <th>group</th>\n",
       "      <th>visitors</th>\n",
       "    </tr>\n",
       "  </thead>\n",
       "  <tbody>\n",
       "    <tr>\n",
       "      <th>0</th>\n",
       "      <td>A</td>\n",
       "      <td>503</td>\n",
       "    </tr>\n",
       "    <tr>\n",
       "      <th>1</th>\n",
       "      <td>B</td>\n",
       "      <td>586</td>\n",
       "    </tr>\n",
       "  </tbody>\n",
       "</table>\n",
       "</div>"
      ],
      "text/plain": [
       "  group  visitors\n",
       "0     A       503\n",
       "1     B       586"
      ]
     },
     "execution_count": 30,
     "metadata": {},
     "output_type": "execute_result"
    }
   ],
   "source": [
    "orders_in_group = orders.groupby('group', as_index=False).agg(visitors=('visitorId', 'nunique'))\n",
    "orders_in_group"
   ]
  },
  {
   "cell_type": "code",
   "execution_count": 31,
   "metadata": {},
   "outputs": [
    {
     "name": "stdout",
     "output_type": "stream",
     "text": [
      "Количество пользователей в группах покупателей различается на 14.16%\n"
     ]
    }
   ],
   "source": [
    "print('Количество пользователей в группах покупателей различается на {:.2%}'.\\\n",
    "      format(abs(1 - orders_in_group.loc[0, 'visitors'] / orders_in_group.loc[1, 'visitors'])))"
   ]
  },
  {
   "cell_type": "code",
   "execution_count": 32,
   "metadata": {},
   "outputs": [
    {
     "data": {
      "text/html": [
       "<div>\n",
       "<style scoped>\n",
       "    .dataframe tbody tr th:only-of-type {\n",
       "        vertical-align: middle;\n",
       "    }\n",
       "\n",
       "    .dataframe tbody tr th {\n",
       "        vertical-align: top;\n",
       "    }\n",
       "\n",
       "    .dataframe thead th {\n",
       "        text-align: right;\n",
       "    }\n",
       "</style>\n",
       "<table border=\"1\" class=\"dataframe\">\n",
       "  <thead>\n",
       "    <tr style=\"text-align: right;\">\n",
       "      <th></th>\n",
       "      <th>group</th>\n",
       "      <th>visitors</th>\n",
       "    </tr>\n",
       "  </thead>\n",
       "  <tbody>\n",
       "    <tr>\n",
       "      <th>0</th>\n",
       "      <td>A</td>\n",
       "      <td>31</td>\n",
       "    </tr>\n",
       "    <tr>\n",
       "      <th>1</th>\n",
       "      <td>B</td>\n",
       "      <td>30</td>\n",
       "    </tr>\n",
       "  </tbody>\n",
       "</table>\n",
       "</div>"
      ],
      "text/plain": [
       "  group  visitors\n",
       "0     A        31\n",
       "1     B        30"
      ]
     },
     "execution_count": 32,
     "metadata": {},
     "output_type": "execute_result"
    }
   ],
   "source": [
    "visitors_in_group = visitors.groupby('group', as_index=False).agg({'visitors': 'nunique'})\n",
    "visitors_in_group"
   ]
  },
  {
   "cell_type": "code",
   "execution_count": 33,
   "metadata": {},
   "outputs": [
    {
     "name": "stdout",
     "output_type": "stream",
     "text": [
      "Количество пользователей в группах посетителей различается на 3.33%\n"
     ]
    }
   ],
   "source": [
    "print('Количество пользователей в группах посетителей различается на {:.2%}'.\\\n",
    "      format(abs(1 - visitors_in_group.loc[0, 'visitors'] / visitors_in_group.loc[1, 'visitors'])))"
   ]
  },
  {
   "cell_type": "markdown",
   "metadata": {},
   "source": [
    "2. Для всех групп фиксируют и отправляют в системы аналитики данные об одном и том же.\n",
    "\n",
    "Да."
   ]
  },
  {
   "cell_type": "markdown",
   "metadata": {},
   "source": [
    "3. Различие ключевых метрик по группам не превышает 1% и не имеет статистической значимости.\n",
    "\n",
    "Стат. значимость не проверяли."
   ]
  },
  {
   "cell_type": "markdown",
   "metadata": {},
   "source": [
    "4. Попавший в одну из групп посетитель остаётся в этой группе до конца теста."
   ]
  },
  {
   "cell_type": "code",
   "execution_count": 34,
   "metadata": {},
   "outputs": [],
   "source": [
    "A_users = orders.query('group == \"A\"')['visitorId'].unique()"
   ]
  },
  {
   "cell_type": "code",
   "execution_count": 35,
   "metadata": {},
   "outputs": [],
   "source": [
    "AB_users = orders.query('(group == \"B\") and (visitorId in @A_users)')['visitorId'].unique()"
   ]
  },
  {
   "cell_type": "code",
   "execution_count": 36,
   "metadata": {},
   "outputs": [
    {
     "name": "stdout",
     "output_type": "stream",
     "text": [
      "Доля дублирующих пользователей от всех уникальных 5.63%\n",
      "Доля дублирующих пользователей от выборки 4.85%\n"
     ]
    }
   ],
   "source": [
    "print('Доля дублирующих пользователей от всех уникальных {:.2%}'.format(len(AB_users) / orders['visitorId'].nunique()))\n",
    "print('Доля дублирующих пользователей от выборки {:.2%}'.format(len(AB_users) / orders.shape[0]))"
   ]
  },
  {
   "cell_type": "markdown",
   "metadata": {},
   "source": [
    "Исследование должно быть на этом этапе прекращено и проведено с начала.\n",
    "\n",
    "Однако для нужд настоящего проекта не учитывали дублирующих пользователей.\n",
    "\n",
    "**Здесь и далее в качестве фрейма с данными о заказах применяли `orders_uniq`.**"
   ]
  },
  {
   "cell_type": "code",
   "execution_count": 37,
   "metadata": {},
   "outputs": [
    {
     "name": "stdout",
     "output_type": "stream",
     "text": [
      "<class 'pandas.core.frame.DataFrame'>\n",
      "Int64Index: 1016 entries, 0 to 1196\n",
      "Data columns (total 5 columns):\n",
      " #   Column         Non-Null Count  Dtype         \n",
      "---  ------         --------------  -----         \n",
      " 0   transactionId  1016 non-null   int64         \n",
      " 1   visitorId      1016 non-null   int64         \n",
      " 2   date           1016 non-null   datetime64[ns]\n",
      " 3   revenue        1016 non-null   int64         \n",
      " 4   group          1016 non-null   object        \n",
      "dtypes: datetime64[ns](1), int64(3), object(1)\n",
      "memory usage: 47.6+ KB\n"
     ]
    }
   ],
   "source": [
    "orders_uniq = orders.query('visitorId not in @AB_users')\n",
    "orders_uniq.info()"
   ]
  },
  {
   "cell_type": "markdown",
   "metadata": {},
   "source": [
    "**Промежуточные выводы:**\n",
    "- провели исследование, имитирующее A/A-тест;\n",
    "- установили, что не все необходимые для A/B-теста условия выполнены;\n",
    "- исправили недостатки удалением дублирующих пользователей, их оказалось около 5 %."
   ]
  },
  {
   "cell_type": "markdown",
   "metadata": {},
   "source": [
    "### Графики кумулятивной выручки по группам."
   ]
  },
  {
   "cell_type": "code",
   "execution_count": 38,
   "metadata": {},
   "outputs": [
    {
     "data": {
      "text/html": [
       "<div>\n",
       "<style scoped>\n",
       "    .dataframe tbody tr th:only-of-type {\n",
       "        vertical-align: middle;\n",
       "    }\n",
       "\n",
       "    .dataframe tbody tr th {\n",
       "        vertical-align: top;\n",
       "    }\n",
       "\n",
       "    .dataframe thead th {\n",
       "        text-align: right;\n",
       "    }\n",
       "</style>\n",
       "<table border=\"1\" class=\"dataframe\">\n",
       "  <thead>\n",
       "    <tr style=\"text-align: right;\">\n",
       "      <th></th>\n",
       "      <th>transactionId</th>\n",
       "      <th>visitorId</th>\n",
       "      <th>date</th>\n",
       "      <th>revenue</th>\n",
       "      <th>group</th>\n",
       "    </tr>\n",
       "  </thead>\n",
       "  <tbody>\n",
       "    <tr>\n",
       "      <th>0</th>\n",
       "      <td>3667963787</td>\n",
       "      <td>3312258926</td>\n",
       "      <td>2019-08-15</td>\n",
       "      <td>1650</td>\n",
       "      <td>B</td>\n",
       "    </tr>\n",
       "    <tr>\n",
       "      <th>1</th>\n",
       "      <td>2804400009</td>\n",
       "      <td>3642806036</td>\n",
       "      <td>2019-08-15</td>\n",
       "      <td>730</td>\n",
       "      <td>B</td>\n",
       "    </tr>\n",
       "    <tr>\n",
       "      <th>3</th>\n",
       "      <td>3797467345</td>\n",
       "      <td>1196621759</td>\n",
       "      <td>2019-08-15</td>\n",
       "      <td>9759</td>\n",
       "      <td>B</td>\n",
       "    </tr>\n",
       "    <tr>\n",
       "      <th>4</th>\n",
       "      <td>2282983706</td>\n",
       "      <td>2322279887</td>\n",
       "      <td>2019-08-15</td>\n",
       "      <td>2308</td>\n",
       "      <td>B</td>\n",
       "    </tr>\n",
       "    <tr>\n",
       "      <th>5</th>\n",
       "      <td>182168103</td>\n",
       "      <td>935554773</td>\n",
       "      <td>2019-08-15</td>\n",
       "      <td>2210</td>\n",
       "      <td>B</td>\n",
       "    </tr>\n",
       "  </tbody>\n",
       "</table>\n",
       "</div>"
      ],
      "text/plain": [
       "   transactionId   visitorId       date  revenue group\n",
       "0     3667963787  3312258926 2019-08-15     1650     B\n",
       "1     2804400009  3642806036 2019-08-15      730     B\n",
       "3     3797467345  1196621759 2019-08-15     9759     B\n",
       "4     2282983706  2322279887 2019-08-15     2308     B\n",
       "5      182168103   935554773 2019-08-15     2210     B"
      ]
     },
     "execution_count": 38,
     "metadata": {},
     "output_type": "execute_result"
    }
   ],
   "source": [
    "orders_uniq.head()"
   ]
  },
  {
   "cell_type": "markdown",
   "metadata": {},
   "source": [
    "**Для клиентов из группы A:**"
   ]
  },
  {
   "cell_type": "code",
   "execution_count": 39,
   "metadata": {},
   "outputs": [],
   "source": [
    "orders_A_dayly = orders_uniq.query('group == \"A\"').\\\n",
    "groupby('date', as_index=False).\\\n",
    "agg(day_orders=('transactionId', 'nunique'), day_revenue=('revenue', 'sum'))"
   ]
  },
  {
   "cell_type": "code",
   "execution_count": 40,
   "metadata": {},
   "outputs": [
    {
     "data": {
      "text/html": [
       "<div>\n",
       "<style scoped>\n",
       "    .dataframe tbody tr th:only-of-type {\n",
       "        vertical-align: middle;\n",
       "    }\n",
       "\n",
       "    .dataframe tbody tr th {\n",
       "        vertical-align: top;\n",
       "    }\n",
       "\n",
       "    .dataframe thead th {\n",
       "        text-align: right;\n",
       "    }\n",
       "</style>\n",
       "<table border=\"1\" class=\"dataframe\">\n",
       "  <thead>\n",
       "    <tr style=\"text-align: right;\">\n",
       "      <th></th>\n",
       "      <th>date</th>\n",
       "      <th>day_orders_cumm</th>\n",
       "      <th>day_revenue_cumm</th>\n",
       "    </tr>\n",
       "  </thead>\n",
       "  <tbody>\n",
       "    <tr>\n",
       "      <th>0</th>\n",
       "      <td>2019-08-01</td>\n",
       "      <td>23</td>\n",
       "      <td>142779</td>\n",
       "    </tr>\n",
       "    <tr>\n",
       "      <th>1</th>\n",
       "      <td>2019-08-02</td>\n",
       "      <td>42</td>\n",
       "      <td>234381</td>\n",
       "    </tr>\n",
       "    <tr>\n",
       "      <th>2</th>\n",
       "      <td>2019-08-03</td>\n",
       "      <td>66</td>\n",
       "      <td>346854</td>\n",
       "    </tr>\n",
       "    <tr>\n",
       "      <th>3</th>\n",
       "      <td>2019-08-04</td>\n",
       "      <td>77</td>\n",
       "      <td>388030</td>\n",
       "    </tr>\n",
       "    <tr>\n",
       "      <th>4</th>\n",
       "      <td>2019-08-05</td>\n",
       "      <td>99</td>\n",
       "      <td>474413</td>\n",
       "    </tr>\n",
       "  </tbody>\n",
       "</table>\n",
       "</div>"
      ],
      "text/plain": [
       "        date  day_orders_cumm  day_revenue_cumm\n",
       "0 2019-08-01               23            142779\n",
       "1 2019-08-02               42            234381\n",
       "2 2019-08-03               66            346854\n",
       "3 2019-08-04               77            388030\n",
       "4 2019-08-05               99            474413"
      ]
     },
     "execution_count": 40,
     "metadata": {},
     "output_type": "execute_result"
    }
   ],
   "source": [
    "orders_A_cumm = orders_A_dayly.apply(lambda x: orders_A_dayly[orders_A_dayly['date'] <= x['date']].\\\n",
    "                                     agg({'date': 'max', 'day_orders': 'sum', 'day_revenue': 'sum'}), axis=1).\\\n",
    "sort_values(by='date')\n",
    "orders_A_cumm.columns = ['date', 'day_orders_cumm', 'day_revenue_cumm']\n",
    "orders_A_cumm.head()"
   ]
  },
  {
   "cell_type": "markdown",
   "metadata": {},
   "source": [
    "**Для клиентов из группы B:**"
   ]
  },
  {
   "cell_type": "code",
   "execution_count": 41,
   "metadata": {},
   "outputs": [],
   "source": [
    "orders_B_dayly = orders_uniq.query('group == \"B\"').\\\n",
    "groupby('date', as_index=False).\\\n",
    "agg(day_orders=('transactionId', 'nunique'), day_revenue=('revenue', 'sum'))"
   ]
  },
  {
   "cell_type": "code",
   "execution_count": 42,
   "metadata": {},
   "outputs": [
    {
     "data": {
      "text/html": [
       "<div>\n",
       "<style scoped>\n",
       "    .dataframe tbody tr th:only-of-type {\n",
       "        vertical-align: middle;\n",
       "    }\n",
       "\n",
       "    .dataframe tbody tr th {\n",
       "        vertical-align: top;\n",
       "    }\n",
       "\n",
       "    .dataframe thead th {\n",
       "        text-align: right;\n",
       "    }\n",
       "</style>\n",
       "<table border=\"1\" class=\"dataframe\">\n",
       "  <thead>\n",
       "    <tr style=\"text-align: right;\">\n",
       "      <th></th>\n",
       "      <th>date</th>\n",
       "      <th>day_orders_cumm</th>\n",
       "      <th>day_revenue_cumm</th>\n",
       "    </tr>\n",
       "  </thead>\n",
       "  <tbody>\n",
       "    <tr>\n",
       "      <th>0</th>\n",
       "      <td>2019-08-01</td>\n",
       "      <td>17</td>\n",
       "      <td>59758</td>\n",
       "    </tr>\n",
       "    <tr>\n",
       "      <th>1</th>\n",
       "      <td>2019-08-02</td>\n",
       "      <td>40</td>\n",
       "      <td>221801</td>\n",
       "    </tr>\n",
       "    <tr>\n",
       "      <th>2</th>\n",
       "      <td>2019-08-03</td>\n",
       "      <td>54</td>\n",
       "      <td>288850</td>\n",
       "    </tr>\n",
       "    <tr>\n",
       "      <th>3</th>\n",
       "      <td>2019-08-04</td>\n",
       "      <td>68</td>\n",
       "      <td>385740</td>\n",
       "    </tr>\n",
       "    <tr>\n",
       "      <th>4</th>\n",
       "      <td>2019-08-05</td>\n",
       "      <td>89</td>\n",
       "      <td>475648</td>\n",
       "    </tr>\n",
       "  </tbody>\n",
       "</table>\n",
       "</div>"
      ],
      "text/plain": [
       "        date  day_orders_cumm  day_revenue_cumm\n",
       "0 2019-08-01               17             59758\n",
       "1 2019-08-02               40            221801\n",
       "2 2019-08-03               54            288850\n",
       "3 2019-08-04               68            385740\n",
       "4 2019-08-05               89            475648"
      ]
     },
     "execution_count": 42,
     "metadata": {},
     "output_type": "execute_result"
    }
   ],
   "source": [
    "orders_B_cumm = orders_B_dayly.apply(lambda x: orders_B_dayly[orders_B_dayly['date'] <= x['date']].\\\n",
    "                                     agg({'date': 'max', 'day_orders': 'sum', 'day_revenue': 'sum'}), axis=1).\\\n",
    "sort_values(by='date')\n",
    "orders_B_cumm.columns = ['date', 'day_orders_cumm', 'day_revenue_cumm']\n",
    "orders_B_cumm.head()"
   ]
  },
  {
   "cell_type": "code",
   "execution_count": 43,
   "metadata": {},
   "outputs": [
    {
     "data": {
      "image/png": "[encoded data removed]",
      "text/plain": [
       "<Figure size 864x432 with 1 Axes>"
      ]
     },
     "metadata": {
      "needs_background": "light"
     },
     "output_type": "display_data"
    }
   ],
   "source": [
    "plt.figure(figsize=(12, 6))\n",
    "\n",
    "plt.plot(orders_A_cumm['date'], orders_A_cumm['day_revenue_cumm'], label=('A'), color='#1986BA')\n",
    "plt.plot(orders_B_cumm['date'], orders_B_cumm['day_revenue_cumm'], label=('B'), color='#FF0000')\n",
    "plt.grid(which='major', color='grey', linewidth=0.5)\n",
    "plt.legend(['группа A', 'группа B'], loc='upper left')\n",
    "plt.title('Сумма кумулятивной выручки по группам')\n",
    "plt.xlabel('Даты')\n",
    "plt.ylabel('Сумма, млн. ед.')\n",
    "\n",
    "plt.show()"
   ]
  },
  {
   "cell_type": "markdown",
   "metadata": {},
   "source": [
    "Справочно привели графики динамики кумулятивного количества заказов по группам: "
   ]
  },
  {
   "cell_type": "code",
   "execution_count": 44,
   "metadata": {},
   "outputs": [
    {
     "data": {
      "image/png": "[encoded data removed]",
      "text/plain": [
       "<Figure size 864x432 with 1 Axes>"
      ]
     },
     "metadata": {
      "needs_background": "light"
     },
     "output_type": "display_data"
    }
   ],
   "source": [
    "plt.figure(figsize=(12, 6))\n",
    "\n",
    "plt.plot(orders_A_cumm['date'], orders_A_cumm['day_orders_cumm'], label=('A'), color='#1986BA')\n",
    "plt.plot(orders_B_cumm['date'], orders_B_cumm['day_orders_cumm'], label=('B'), color='#FF0000')\n",
    "plt.grid(which='major', color='grey', linewidth=0.5)\n",
    "plt.legend(['группа A', 'группа B'], loc='upper left')\n",
    "plt.title('Кумулятивное число заказов по группам')\n",
    "plt.xlabel('Даты')\n",
    "plt.ylabel('Количество, ед.')\n",
    "\n",
    "plt.show()"
   ]
  },
  {
   "cell_type": "markdown",
   "metadata": {},
   "source": [
    "**Промежуточные выводы:**\n",
    "- примерно до середины периода исследования кумулятивные выручки по группам росли синхронно;\n",
    "- затем наблюдали резкий скачок суммы по группе B; вероятно, он стал следствием крупного заказа или заказов;\n",
    "- кумулятивный показатель общего количества заказов при этом резко не менялся;\n",
    "- по накопленному количеству стабильно лучше группа B."
   ]
  },
  {
   "cell_type": "markdown",
   "metadata": {},
   "source": [
    "### Графики кумулятивного среднего чека по группам."
   ]
  },
  {
   "cell_type": "code",
   "execution_count": 45,
   "metadata": {},
   "outputs": [],
   "source": [
    "orders_A_cumm['avg_revenue_cumm'] = orders_A_cumm['day_revenue_cumm'] / orders_A_cumm['day_orders_cumm']\n",
    "orders_B_cumm['avg_revenue_cumm'] = orders_B_cumm['day_revenue_cumm'] / orders_B_cumm['day_orders_cumm']"
   ]
  },
  {
   "cell_type": "code",
   "execution_count": 46,
   "metadata": {},
   "outputs": [
    {
     "data": {
      "image/png": "[encoded data removed]",
      "text/plain": [
       "<Figure size 864x432 with 1 Axes>"
      ]
     },
     "metadata": {
      "needs_background": "light"
     },
     "output_type": "display_data"
    }
   ],
   "source": [
    "plt.figure(figsize=(12, 6))\n",
    "\n",
    "plt.plot(orders_A_cumm['date'], orders_A_cumm['avg_revenue_cumm'], label=('A'), color='#1986BA')\n",
    "plt.plot(orders_B_cumm['date'], orders_B_cumm['avg_revenue_cumm'], label=('B'), color='#FF0000')\n",
    "plt.grid(which='major', color='grey', linewidth=0.5)\n",
    "plt.legend(['группа A', 'группа B'], loc='upper left')\n",
    "plt.title('Кумулятивный средний чек по группам')\n",
    "plt.xlabel('Даты')\n",
    "plt.ylabel('Сумма, ед.')\n",
    "\n",
    "plt.show()"
   ]
  },
  {
   "cell_type": "markdown",
   "metadata": {},
   "source": [
    "**Промежуточные выводы:**\n",
    "- наблюдали скачок кумулятивного среднего по группе B;\n",
    "- как и в случае с кумулятивной выручкой он, вероятно, стал следствием крупного заказа или заказов;\n",
    "- к концу периода исследования показатели стабилизировались;\n",
    "- показатель по группе B к концу исследования стабильно лучше группы A."
   ]
  },
  {
   "cell_type": "markdown",
   "metadata": {},
   "source": [
    "### График относительного изменения кумулятивного среднего чека группы B к группе A."
   ]
  },
  {
   "cell_type": "code",
   "execution_count": 47,
   "metadata": {},
   "outputs": [],
   "source": [
    "orders_A_B_cumm = orders_A_cumm.merge(orders_B_cumm, on='date', how='left', suffixes=['A', 'B'])"
   ]
  },
  {
   "cell_type": "code",
   "execution_count": 48,
   "metadata": {},
   "outputs": [
    {
     "data": {
      "image/png": "[encoded data removed]",
      "text/plain": [
       "<Figure size 864x432 with 1 Axes>"
      ]
     },
     "metadata": {
      "needs_background": "light"
     },
     "output_type": "display_data"
    }
   ],
   "source": [
    "plt.figure(figsize=(12, 6))\n",
    "ax = plt.subplot()\n",
    "\n",
    "plt.plot(orders_A_B_cumm['date'], orders_A_B_cumm['avg_revenue_cummB'] / orders_A_B_cumm['avg_revenue_cummA'] - 1)\n",
    "plt.axhline(y=0, color='red', linestyle='--')\n",
    "\n",
    "ax.yaxis.set_major_locator(MultipleLocator(base=0.1))\n",
    "plt.grid(which='major', color='grey', linewidth=0.5)\n",
    "plt.title('Относительное изменение кумулятивного среднего чека группы B к группе A')\n",
    "plt.xlabel('Даты')\n",
    "plt.ylabel('Ед.')\n",
    "\n",
    "plt.show()"
   ]
  },
  {
   "cell_type": "markdown",
   "metadata": {},
   "source": [
    "**Промежуточные выводы:**\n",
    "- относительное значение существенно колебалось в течение периода исследования;\n",
    "- вновь наблюдали скачок значений по группе B;\n",
    "- к концу периода показатель по группе B стабильно лучше показателя по группе A."
   ]
  },
  {
   "cell_type": "markdown",
   "metadata": {},
   "source": [
    "### Графики кумулятивного среднего количества заказов на посетителя по группам."
   ]
  },
  {
   "cell_type": "markdown",
   "metadata": {},
   "source": [
    "**Для группы A.**"
   ]
  },
  {
   "cell_type": "code",
   "execution_count": 49,
   "metadata": {},
   "outputs": [],
   "source": [
    "visitors_A_dayly = visitors.query('group == \"A\"')"
   ]
  },
  {
   "cell_type": "code",
   "execution_count": 50,
   "metadata": {},
   "outputs": [
    {
     "data": {
      "text/html": [
       "<div>\n",
       "<style scoped>\n",
       "    .dataframe tbody tr th:only-of-type {\n",
       "        vertical-align: middle;\n",
       "    }\n",
       "\n",
       "    .dataframe tbody tr th {\n",
       "        vertical-align: top;\n",
       "    }\n",
       "\n",
       "    .dataframe thead th {\n",
       "        text-align: right;\n",
       "    }\n",
       "</style>\n",
       "<table border=\"1\" class=\"dataframe\">\n",
       "  <thead>\n",
       "    <tr style=\"text-align: right;\">\n",
       "      <th></th>\n",
       "      <th>date</th>\n",
       "      <th>day_visitors_cumm</th>\n",
       "    </tr>\n",
       "  </thead>\n",
       "  <tbody>\n",
       "    <tr>\n",
       "      <th>0</th>\n",
       "      <td>2019-08-01</td>\n",
       "      <td>719</td>\n",
       "    </tr>\n",
       "    <tr>\n",
       "      <th>1</th>\n",
       "      <td>2019-08-02</td>\n",
       "      <td>1338</td>\n",
       "    </tr>\n",
       "    <tr>\n",
       "      <th>2</th>\n",
       "      <td>2019-08-03</td>\n",
       "      <td>1845</td>\n",
       "    </tr>\n",
       "    <tr>\n",
       "      <th>3</th>\n",
       "      <td>2019-08-04</td>\n",
       "      <td>2562</td>\n",
       "    </tr>\n",
       "    <tr>\n",
       "      <th>4</th>\n",
       "      <td>2019-08-05</td>\n",
       "      <td>3318</td>\n",
       "    </tr>\n",
       "  </tbody>\n",
       "</table>\n",
       "</div>"
      ],
      "text/plain": [
       "        date  day_visitors_cumm\n",
       "0 2019-08-01                719\n",
       "1 2019-08-02               1338\n",
       "2 2019-08-03               1845\n",
       "3 2019-08-04               2562\n",
       "4 2019-08-05               3318"
      ]
     },
     "execution_count": 50,
     "metadata": {},
     "output_type": "execute_result"
    }
   ],
   "source": [
    "visitors_A_cumm = visitors_A_dayly.apply(lambda x: visitors_A_dayly[visitors_A_dayly['date'] <= x['date']].\\\n",
    "                                     agg({'date': 'max', 'visitors': 'sum'}), axis=1).\\\n",
    "sort_values(by='date')\n",
    "visitors_A_cumm.columns = ['date', 'day_visitors_cumm']\n",
    "visitors_A_cumm.head()"
   ]
  },
  {
   "cell_type": "code",
   "execution_count": 51,
   "metadata": {},
   "outputs": [],
   "source": [
    "orders_per_visitor_A_cumm = orders_A_cumm.merge(visitors_A_cumm, on='date', how='left')\n",
    "orders_per_visitor_A_cumm['avg_orders_cumm'] =\\\n",
    "orders_per_visitor_A_cumm['day_orders_cumm'] / orders_per_visitor_A_cumm['day_visitors_cumm']"
   ]
  },
  {
   "cell_type": "markdown",
   "metadata": {},
   "source": [
    "**Для группы B.**"
   ]
  },
  {
   "cell_type": "code",
   "execution_count": 52,
   "metadata": {},
   "outputs": [],
   "source": [
    "visitors_B_dayly = visitors.query('group == \"B\"')"
   ]
  },
  {
   "cell_type": "code",
   "execution_count": 53,
   "metadata": {},
   "outputs": [
    {
     "data": {
      "text/html": [
       "<div>\n",
       "<style scoped>\n",
       "    .dataframe tbody tr th:only-of-type {\n",
       "        vertical-align: middle;\n",
       "    }\n",
       "\n",
       "    .dataframe tbody tr th {\n",
       "        vertical-align: top;\n",
       "    }\n",
       "\n",
       "    .dataframe thead th {\n",
       "        text-align: right;\n",
       "    }\n",
       "</style>\n",
       "<table border=\"1\" class=\"dataframe\">\n",
       "  <thead>\n",
       "    <tr style=\"text-align: right;\">\n",
       "      <th></th>\n",
       "      <th>date</th>\n",
       "      <th>day_visitors_cumm</th>\n",
       "    </tr>\n",
       "  </thead>\n",
       "  <tbody>\n",
       "    <tr>\n",
       "      <th>31</th>\n",
       "      <td>2019-08-01</td>\n",
       "      <td>713</td>\n",
       "    </tr>\n",
       "    <tr>\n",
       "      <th>32</th>\n",
       "      <td>2019-08-02</td>\n",
       "      <td>1294</td>\n",
       "    </tr>\n",
       "    <tr>\n",
       "      <th>33</th>\n",
       "      <td>2019-08-03</td>\n",
       "      <td>1803</td>\n",
       "    </tr>\n",
       "    <tr>\n",
       "      <th>34</th>\n",
       "      <td>2019-08-04</td>\n",
       "      <td>2573</td>\n",
       "    </tr>\n",
       "    <tr>\n",
       "      <th>35</th>\n",
       "      <td>2019-08-05</td>\n",
       "      <td>3280</td>\n",
       "    </tr>\n",
       "  </tbody>\n",
       "</table>\n",
       "</div>"
      ],
      "text/plain": [
       "         date  day_visitors_cumm\n",
       "31 2019-08-01                713\n",
       "32 2019-08-02               1294\n",
       "33 2019-08-03               1803\n",
       "34 2019-08-04               2573\n",
       "35 2019-08-05               3280"
      ]
     },
     "execution_count": 53,
     "metadata": {},
     "output_type": "execute_result"
    }
   ],
   "source": [
    "visitors_B_cumm = visitors_B_dayly.apply(lambda x: visitors_B_dayly[visitors_B_dayly['date'] <= x['date']].\\\n",
    "                                     agg({'date': 'max', 'visitors': 'sum'}), axis=1).\\\n",
    "sort_values(by='date')\n",
    "visitors_B_cumm.columns = ['date', 'day_visitors_cumm']\n",
    "visitors_B_cumm.head()"
   ]
  },
  {
   "cell_type": "code",
   "execution_count": 54,
   "metadata": {},
   "outputs": [],
   "source": [
    "orders_per_visitor_B_cumm = orders_B_cumm.merge(visitors_B_cumm, on='date', how='left')\n",
    "orders_per_visitor_B_cumm['avg_orders_cumm'] =\\\n",
    "orders_per_visitor_B_cumm['day_orders_cumm'] / orders_per_visitor_B_cumm['day_visitors_cumm']"
   ]
  },
  {
   "cell_type": "code",
   "execution_count": 55,
   "metadata": {},
   "outputs": [
    {
     "data": {
      "image/png": "[encoded data removed]",
      "text/plain": [
       "<Figure size 864x432 with 1 Axes>"
      ]
     },
     "metadata": {
      "needs_background": "light"
     },
     "output_type": "display_data"
    }
   ],
   "source": [
    "plt.figure(figsize=(12, 6))\n",
    "\n",
    "plt.plot(orders_per_visitor_A_cumm['date'], orders_per_visitor_A_cumm['avg_orders_cumm'], label=('A'), color='#1986BA')\n",
    "plt.plot(orders_per_visitor_B_cumm['date'], orders_per_visitor_B_cumm['avg_orders_cumm'], label=('B'), color='#FF0000')\n",
    "plt.grid(which='major', color='grey', linewidth=0.5)\n",
    "plt.legend(['группа A', 'группа B'], loc='upper right')\n",
    "plt.title('Кумулятивное среднее количество заказов на посетителя по группам')\n",
    "plt.xlabel('Даты')\n",
    "plt.ylabel('Заказов, ед.')\n",
    "\n",
    "plt.show()"
   ]
  },
  {
   "cell_type": "markdown",
   "metadata": {},
   "source": [
    "**Промежуточные выводы:**\n",
    "- наблюдали колебания показателей по обеим группам, затухающие к конку периода;\n",
    "- показатели по группе B стабильно лучше, чем по группе A."
   ]
  },
  {
   "cell_type": "markdown",
   "metadata": {},
   "source": [
    "### График относительного изменения кумулятивного среднего количества заказов на посетителя группы B к группе A."
   ]
  },
  {
   "cell_type": "code",
   "execution_count": 56,
   "metadata": {},
   "outputs": [],
   "source": [
    "orders_per_visitor_A_B_cumm =\\\n",
    "orders_per_visitor_A_cumm.merge(orders_per_visitor_B_cumm, on='date', how='left', suffixes=['A', 'B'])"
   ]
  },
  {
   "cell_type": "code",
   "execution_count": 57,
   "metadata": {},
   "outputs": [
    {
     "data": {
      "image/png": "[encoded data removed]",
      "text/plain": [
       "<Figure size 864x432 with 1 Axes>"
      ]
     },
     "metadata": {
      "needs_background": "light"
     },
     "output_type": "display_data"
    }
   ],
   "source": [
    "plt.figure(figsize=(12, 6))\n",
    "ax = plt.subplot()\n",
    "\n",
    "plt.plot(orders_per_visitor_A_B_cumm['date'], orders_per_visitor_A_B_cumm['avg_orders_cummB'] /\n",
    "         orders_per_visitor_A_B_cumm['avg_orders_cummA'] - 1)\n",
    "plt.axhline(y=0, color='red', linestyle='--')\n",
    "\n",
    "ax.yaxis.set_major_locator(MultipleLocator(base=0.05))\n",
    "plt.grid(which='major', color='grey', linewidth=0.5)\n",
    "plt.title('Относительое изменение кумулятивного среднего количество заказов на посетителя группы B к группе A')\n",
    "plt.xlabel('Даты')\n",
    "plt.ylabel('Ед.')\n",
    "\n",
    "plt.show()"
   ]
  },
  {
   "cell_type": "markdown",
   "metadata": {},
   "source": [
    "**Промежуточные выводы:**\n",
    "- наблюдали картину, соответствующую наблюдениям предыдущего пункта;\n",
    "- относительный показатель по B почти сразу вышел в зону \" > 0 \" и не покинул её до конца периода;\n",
    "- к концу периода обозначился рост относительного показателя."
   ]
  },
  {
   "cell_type": "markdown",
   "metadata": {},
   "source": [
    "### Точечный график количества заказов по пользователям."
   ]
  },
  {
   "cell_type": "code",
   "execution_count": 58,
   "metadata": {},
   "outputs": [],
   "source": [
    "orders_by_users = orders_uniq.groupby('visitorId', as_index=False).agg({'transactionId': 'nunique'})\n",
    "orders_by_users.columns = ['user_id', 'orders_by_user']"
   ]
  },
  {
   "cell_type": "code",
   "execution_count": 59,
   "metadata": {},
   "outputs": [
    {
     "data": {
      "text/html": [
       "<div>\n",
       "<style scoped>\n",
       "    .dataframe tbody tr th:only-of-type {\n",
       "        vertical-align: middle;\n",
       "    }\n",
       "\n",
       "    .dataframe tbody tr th {\n",
       "        vertical-align: top;\n",
       "    }\n",
       "\n",
       "    .dataframe thead th {\n",
       "        text-align: right;\n",
       "    }\n",
       "</style>\n",
       "<table border=\"1\" class=\"dataframe\">\n",
       "  <thead>\n",
       "    <tr style=\"text-align: right;\">\n",
       "      <th></th>\n",
       "      <th>user_id</th>\n",
       "      <th>orders_by_user</th>\n",
       "    </tr>\n",
       "  </thead>\n",
       "  <tbody>\n",
       "    <tr>\n",
       "      <th>908</th>\n",
       "      <td>3967698036</td>\n",
       "      <td>3</td>\n",
       "    </tr>\n",
       "    <tr>\n",
       "      <th>55</th>\n",
       "      <td>249864742</td>\n",
       "      <td>3</td>\n",
       "    </tr>\n",
       "    <tr>\n",
       "      <th>478</th>\n",
       "      <td>2108163459</td>\n",
       "      <td>3</td>\n",
       "    </tr>\n",
       "    <tr>\n",
       "      <th>687</th>\n",
       "      <td>2988190573</td>\n",
       "      <td>3</td>\n",
       "    </tr>\n",
       "    <tr>\n",
       "      <th>890</th>\n",
       "      <td>3908431265</td>\n",
       "      <td>3</td>\n",
       "    </tr>\n",
       "  </tbody>\n",
       "</table>\n",
       "</div>"
      ],
      "text/plain": [
       "        user_id  orders_by_user\n",
       "908  3967698036               3\n",
       "55    249864742               3\n",
       "478  2108163459               3\n",
       "687  2988190573               3\n",
       "890  3908431265               3"
      ]
     },
     "execution_count": 59,
     "metadata": {},
     "output_type": "execute_result"
    }
   ],
   "source": [
    "orders_by_users.sort_values(by='orders_by_user', ascending=False).head()"
   ]
  },
  {
   "cell_type": "code",
   "execution_count": 60,
   "metadata": {},
   "outputs": [
    {
     "data": {
      "image/png": "[encoded data removed]",
      "text/plain": [
       "<Figure size 864x432 with 1 Axes>"
      ]
     },
     "metadata": {
      "needs_background": "light"
     },
     "output_type": "display_data"
    }
   ],
   "source": [
    "plt.figure(figsize=(12, 6))\n",
    "ax = plt.subplot()\n",
    "\n",
    "x_values = pd.Series(range(0,len(orders_by_users)))\n",
    "plt.scatter(x_values, orders_by_users['orders_by_user'])\n",
    "\n",
    "ax.yaxis.set_major_locator(MultipleLocator(base=1))\n",
    "ax.xaxis.set_major_locator(MultipleLocator(base=100))\n",
    "plt.grid(which='major', color='grey', linewidth=0.5)\n",
    "plt.title('Распределение количества заказов по пользователям')\n",
    "plt.xlabel('Пользователи')\n",
    "plt.ylabel('Количество заказов, ед.')\n",
    "\n",
    "plt.show()"
   ]
  },
  {
   "cell_type": "markdown",
   "metadata": {},
   "source": [
    "### Расчёт перцентилей количества заказов."
   ]
  },
  {
   "cell_type": "markdown",
   "metadata": {},
   "source": [
    "Рассчитали 90-й, 95-й и 99-й перцентили количества заказов на пользователя."
   ]
  },
  {
   "cell_type": "code",
   "execution_count": 61,
   "metadata": {},
   "outputs": [
    {
     "name": "stdout",
     "output_type": "stream",
     "text": [
      "[1. 1. 2.]\n"
     ]
    }
   ],
   "source": [
    "print(np.percentile(orders_by_users['orders_by_user'], [90, 95, 99]))"
   ]
  },
  {
   "cell_type": "markdown",
   "metadata": {},
   "source": [
    "Граница для определения аномальных пользователей:\n",
    "\n",
    "использовать данные о пользователях **не более чем с 2-мя заказами**."
   ]
  },
  {
   "cell_type": "markdown",
   "metadata": {},
   "source": [
    "### Точечный график стоимостей заказов."
   ]
  },
  {
   "cell_type": "code",
   "execution_count": 62,
   "metadata": {},
   "outputs": [
    {
     "data": {
      "image/png": "[encoded data removed]",
      "text/plain": [
       "<Figure size 864x432 with 1 Axes>"
      ]
     },
     "metadata": {
      "needs_background": "light"
     },
     "output_type": "display_data"
    }
   ],
   "source": [
    "plt.figure(figsize=(12, 6))\n",
    "ax = plt.subplot()\n",
    "\n",
    "x_values = pd.Series(range(0,len(orders_uniq)))\n",
    "plt.scatter(x_values, orders_uniq['revenue'])\n",
    "\n",
    "ax.yaxis.set_major_locator(MultipleLocator(base=500000))\n",
    "ax.xaxis.set_major_locator(MultipleLocator(base=100))\n",
    "plt.grid(which='major', color='grey', linewidth=0.5)\n",
    "plt.title('Распределение сумм заказов по пользователям')\n",
    "plt.xlabel('Пользователи')\n",
    "plt.ylabel('Сумма заказов, ед.')\n",
    "\n",
    "plt.show()"
   ]
  },
  {
   "cell_type": "code",
   "execution_count": 63,
   "metadata": {},
   "outputs": [
    {
     "data": {
      "image/png": "[encoded data removed]",
      "text/plain": [
       "<Figure size 864x432 with 1 Axes>"
      ]
     },
     "metadata": {
      "needs_background": "light"
     },
     "output_type": "display_data"
    }
   ],
   "source": [
    "plt.figure(figsize=(12, 6))\n",
    "ax = plt.subplot()\n",
    "\n",
    "x_values = pd.Series(range(0,len(orders_uniq)))\n",
    "plt.scatter(x_values, orders_uniq['revenue'])\n",
    "ax.set_ylim(0, 60000)\n",
    "\n",
    "ax.yaxis.set_major_locator(MultipleLocator(base=10000))\n",
    "ax.xaxis.set_major_locator(MultipleLocator(base=100))\n",
    "plt.grid(which='major', color='grey', linewidth=0.5)\n",
    "plt.title('Распределение сумм заказов по пользователям')\n",
    "plt.xlabel('Пользователи')\n",
    "plt.ylabel('Сумма заказов, ед.')\n",
    "\n",
    "plt.show()"
   ]
  },
  {
   "cell_type": "markdown",
   "metadata": {},
   "source": [
    "### Расчёт перцентилей сумм заказов."
   ]
  },
  {
   "cell_type": "markdown",
   "metadata": {},
   "source": [
    "Рассчитали 90-й, 95-й и 99-й перцентили количества заказов на пользователя."
   ]
  },
  {
   "cell_type": "code",
   "execution_count": 64,
   "metadata": {},
   "outputs": [
    {
     "name": "stdout",
     "output_type": "stream",
     "text": [
      "[17990. 26785. 53904.]\n"
     ]
    }
   ],
   "source": [
    "print(np.percentile(orders_uniq['revenue'], [90, 95, 99]))"
   ]
  },
  {
   "cell_type": "markdown",
   "metadata": {},
   "source": [
    "Граница для определения аномальных пользователей:\n",
    "\n",
    "использовать данные о пользователях **с суммой заказа на более 27 000**."
   ]
  },
  {
   "cell_type": "markdown",
   "metadata": {},
   "source": [
    "**Промежуточные выводы:**\n",
    "- данные о количестве заказов имеют малое число аномально высоких значений;\n",
    "- данные о суммах заказов разбросаны сильнее;\n",
    "- в дальнейшем стоит учесть необходимость \"очистить\" данные и о количестве заказов, и об их суммах."
   ]
  },
  {
   "cell_type": "markdown",
   "metadata": {},
   "source": [
    "### Расчёт статистической значимости различий в среднем количестве заказов на посетителя между группами по «сырым» данным."
   ]
  },
  {
   "cell_type": "code",
   "execution_count": 65,
   "metadata": {},
   "outputs": [],
   "source": [
    "orders_by_users_A = orders_uniq.query('group == \"A\"').\\\n",
    "groupby('visitorId', as_index=False).agg({'transactionId': 'nunique'})\n",
    "orders_by_users_A.columns = ['user_id', 'orders_by_user']"
   ]
  },
  {
   "cell_type": "code",
   "execution_count": 66,
   "metadata": {},
   "outputs": [],
   "source": [
    "orders_by_users_B = orders_uniq.query('group == \"B\"').\\\n",
    "groupby('visitorId', as_index=False).agg({'transactionId': 'nunique'})\n",
    "orders_by_users_B.columns = ['user_id', 'orders_by_user']"
   ]
  },
  {
   "cell_type": "code",
   "execution_count": 67,
   "metadata": {},
   "outputs": [
    {
     "data": {
      "text/plain": [
       "0        0\n",
       "1        0\n",
       "2        0\n",
       "3        0\n",
       "4        0\n",
       "        ..\n",
       "18383    0\n",
       "18384    0\n",
       "18385    0\n",
       "18386    0\n",
       "18387    0\n",
       "Name: orders, Length: 18388, dtype: int64"
      ]
     },
     "execution_count": 67,
     "metadata": {},
     "output_type": "execute_result"
    }
   ],
   "source": [
    "pd.Series(0, index=np.arange(visitors_A_dayly['visitors'].sum() - len(orders_by_users_A['orders_by_user'])), name='orders')\n",
    "pd.Series(0, index=np.arange(visitors_B_dayly['visitors'].sum() - len(orders_by_users_B['orders_by_user'])), name='orders')"
   ]
  },
  {
   "cell_type": "code",
   "execution_count": 68,
   "metadata": {},
   "outputs": [],
   "source": [
    "sampleA = pd.concat([orders_by_users_A['orders_by_user'],\\\n",
    "                     pd.Series(0, index=np.arange(visitors_A_dayly['visitors'].sum() - len(orders_by_users_A['orders_by_user'])), name='orders')], axis=0)\n",
    "sampleB = pd.concat([orders_by_users_B['orders_by_user'],\\\n",
    "                     pd.Series(0, index=np.arange(visitors_B_dayly['visitors'].sum() - len(orders_by_users_B['orders_by_user'])), name='orders')], axis=0)"
   ]
  },
  {
   "cell_type": "markdown",
   "metadata": {},
   "source": [
    "**Выдвинули нулевую и альтернативную гипотезы:**\n",
    "\n",
    "H_0: Статистически значимых различий в среднем количестве заказов на посетителя между группами нет.\n",
    "\n",
    "H_a: Статистически значимые различия в среднем количестве заказов на посетителя между группами есть.\n",
    "\n",
    "Пороговое значение alpha = 0.05. Это приемлемый уровень достоверности."
   ]
  },
  {
   "cell_type": "code",
   "execution_count": 69,
   "metadata": {},
   "outputs": [
    {
     "name": "stdout",
     "output_type": "stream",
     "text": [
      "0.00551\n",
      "Отвергаем нулевую гипотезу\n",
      "Относительный прирост среднего числа заказов группы B: 0.15980\n"
     ]
    }
   ],
   "source": [
    "alpha = 0.05\n",
    "\n",
    "print(\"{0:.5f}\".format(stats.mannwhitneyu(sampleA, sampleB)[1]))\n",
    "\n",
    "if stats.mannwhitneyu(sampleA, sampleB)[1] < alpha:\n",
    "    print('Отвергаем нулевую гипотезу')\n",
    "else:\n",
    "    print('Не получилось отвергнуть нулевую гипотезу')\n",
    "    \n",
    "print(\"Относительный прирост среднего числа заказов группы B: {0:.5f}\".format(sampleB.mean() / sampleA.mean() - 1))"
   ]
  },
  {
   "cell_type": "markdown",
   "metadata": {},
   "source": [
    "### Расчёт статистической значимости различий в среднем чеке заказа между группами по «сырым» данным."
   ]
  },
  {
   "cell_type": "markdown",
   "metadata": {},
   "source": [
    "**Выдвинули нулевую и альтернативную гипотезы:**\n",
    "\n",
    "H_0: Статистически значимых различий в среднем чеке между группами нет.\n",
    "\n",
    "H_a: Статистически значимые различия в среднем чеке между группами есть.\n",
    "\n",
    "Пороговое значение alpha = 0.05. Это приемлемый уровень достоверности."
   ]
  },
  {
   "cell_type": "code",
   "execution_count": 70,
   "metadata": {},
   "outputs": [
    {
     "name": "stdout",
     "output_type": "stream",
     "text": [
      "0.41475\n",
      "Не получилось отвергнуть нулевую гипотезу\n",
      "Относительный прирост среднего чека группы B: 0.28660\n"
     ]
    }
   ],
   "source": [
    "alpha = 0.05\n",
    "\n",
    "print(\"{0:.5f}\".format(stats.mannwhitneyu(orders_uniq.query('group == \"A\"')['revenue'],\\\n",
    "                                          orders_uniq.query('group == \"B\"')['revenue'])[1]))\n",
    "\n",
    "if stats.mannwhitneyu(orders_uniq.query('group == \"A\"')['revenue'],\\\n",
    "                      orders_uniq.query('group == \"B\"')['revenue'])[1] < alpha:\n",
    "    print('Отвергаем нулевую гипотезу')\n",
    "else:\n",
    "    print('Не получилось отвергнуть нулевую гипотезу')\n",
    "    \n",
    "print(\"Относительный прирост среднего чека группы B: {0:.5f}\".\\\n",
    "      format(orders_uniq.query('group == \"B\"')['revenue'].mean() / orders_uniq.query('group == \"A\"')['revenue'].mean() - 1))"
   ]
  },
  {
   "cell_type": "markdown",
   "metadata": {},
   "source": [
    "**Промежуточные выводы:**\n",
    "- хотя средний чек по группе B и выше, однако стат. значимость зафиксирована только в отношении отличий среднего количества заказов;\n",
    "- вероятно, это вызвано следующим: посетители стали покупать чаще, а средний чек увеличился лишь за счёт отдельных, экстремальных значений."
   ]
  },
  {
   "cell_type": "markdown",
   "metadata": {},
   "source": [
    "### Расчёт статистической значимости различий в среднем количестве заказов на посетителя между группами по «очищенным» данным."
   ]
  },
  {
   "cell_type": "markdown",
   "metadata": {},
   "source": [
    "Удалили из расчётов пользователей, которые сделали более 2 заказов и(или) заказы на сумму более 27 000."
   ]
  },
  {
   "cell_type": "code",
   "execution_count": 71,
   "metadata": {},
   "outputs": [],
   "source": [
    "orders_percentile = np.percentile(orders_by_users['orders_by_user'], [99]).astype('float')[0]\n",
    "revenue_percentile = np.percentile(orders_uniq['revenue'], [95]).astype('float')[0]"
   ]
  },
  {
   "cell_type": "code",
   "execution_count": 72,
   "metadata": {},
   "outputs": [],
   "source": [
    "many_orders_users = orders_by_users.query('orders_by_user > @orders_percentile')['user_id']\n",
    "expensive_orders_users = orders_uniq.query('revenue > @revenue_percentile')['visitorId']\n",
    "abnormal_users = (pd.concat([many_orders_users, expensive_orders_users], axis=0).drop_duplicates())"
   ]
  },
  {
   "cell_type": "code",
   "execution_count": 73,
   "metadata": {},
   "outputs": [
    {
     "data": {
      "text/plain": [
       "55      249864742\n",
       "138     611059232\n",
       "478    2108163459\n",
       "632    2742574263\n",
       "687    2988190573\n",
       "dtype: int64"
      ]
     },
     "execution_count": 73,
     "metadata": {},
     "output_type": "execute_result"
    }
   ],
   "source": [
    "abnormal_users.head()"
   ]
  },
  {
   "cell_type": "code",
   "execution_count": 74,
   "metadata": {},
   "outputs": [
    {
     "data": {
      "text/plain": [
       "(58,)"
      ]
     },
     "execution_count": 74,
     "metadata": {},
     "output_type": "execute_result"
    }
   ],
   "source": [
    "abnormal_users.shape"
   ]
  },
  {
   "cell_type": "markdown",
   "metadata": {},
   "source": [
    "Повторили расчёты, исключив пользователей из abnormal_users.\n",
    "\n",
    "Здесь и далее в расчётах по \"очищенным\" данным переменные назвали как `_clean`."
   ]
  },
  {
   "cell_type": "code",
   "execution_count": 75,
   "metadata": {},
   "outputs": [],
   "source": [
    "orders_by_users_A_clean = orders_uniq.query('group == \"A\" and visitorId not in @abnormal_users').\\\n",
    "groupby('visitorId', as_index=False).agg({'transactionId': 'nunique'})\n",
    "orders_by_users_A_clean.columns = ['user_id', 'orders_by_user']"
   ]
  },
  {
   "cell_type": "code",
   "execution_count": 76,
   "metadata": {},
   "outputs": [],
   "source": [
    "orders_by_users_B_clean = orders_uniq.query('group == \"B\" and visitorId not in @abnormal_users').\\\n",
    "groupby('visitorId', as_index=False).agg({'transactionId': 'nunique'})\n",
    "orders_by_users_B_clean.columns = ['user_id', 'orders_by_user']"
   ]
  },
  {
   "cell_type": "code",
   "execution_count": 77,
   "metadata": {},
   "outputs": [],
   "source": [
    "sampleA_clean = pd.concat([orders_by_users_A_clean['orders_by_user'],\\\n",
    "                     pd.Series(0, index=np.arange(visitors_A_dayly['visitors'].sum() - len(orders_by_users_A['orders_by_user'])), name='orders')], axis=0)\n",
    "sampleB_clean = pd.concat([orders_by_users_B_clean['orders_by_user'],\\\n",
    "                     pd.Series(0, index=np.arange(visitors_B_dayly['visitors'].sum() - len(orders_by_users_B['orders_by_user'])), name='orders')], axis=0)"
   ]
  },
  {
   "cell_type": "markdown",
   "metadata": {},
   "source": [
    "Выдвинули нулевую и альтернативную гипотезы:\n",
    "\n",
    "H_0: Статистически значимых различий в среднем количестве заказов на посетителя между группами (очищенные данные) нет.\n",
    "\n",
    "H_a: Статистически значимые различия в среднем количестве заказов на посетителя между группами (очищенные данные) есть.\n",
    "\n",
    "Пороговое значение alpha = 0.05. Это приемлемый уровень достоверности."
   ]
  },
  {
   "cell_type": "code",
   "execution_count": 78,
   "metadata": {},
   "outputs": [
    {
     "name": "stdout",
     "output_type": "stream",
     "text": [
      "0.00618\n",
      "Отвергаем нулевую гипотезу\n",
      "Относительный прирост среднего числа заказов группы B: 0.18190\n"
     ]
    }
   ],
   "source": [
    "alpha = 0.05\n",
    "\n",
    "print(\"{0:.5f}\".format(stats.mannwhitneyu(sampleA_clean, sampleB_clean)[1]))\n",
    "\n",
    "if stats.mannwhitneyu(sampleA_clean, sampleB_clean)[1] < alpha:\n",
    "    print('Отвергаем нулевую гипотезу')\n",
    "else:\n",
    "    print('Не получилось отвергнуть нулевую гипотезу')\n",
    "    \n",
    "print(\"Относительный прирост среднего числа заказов группы B: {0:.5f}\".format(sampleB_clean.mean() / sampleA_clean.mean() - 1))"
   ]
  },
  {
   "cell_type": "markdown",
   "metadata": {},
   "source": [
    "### Расчёт статистической значимости различий в среднем чеке заказа между группами по «очищенным» данным."
   ]
  },
  {
   "cell_type": "code",
   "execution_count": 79,
   "metadata": {},
   "outputs": [],
   "source": [
    "orders_uniq_clean = orders_uniq.query('visitorId not in @abnormal_users')"
   ]
  },
  {
   "cell_type": "markdown",
   "metadata": {},
   "source": [
    "**Выдвинули нулевую и альтернативную гипотезы:**\n",
    "\n",
    "H_0: Статистически значимых различий в среднем чеке между группами (очищенные данные) нет.\n",
    "\n",
    "H_a: Статистически значимые различия в среднем чеке между группами (очищенные данные) есть.\n",
    "\n",
    "Пороговое значение alpha = 0.05. Это приемлемый уровень достоверности."
   ]
  },
  {
   "cell_type": "code",
   "execution_count": 80,
   "metadata": {},
   "outputs": [
    {
     "name": "stdout",
     "output_type": "stream",
     "text": [
      "0.32295\n",
      "Не получилось отвергнуть нулевую гипотезу\n",
      "Относительный прирост среднего чека группы B: -0.04847\n"
     ]
    }
   ],
   "source": [
    "alpha = 0.05\n",
    "\n",
    "print(\"{0:.5f}\".format(stats.mannwhitneyu(orders_uniq_clean.query('group == \"A\"')['revenue'],\\\n",
    "                                          orders_uniq_clean.query('group == \"B\"')['revenue'])[1]))\n",
    "\n",
    "if stats.mannwhitneyu(orders_uniq_clean.query('group == \"A\"')['revenue'],\\\n",
    "                      orders_uniq_clean.query('group == \"B\"')['revenue'])[1] < alpha:\n",
    "    print('Отвергаем нулевую гипотезу')\n",
    "else:\n",
    "    print('Не получилось отвергнуть нулевую гипотезу')\n",
    "    \n",
    "print(\"Относительный прирост среднего чека группы B: {0:.5f}\".\\\n",
    "      format(orders_uniq_clean.query('group == \"B\"')['revenue'].mean() / orders_uniq_clean.query('group == \"A\"')['revenue'].mean() - 1))"
   ]
  },
  {
   "cell_type": "code",
   "execution_count": null,
   "metadata": {},
   "outputs": [],
   "source": []
  },
  {
   "cell_type": "markdown",
   "metadata": {},
   "source": [
    "**Справочно воспроизвели расчёты на \"очищенных\" данных, перестроили некоторые графики.**"
   ]
  },
  {
   "cell_type": "code",
   "execution_count": 81,
   "metadata": {},
   "outputs": [],
   "source": [
    "orders_A_dayly_clean = orders_uniq_clean.query('group == \"A\"').\\\n",
    "groupby('date', as_index=False).\\\n",
    "agg(day_orders=('transactionId', 'nunique'), day_revenue=('revenue', 'sum'))\n",
    "orders_A_cumm_clean = orders_A_dayly_clean.apply(lambda x: orders_A_dayly_clean[orders_A_dayly_clean['date'] <= x['date']].\\\n",
    "                                     agg({'date': 'max', 'day_orders': 'sum', 'day_revenue': 'sum'}), axis=1).\\\n",
    "sort_values(by='date')\n",
    "orders_A_cumm_clean.columns = ['date', 'day_orders_cumm', 'day_revenue_cumm']\n",
    "orders_B_dayly_clean = orders_uniq_clean.query('group == \"B\"').\\\n",
    "groupby('date', as_index=False).\\\n",
    "agg(day_orders=('transactionId', 'nunique'), day_revenue=('revenue', 'sum'))\n",
    "orders_B_cumm_clean = orders_B_dayly_clean.apply(lambda x: orders_B_dayly_clean[orders_B_dayly_clean['date'] <= x['date']].\\\n",
    "                                     agg({'date': 'max', 'day_orders': 'sum', 'day_revenue': 'sum'}), axis=1).\\\n",
    "sort_values(by='date')\n",
    "orders_B_cumm_clean.columns = ['date', 'day_orders_cumm', 'day_revenue_cumm']\n",
    "\n",
    "orders_A_cumm_clean['avg_revenue_cumm'] = orders_A_cumm_clean['day_revenue_cumm'] / orders_A_cumm_clean['day_orders_cumm']\n",
    "orders_B_cumm_clean['avg_revenue_cumm'] = orders_B_cumm_clean['day_revenue_cumm'] / orders_B_cumm_clean['day_orders_cumm']"
   ]
  },
  {
   "cell_type": "code",
   "execution_count": 82,
   "metadata": {},
   "outputs": [
    {
     "data": {
      "image/png": "[encoded data removed]",
      "text/plain": [
       "<Figure size 1440x360 with 2 Axes>"
      ]
     },
     "metadata": {
      "needs_background": "light"
     },
     "output_type": "display_data"
    }
   ],
   "source": [
    "plt.figure(figsize=(20, 5))\n",
    "\n",
    "ax1 = plt.subplot(1, 2, 1)\n",
    "ax1.plot(orders_A_cumm_clean['date'], orders_A_cumm_clean['day_revenue_cumm'], label=('A'), color='#1986BA')\n",
    "ax1.plot(orders_B_cumm_clean['date'], orders_B_cumm_clean['day_revenue_cumm'], label=('B'), color='#FF0000')\n",
    "ax1.grid(which='major', color='grey', linewidth=0.5)\n",
    "ax1.legend(['группа A', 'группа B'], loc='upper left')\n",
    "ax1.set_title('Сумма кумулятивной выручки по группам (очищенные данные)')\n",
    "ax1.set_xlabel('Даты')\n",
    "ax1.set_ylabel('Сумма, млн. ед.')\n",
    "\n",
    "ax2 = plt.subplot(1, 2, 2)\n",
    "ax2.plot(orders_A_cumm_clean['date'], orders_A_cumm_clean['avg_revenue_cumm'], label=('A'), color='#1986BA')\n",
    "ax2.plot(orders_B_cumm_clean['date'], orders_B_cumm_clean['avg_revenue_cumm'], label=('B'), color='#FF0000')\n",
    "ax2.grid(which='major', color='grey', linewidth=0.5)\n",
    "ax2.legend(['группа A', 'группа B'], loc='upper left')\n",
    "ax2.set_title('Кумулятивный средний чек по группам (очищенные данные)')\n",
    "ax2.set_xlabel('Даты')\n",
    "ax2.set_ylabel('Сумма, ед.')\n",
    "\n",
    "plt.show()"
   ]
  },
  {
   "cell_type": "markdown",
   "metadata": {},
   "source": [
    "**Промежуточные выводы:**\n",
    "- результаты по \"очищенным\" данным в целом аналогичны результатам на \"сырых\" данных;\n",
    "- стат. значимость зафиксирована только в отношении отличий среднего количества заказов;\n",
    "- однако при этом зафиксировано снижение среднего чека группы B на почти 5 %: из исследования исключили крупные заказы, и показатель группы B ухудшился;\n",
    "- показатели среднего чека на \"чистых\" данных почти до конца исследования вели себя нестабильно; они не показывают явного превосходства одной из групп; скорее можно сказать, что группа B не смогла на этом показателе \"победить\" A."
   ]
  },
  {
   "cell_type": "markdown",
   "metadata": {},
   "source": [
    "### Решение по результатам теста."
   ]
  },
  {
   "cell_type": "markdown",
   "metadata": {},
   "source": [
    "Приняли решение по результатам теста:\n",
    "остановить тест, зафиксировать победу группы B, хотя и не абсолютную."
   ]
  },
  {
   "cell_type": "markdown",
   "metadata": {},
   "source": [
    "## Общие выводы."
   ]
  },
  {
   "cell_type": "markdown",
   "metadata": {},
   "source": [
    "1. Изучили исходные данные о гипотезах.\n",
    "2. Данные соответствуют описанию, готовы для исследования.\n",
    "3. Проведена приоритизация гипотез по ICE и RICE.\n",
    "4. Согласно фреймворка ICE наиболее приоритетной гипотезой является: `Запустить акцию, дающую скидку на товар в день рождения`.\n",
    "5. Согласно фреймворка RICE наиболее приоритетной гипотезой является: `Добавить форму подписки на все основные страницы, чтобы собрать базу клиентов для email-рассылок`.\n",
    "6. Изучены данные о посетителях сайта магазина и заказах.\n",
    "7. В целом данные корректны, готовы к дальнейшему использованию, данные соответствуют описанию.\n",
    "8. Изменили форматы данных о датах.\n",
    "9. Провели исследование, имитирующее A/A-тест.\n",
    "10. Установили, что не все необходимые для A/B-теста условия выполнены.\n",
    "11. Исправили недостатки удалением дублирующих пользователей: их оказалось около 5 %.\n",
    "12. По изучении графиков установили:\n",
    "- примерно до середины периода исследования кумулятивные выручки по группам росли синхронно;\n",
    "- затем наблюдали резкий скачок суммы по группе B; вероятно, он стал следствием крупного заказа или заказов;\n",
    "- кумулятивный показатель общего количества заказов при этом резко не менялся;\n",
    "- по накопленному количеству стабильно лучше группа B;\n",
    "- наблюдали скачок кумулятивного среднего по группе B;\n",
    "- как и в случае с кумулятивной выручкой он, вероятно, стал следствием крупного заказа или заказов;\n",
    "- к концу периода исследования показатели стабилизировались;\n",
    "- показатель по группе B к концу исследования стабильно лучше группы A;\n",
    "- относительное значение существенно колебалось в течение периода исследования;\n",
    "- вновь наблюдали скачок значений по группе B;\n",
    "- к концу периода показатель по группе B стабильно лучше показателя по группе A;\n",
    "- наблюдали колебания показателей по обеим группам, затухающие к конку периода;\n",
    "- показатели по группе B стабильно лучше, чем по группе A;\n",
    "- относительный показатель по B почти сразу вышел в зону \" > 0 \" и не покинул её до конца периода;\n",
    "- к концу периода обозначился рост относительного показателя.\n",
    "13. Данные о количестве заказов имеют малое число аномально высоких значений.\n",
    "14. Данные о суммах заказов разбросаны сильнее.\n",
    "15. В дальнейшем стоит учесть необходимость \"очистить\" данные и о количестве заказов, и об их суммах.\n",
    "16. Хотя средний чек по группе B и выше, однако стат. значимость зафиксирована только в отношении отличий среднего количества заказов.\n",
    "17. Вероятно, это вызвано следующим: посетители стали покупать чаще, а средний чек увеличился лишь за счёт отдельных, экстремальных значений.\n",
    "18. Результаты по \"очищенным\" данным в целом аналогичны результатам на \"сырых\" данных.\n",
    "19. Стат. значимость зафиксирована только в отношении отличий среднего количества заказов.\n",
    "20. Однако при этом зафиксировано снижение среднего чека группы B на почти 5 %: из исследования исключили крупные заказы, и показатель группы B ухудшился.\n",
    "21. Показатели среднего чека на \"чистых\" данных почти до конца исследования вели себя нестабильно; они не показывают явного превосходства одной из групп; скорее можно сказать, что группа B не смогла на этом показателе \"победить\" A.\n",
    "22. Приняли решение по результатам теста: остановить тест, зафиксировать победу группы B, хотя и не абсолютную."
   ]
  }
 ],
 "metadata": {
  "ExecuteTimeLog": [
   {
    "duration": 1396,
    "start_time": "2023-01-10T12:24:34.313Z"
   },
   {
    "duration": 4,
    "start_time": "2023-01-10T12:24:44.222Z"
   },
   {
    "duration": 140,
    "start_time": "2023-01-10T12:37:00.540Z"
   },
   {
    "duration": 18,
    "start_time": "2023-01-10T12:37:06.888Z"
   },
   {
    "duration": 3,
    "start_time": "2023-01-10T12:37:21.209Z"
   },
   {
    "duration": 12,
    "start_time": "2023-01-10T12:37:33.751Z"
   },
   {
    "duration": 23,
    "start_time": "2023-01-10T12:37:42.367Z"
   },
   {
    "duration": 5,
    "start_time": "2023-01-10T12:37:51.351Z"
   },
   {
    "duration": 51,
    "start_time": "2023-01-10T12:40:07.553Z"
   },
   {
    "duration": 11,
    "start_time": "2023-01-10T12:43:28.489Z"
   },
   {
    "duration": 221,
    "start_time": "2023-01-10T12:48:30.077Z"
   },
   {
    "duration": 1121,
    "start_time": "2023-01-10T12:49:38.118Z"
   },
   {
    "duration": 246,
    "start_time": "2023-01-10T12:49:49.756Z"
   },
   {
    "duration": 233,
    "start_time": "2023-01-10T12:50:00.219Z"
   },
   {
    "duration": 259,
    "start_time": "2023-01-10T12:50:13.660Z"
   },
   {
    "duration": 249,
    "start_time": "2023-01-10T12:50:40.722Z"
   },
   {
    "duration": 217,
    "start_time": "2023-01-10T12:53:25.725Z"
   },
   {
    "duration": 269,
    "start_time": "2023-01-10T12:53:28.881Z"
   },
   {
    "duration": 152,
    "start_time": "2023-01-10T12:56:02.000Z"
   },
   {
    "duration": 11,
    "start_time": "2023-01-10T12:56:14.296Z"
   },
   {
    "duration": 12,
    "start_time": "2023-01-10T12:56:21.086Z"
   },
   {
    "duration": 7,
    "start_time": "2023-01-10T12:56:28.775Z"
   },
   {
    "duration": 5,
    "start_time": "2023-01-10T12:56:37.983Z"
   },
   {
    "duration": 13,
    "start_time": "2023-01-10T12:56:47.135Z"
   },
   {
    "duration": 6,
    "start_time": "2023-01-10T12:56:54.160Z"
   },
   {
    "duration": 12,
    "start_time": "2023-01-10T12:57:02.379Z"
   },
   {
    "duration": 4,
    "start_time": "2023-01-10T12:57:10.134Z"
   },
   {
    "duration": 68,
    "start_time": "2023-01-10T12:57:54.143Z"
   },
   {
    "duration": 8,
    "start_time": "2023-01-10T12:58:02.520Z"
   },
   {
    "duration": 11,
    "start_time": "2023-01-10T12:58:09.134Z"
   },
   {
    "duration": 4,
    "start_time": "2023-01-10T12:58:17.313Z"
   },
   {
    "duration": 4,
    "start_time": "2023-01-10T12:58:27.630Z"
   },
   {
    "duration": 4,
    "start_time": "2023-01-10T12:58:35.718Z"
   },
   {
    "duration": 8,
    "start_time": "2023-01-10T12:58:46.391Z"
   },
   {
    "duration": 16,
    "start_time": "2023-01-10T13:04:14.798Z"
   },
   {
    "duration": 4,
    "start_time": "2023-01-10T13:04:28.013Z"
   },
   {
    "duration": 3,
    "start_time": "2023-01-10T13:04:37.701Z"
   },
   {
    "duration": 10,
    "start_time": "2023-01-10T13:04:51.819Z"
   },
   {
    "duration": 6,
    "start_time": "2023-01-10T13:05:05.172Z"
   },
   {
    "duration": 4,
    "start_time": "2023-01-10T13:05:20.251Z"
   },
   {
    "duration": 4,
    "start_time": "2023-01-10T13:05:30.188Z"
   },
   {
    "duration": 60,
    "start_time": "2023-01-10T13:05:59.892Z"
   },
   {
    "duration": 9,
    "start_time": "2023-01-10T13:07:30.164Z"
   },
   {
    "duration": 6,
    "start_time": "2023-01-10T13:07:37.810Z"
   },
   {
    "duration": 6,
    "start_time": "2023-01-10T13:07:46.617Z"
   },
   {
    "duration": 14,
    "start_time": "2023-01-10T13:09:51.938Z"
   },
   {
    "duration": 9,
    "start_time": "2023-01-10T13:12:43.582Z"
   },
   {
    "duration": 14,
    "start_time": "2023-01-10T13:13:18.080Z"
   },
   {
    "duration": 67,
    "start_time": "2023-01-10T13:13:24.684Z"
   },
   {
    "duration": 14,
    "start_time": "2023-01-10T13:13:58.382Z"
   },
   {
    "duration": 80,
    "start_time": "2023-01-10T13:14:04.632Z"
   },
   {
    "duration": 380,
    "start_time": "2023-01-10T13:14:12.409Z"
   },
   {
    "duration": 214,
    "start_time": "2023-01-10T13:15:04.009Z"
   },
   {
    "duration": 221,
    "start_time": "2023-01-10T13:16:33.016Z"
   },
   {
    "duration": 69,
    "start_time": "2023-01-10T13:24:27.215Z"
   },
   {
    "duration": 1205,
    "start_time": "2023-01-10T13:24:33.530Z"
   },
   {
    "duration": 2,
    "start_time": "2023-01-10T13:24:34.738Z"
   },
   {
    "duration": 163,
    "start_time": "2023-01-10T13:24:34.742Z"
   },
   {
    "duration": 20,
    "start_time": "2023-01-10T13:24:34.907Z"
   },
   {
    "duration": 31,
    "start_time": "2023-01-10T13:24:34.932Z"
   },
   {
    "duration": 51,
    "start_time": "2023-01-10T13:24:34.964Z"
   },
   {
    "duration": 98,
    "start_time": "2023-01-10T13:24:35.017Z"
   },
   {
    "duration": 56,
    "start_time": "2023-01-10T13:24:35.117Z"
   },
   {
    "duration": 126,
    "start_time": "2023-01-10T13:24:35.175Z"
   },
   {
    "duration": 19,
    "start_time": "2023-01-10T13:24:35.304Z"
   },
   {
    "duration": 347,
    "start_time": "2023-01-10T13:24:35.333Z"
   },
   {
    "duration": 174,
    "start_time": "2023-01-10T13:24:35.682Z"
   },
   {
    "duration": 7,
    "start_time": "2023-01-10T13:24:35.858Z"
   },
   {
    "duration": 17,
    "start_time": "2023-01-10T13:24:35.868Z"
   },
   {
    "duration": 7,
    "start_time": "2023-01-10T13:24:35.886Z"
   },
   {
    "duration": 46,
    "start_time": "2023-01-10T13:24:35.894Z"
   },
   {
    "duration": 29,
    "start_time": "2023-01-10T13:24:35.942Z"
   },
   {
    "duration": 12,
    "start_time": "2023-01-10T13:24:35.973Z"
   },
   {
    "duration": 34,
    "start_time": "2023-01-10T13:24:35.987Z"
   },
   {
    "duration": 22,
    "start_time": "2023-01-10T13:24:36.027Z"
   },
   {
    "duration": 95,
    "start_time": "2023-01-10T13:24:36.051Z"
   },
   {
    "duration": 6,
    "start_time": "2023-01-10T13:24:36.148Z"
   },
   {
    "duration": 15,
    "start_time": "2023-01-10T13:24:36.156Z"
   },
   {
    "duration": 8,
    "start_time": "2023-01-10T13:24:36.173Z"
   },
   {
    "duration": 13,
    "start_time": "2023-01-10T13:24:36.183Z"
   },
   {
    "duration": 41,
    "start_time": "2023-01-10T13:24:36.203Z"
   },
   {
    "duration": 9,
    "start_time": "2023-01-10T13:24:36.245Z"
   },
   {
    "duration": 23,
    "start_time": "2023-01-10T13:24:36.256Z"
   },
   {
    "duration": 4,
    "start_time": "2023-01-10T13:24:36.281Z"
   },
   {
    "duration": 28,
    "start_time": "2023-01-10T13:24:36.286Z"
   },
   {
    "duration": 44,
    "start_time": "2023-01-10T13:24:36.315Z"
   },
   {
    "duration": 12,
    "start_time": "2023-01-10T13:24:36.361Z"
   },
   {
    "duration": 8,
    "start_time": "2023-01-10T13:24:36.375Z"
   },
   {
    "duration": 55,
    "start_time": "2023-01-10T13:24:36.385Z"
   },
   {
    "duration": 17,
    "start_time": "2023-01-10T13:24:36.442Z"
   },
   {
    "duration": 8,
    "start_time": "2023-01-10T13:24:36.461Z"
   },
   {
    "duration": 19,
    "start_time": "2023-01-10T13:24:36.471Z"
   },
   {
    "duration": 92,
    "start_time": "2023-01-10T13:24:36.491Z"
   },
   {
    "duration": 20,
    "start_time": "2023-01-10T13:24:36.585Z"
   },
   {
    "duration": 75,
    "start_time": "2023-01-10T13:24:36.613Z"
   },
   {
    "duration": 360,
    "start_time": "2023-01-10T13:24:36.692Z"
   },
   {
    "duration": 192,
    "start_time": "2023-01-10T13:24:51.130Z"
   },
   {
    "duration": 293,
    "start_time": "2023-01-10T13:25:19.893Z"
   },
   {
    "duration": 237,
    "start_time": "2023-01-10T13:25:29.569Z"
   },
   {
    "duration": 224,
    "start_time": "2023-01-10T13:25:45.990Z"
   },
   {
    "duration": 247,
    "start_time": "2023-01-10T13:26:01.077Z"
   },
   {
    "duration": 68,
    "start_time": "2023-01-10T13:27:14.173Z"
   },
   {
    "duration": 190,
    "start_time": "2023-01-10T13:27:32.093Z"
   },
   {
    "duration": 311,
    "start_time": "2023-01-10T13:28:49.017Z"
   },
   {
    "duration": 204,
    "start_time": "2023-01-10T13:29:21.660Z"
   },
   {
    "duration": 215,
    "start_time": "2023-01-10T13:30:45.838Z"
   },
   {
    "duration": 209,
    "start_time": "2023-01-10T13:31:23.979Z"
   },
   {
    "duration": 191,
    "start_time": "2023-01-10T13:31:30.779Z"
   },
   {
    "duration": 263,
    "start_time": "2023-01-10T13:31:34.666Z"
   },
   {
    "duration": 5,
    "start_time": "2023-01-10T13:33:11.613Z"
   },
   {
    "duration": 177,
    "start_time": "2023-01-10T13:33:25.193Z"
   },
   {
    "duration": 207,
    "start_time": "2023-01-10T13:34:34.297Z"
   },
   {
    "duration": 216,
    "start_time": "2023-01-10T13:35:14.281Z"
   },
   {
    "duration": 240,
    "start_time": "2023-01-10T13:35:47.234Z"
   },
   {
    "duration": 10,
    "start_time": "2023-01-10T13:37:23.137Z"
   },
   {
    "duration": 420,
    "start_time": "2023-01-10T13:37:29.359Z"
   },
   {
    "duration": 444,
    "start_time": "2023-01-10T13:38:32.296Z"
   },
   {
    "duration": 261,
    "start_time": "2023-01-10T13:38:47.841Z"
   },
   {
    "duration": 344,
    "start_time": "2023-01-10T13:39:57.775Z"
   },
   {
    "duration": 355,
    "start_time": "2023-01-10T13:41:00.985Z"
   },
   {
    "duration": 6,
    "start_time": "2023-01-10T13:42:40.437Z"
   },
   {
    "duration": 56,
    "start_time": "2023-01-10T13:42:48.799Z"
   },
   {
    "duration": 10,
    "start_time": "2023-01-10T13:42:58.630Z"
   },
   {
    "duration": 4,
    "start_time": "2023-01-10T13:43:27.565Z"
   },
   {
    "duration": 53,
    "start_time": "2023-01-10T13:43:33.812Z"
   },
   {
    "duration": 11,
    "start_time": "2023-01-10T13:43:42.359Z"
   },
   {
    "duration": 204,
    "start_time": "2023-01-10T13:43:52.452Z"
   },
   {
    "duration": 230,
    "start_time": "2023-01-10T13:45:01.712Z"
   },
   {
    "duration": 214,
    "start_time": "2023-01-10T13:45:37.885Z"
   },
   {
    "duration": 211,
    "start_time": "2023-01-10T13:46:43.198Z"
   },
   {
    "duration": 9,
    "start_time": "2023-01-10T13:47:46.903Z"
   },
   {
    "duration": 257,
    "start_time": "2023-01-10T13:47:53.514Z"
   },
   {
    "duration": 241,
    "start_time": "2023-01-10T13:48:41.420Z"
   },
   {
    "duration": 56,
    "start_time": "2023-01-10T13:48:55.556Z"
   },
   {
    "duration": 10,
    "start_time": "2023-01-10T13:49:00.206Z"
   },
   {
    "duration": 64,
    "start_time": "2023-01-10T13:49:54.179Z"
   },
   {
    "duration": 262,
    "start_time": "2023-01-10T13:50:01.954Z"
   },
   {
    "duration": 385,
    "start_time": "2023-01-10T13:50:31.690Z"
   },
   {
    "duration": 243,
    "start_time": "2023-01-10T13:50:38.338Z"
   },
   {
    "duration": 286,
    "start_time": "2023-01-10T13:51:41.926Z"
   },
   {
    "duration": 358,
    "start_time": "2023-01-10T13:53:13.995Z"
   },
   {
    "duration": 6,
    "start_time": "2023-01-10T13:54:10.422Z"
   },
   {
    "duration": 7,
    "start_time": "2023-01-10T13:54:16.657Z"
   },
   {
    "duration": 153,
    "start_time": "2023-01-10T13:54:25.888Z"
   },
   {
    "duration": 172,
    "start_time": "2023-01-10T13:55:37.945Z"
   },
   {
    "duration": 132,
    "start_time": "2023-01-10T13:56:13.422Z"
   },
   {
    "duration": 134,
    "start_time": "2023-01-10T13:56:47.023Z"
   },
   {
    "duration": 144,
    "start_time": "2023-01-10T13:57:15.343Z"
   },
   {
    "duration": 11,
    "start_time": "2023-01-10T13:58:39.095Z"
   },
   {
    "duration": 168,
    "start_time": "2023-01-10T14:00:34.807Z"
   },
   {
    "duration": 219,
    "start_time": "2023-01-10T14:01:14.910Z"
   },
   {
    "duration": 191,
    "start_time": "2023-01-10T14:02:27.293Z"
   },
   {
    "duration": 4,
    "start_time": "2023-01-10T14:03:11.237Z"
   },
   {
    "duration": 9,
    "start_time": "2023-01-10T14:04:55.965Z"
   },
   {
    "duration": 10,
    "start_time": "2023-01-10T14:05:03.054Z"
   },
   {
    "duration": 10,
    "start_time": "2023-01-10T14:05:18.771Z"
   },
   {
    "duration": 6,
    "start_time": "2023-01-10T14:05:29.919Z"
   },
   {
    "duration": 67,
    "start_time": "2023-01-10T14:05:55.565Z"
   },
   {
    "duration": 119,
    "start_time": "2023-01-10T14:07:19.859Z"
   },
   {
    "duration": 979,
    "start_time": "2023-01-10T14:08:41.269Z"
   },
   {
    "duration": 3,
    "start_time": "2023-01-10T14:08:42.249Z"
   },
   {
    "duration": 64,
    "start_time": "2023-01-10T14:08:42.253Z"
   },
   {
    "duration": 11,
    "start_time": "2023-01-10T14:08:42.319Z"
   },
   {
    "duration": 3,
    "start_time": "2023-01-10T14:08:42.332Z"
   },
   {
    "duration": 17,
    "start_time": "2023-01-10T14:08:42.336Z"
   },
   {
    "duration": 25,
    "start_time": "2023-01-10T14:08:42.355Z"
   },
   {
    "duration": 25,
    "start_time": "2023-01-10T14:08:42.382Z"
   },
   {
    "duration": 51,
    "start_time": "2023-01-10T14:08:42.409Z"
   },
   {
    "duration": 10,
    "start_time": "2023-01-10T14:08:42.463Z"
   },
   {
    "duration": 216,
    "start_time": "2023-01-10T14:08:42.474Z"
   },
   {
    "duration": 42,
    "start_time": "2023-01-10T14:08:42.692Z"
   },
   {
    "duration": 7,
    "start_time": "2023-01-10T14:08:42.736Z"
   },
   {
    "duration": 15,
    "start_time": "2023-01-10T14:08:42.745Z"
   },
   {
    "duration": 8,
    "start_time": "2023-01-10T14:08:42.762Z"
   },
   {
    "duration": 7,
    "start_time": "2023-01-10T14:08:42.772Z"
   },
   {
    "duration": 26,
    "start_time": "2023-01-10T14:08:42.781Z"
   },
   {
    "duration": 26,
    "start_time": "2023-01-10T14:08:42.808Z"
   },
   {
    "duration": 18,
    "start_time": "2023-01-10T14:08:42.835Z"
   },
   {
    "duration": 13,
    "start_time": "2023-01-10T14:08:42.854Z"
   },
   {
    "duration": 21,
    "start_time": "2023-01-10T14:08:42.868Z"
   },
   {
    "duration": 6,
    "start_time": "2023-01-10T14:08:42.890Z"
   },
   {
    "duration": 17,
    "start_time": "2023-01-10T14:08:42.909Z"
   },
   {
    "duration": 9,
    "start_time": "2023-01-10T14:08:42.927Z"
   },
   {
    "duration": 11,
    "start_time": "2023-01-10T14:08:42.937Z"
   },
   {
    "duration": 11,
    "start_time": "2023-01-10T14:08:42.949Z"
   },
   {
    "duration": 14,
    "start_time": "2023-01-10T14:08:42.962Z"
   },
   {
    "duration": 15,
    "start_time": "2023-01-10T14:08:42.980Z"
   },
   {
    "duration": 22,
    "start_time": "2023-01-10T14:08:42.996Z"
   },
   {
    "duration": 12,
    "start_time": "2023-01-10T14:08:43.020Z"
   },
   {
    "duration": 21,
    "start_time": "2023-01-10T14:08:43.033Z"
   },
   {
    "duration": 10,
    "start_time": "2023-01-10T14:08:43.056Z"
   },
   {
    "duration": 6,
    "start_time": "2023-01-10T14:08:43.068Z"
   },
   {
    "duration": 10,
    "start_time": "2023-01-10T14:08:43.075Z"
   },
   {
    "duration": 26,
    "start_time": "2023-01-10T14:08:43.086Z"
   },
   {
    "duration": 14,
    "start_time": "2023-01-10T14:08:43.113Z"
   },
   {
    "duration": 26,
    "start_time": "2023-01-10T14:08:43.129Z"
   },
   {
    "duration": 62,
    "start_time": "2023-01-10T14:08:43.157Z"
   },
   {
    "duration": 37,
    "start_time": "2023-01-10T14:08:43.221Z"
   },
   {
    "duration": 64,
    "start_time": "2023-01-10T14:08:43.260Z"
   },
   {
    "duration": 293,
    "start_time": "2023-01-10T14:08:43.326Z"
   },
   {
    "duration": 215,
    "start_time": "2023-01-10T14:08:43.621Z"
   },
   {
    "duration": 5,
    "start_time": "2023-01-10T14:08:43.837Z"
   },
   {
    "duration": 226,
    "start_time": "2023-01-10T14:08:43.843Z"
   },
   {
    "duration": 6,
    "start_time": "2023-01-10T14:08:44.071Z"
   },
   {
    "duration": 359,
    "start_time": "2023-01-10T14:08:44.079Z"
   },
   {
    "duration": 5,
    "start_time": "2023-01-10T14:08:44.440Z"
   },
   {
    "duration": 72,
    "start_time": "2023-01-10T14:08:44.446Z"
   },
   {
    "duration": 9,
    "start_time": "2023-01-10T14:08:44.519Z"
   },
   {
    "duration": 42,
    "start_time": "2023-01-10T14:08:44.529Z"
   },
   {
    "duration": 74,
    "start_time": "2023-01-10T14:08:44.574Z"
   },
   {
    "duration": 9,
    "start_time": "2023-01-10T14:08:44.650Z"
   },
   {
    "duration": 256,
    "start_time": "2023-01-10T14:08:44.661Z"
   },
   {
    "duration": 8,
    "start_time": "2023-01-10T14:08:44.919Z"
   },
   {
    "duration": 314,
    "start_time": "2023-01-10T14:08:44.929Z"
   },
   {
    "duration": 7,
    "start_time": "2023-01-10T14:08:45.245Z"
   },
   {
    "duration": 9,
    "start_time": "2023-01-10T14:08:45.253Z"
   },
   {
    "duration": 164,
    "start_time": "2023-01-10T14:08:45.264Z"
   },
   {
    "duration": 5,
    "start_time": "2023-01-10T14:08:45.429Z"
   },
   {
    "duration": 270,
    "start_time": "2023-01-10T14:08:45.435Z"
   },
   {
    "duration": 6,
    "start_time": "2023-01-10T14:08:45.708Z"
   },
   {
    "duration": 26,
    "start_time": "2023-01-10T14:08:45.716Z"
   },
   {
    "duration": 19,
    "start_time": "2023-01-10T14:08:45.744Z"
   },
   {
    "duration": 16,
    "start_time": "2023-01-10T14:08:45.764Z"
   },
   {
    "duration": 21,
    "start_time": "2023-01-10T14:08:45.782Z"
   },
   {
    "duration": 71,
    "start_time": "2023-01-10T14:08:45.805Z"
   },
   {
    "duration": 27,
    "start_time": "2023-01-10T14:08:45.878Z"
   },
   {
    "duration": 10,
    "start_time": "2023-01-10T14:31:07.059Z"
   },
   {
    "duration": 5,
    "start_time": "2023-01-10T14:31:13.904Z"
   },
   {
    "duration": 4,
    "start_time": "2023-01-10T14:31:22.825Z"
   },
   {
    "duration": 10,
    "start_time": "2023-01-10T14:33:07.109Z"
   },
   {
    "duration": 12,
    "start_time": "2023-01-10T14:33:14.911Z"
   },
   {
    "duration": 8,
    "start_time": "2023-01-10T14:33:22.850Z"
   },
   {
    "duration": 39,
    "start_time": "2023-01-10T14:33:45.323Z"
   },
   {
    "duration": 5,
    "start_time": "2023-01-10T14:34:25.713Z"
   },
   {
    "duration": 21,
    "start_time": "2023-01-10T14:34:41.840Z"
   },
   {
    "duration": 206,
    "start_time": "2023-01-10T15:20:02.491Z"
   },
   {
    "duration": 308,
    "start_time": "2023-01-10T15:27:07.495Z"
   },
   {
    "duration": 197,
    "start_time": "2023-01-10T15:27:51.538Z"
   },
   {
    "duration": 191,
    "start_time": "2023-01-10T15:27:59.113Z"
   },
   {
    "duration": 193,
    "start_time": "2023-01-10T15:28:07.541Z"
   },
   {
    "duration": 316,
    "start_time": "2023-01-10T15:28:15.804Z"
   },
   {
    "duration": 205,
    "start_time": "2023-01-10T15:31:14.861Z"
   },
   {
    "duration": 305,
    "start_time": "2023-01-10T15:32:29.717Z"
   },
   {
    "duration": 140,
    "start_time": "2023-01-10T15:37:26.539Z"
   },
   {
    "duration": 180,
    "start_time": "2023-01-10T15:37:32.957Z"
   },
   {
    "duration": 357,
    "start_time": "2023-01-10T16:26:00.577Z"
   },
   {
    "duration": 5,
    "start_time": "2023-01-10T16:26:31.640Z"
   },
   {
    "duration": 162,
    "start_time": "2023-01-10T16:26:34.024Z"
   },
   {
    "duration": 110,
    "start_time": "2023-01-10T16:30:03.001Z"
   },
   {
    "duration": 153,
    "start_time": "2023-01-10T16:30:04.446Z"
   },
   {
    "duration": 163,
    "start_time": "2023-01-10T16:30:08.461Z"
   },
   {
    "duration": 969,
    "start_time": "2023-01-10T16:30:27.607Z"
   },
   {
    "duration": 2,
    "start_time": "2023-01-10T16:30:28.578Z"
   },
   {
    "duration": 77,
    "start_time": "2023-01-10T16:30:28.582Z"
   },
   {
    "duration": 11,
    "start_time": "2023-01-10T16:30:28.661Z"
   },
   {
    "duration": 6,
    "start_time": "2023-01-10T16:30:28.673Z"
   },
   {
    "duration": 12,
    "start_time": "2023-01-10T16:30:28.681Z"
   },
   {
    "duration": 20,
    "start_time": "2023-01-10T16:30:28.695Z"
   },
   {
    "duration": 3,
    "start_time": "2023-01-10T16:30:28.717Z"
   },
   {
    "duration": 41,
    "start_time": "2023-01-10T16:30:28.721Z"
   },
   {
    "duration": 10,
    "start_time": "2023-01-10T16:30:28.764Z"
   },
   {
    "duration": 220,
    "start_time": "2023-01-10T16:30:28.775Z"
   },
   {
    "duration": 39,
    "start_time": "2023-01-10T16:30:28.997Z"
   },
   {
    "duration": 8,
    "start_time": "2023-01-10T16:30:29.037Z"
   },
   {
    "duration": 15,
    "start_time": "2023-01-10T16:30:29.046Z"
   },
   {
    "duration": 11,
    "start_time": "2023-01-10T16:30:29.063Z"
   },
   {
    "duration": 7,
    "start_time": "2023-01-10T16:30:29.076Z"
   },
   {
    "duration": 11,
    "start_time": "2023-01-10T16:30:29.085Z"
   },
   {
    "duration": 12,
    "start_time": "2023-01-10T16:30:29.098Z"
   },
   {
    "duration": 10,
    "start_time": "2023-01-10T16:30:29.111Z"
   },
   {
    "duration": 4,
    "start_time": "2023-01-10T16:30:29.122Z"
   },
   {
    "duration": 17,
    "start_time": "2023-01-10T16:30:29.127Z"
   },
   {
    "duration": 6,
    "start_time": "2023-01-10T16:30:29.146Z"
   },
   {
    "duration": 10,
    "start_time": "2023-01-10T16:30:29.153Z"
   },
   {
    "duration": 6,
    "start_time": "2023-01-10T16:30:29.165Z"
   },
   {
    "duration": 10,
    "start_time": "2023-01-10T16:30:29.172Z"
   },
   {
    "duration": 6,
    "start_time": "2023-01-10T16:30:29.183Z"
   },
   {
    "duration": 11,
    "start_time": "2023-01-10T16:30:29.191Z"
   },
   {
    "duration": 12,
    "start_time": "2023-01-10T16:30:29.206Z"
   },
   {
    "duration": 3,
    "start_time": "2023-01-10T16:30:29.219Z"
   },
   {
    "duration": 12,
    "start_time": "2023-01-10T16:30:29.223Z"
   },
   {
    "duration": 6,
    "start_time": "2023-01-10T16:30:29.236Z"
   },
   {
    "duration": 8,
    "start_time": "2023-01-10T16:30:29.243Z"
   },
   {
    "duration": 6,
    "start_time": "2023-01-10T16:30:29.254Z"
   },
   {
    "duration": 8,
    "start_time": "2023-01-10T16:30:29.261Z"
   },
   {
    "duration": 34,
    "start_time": "2023-01-10T16:30:29.270Z"
   },
   {
    "duration": 7,
    "start_time": "2023-01-10T16:30:29.305Z"
   },
   {
    "duration": 14,
    "start_time": "2023-01-10T16:30:29.313Z"
   },
   {
    "duration": 69,
    "start_time": "2023-01-10T16:30:29.329Z"
   },
   {
    "duration": 12,
    "start_time": "2023-01-10T16:30:29.400Z"
   },
   {
    "duration": 49,
    "start_time": "2023-01-10T16:30:29.413Z"
   },
   {
    "duration": 262,
    "start_time": "2023-01-10T16:30:29.464Z"
   },
   {
    "duration": 189,
    "start_time": "2023-01-10T16:30:29.728Z"
   },
   {
    "duration": 4,
    "start_time": "2023-01-10T16:30:29.919Z"
   },
   {
    "duration": 226,
    "start_time": "2023-01-10T16:30:29.925Z"
   },
   {
    "duration": 6,
    "start_time": "2023-01-10T16:30:30.152Z"
   },
   {
    "duration": 326,
    "start_time": "2023-01-10T16:30:30.160Z"
   },
   {
    "duration": 4,
    "start_time": "2023-01-10T16:30:30.488Z"
   },
   {
    "duration": 77,
    "start_time": "2023-01-10T16:30:30.493Z"
   },
   {
    "duration": 25,
    "start_time": "2023-01-10T16:30:30.572Z"
   },
   {
    "duration": 28,
    "start_time": "2023-01-10T16:30:30.599Z"
   },
   {
    "duration": 79,
    "start_time": "2023-01-10T16:30:30.629Z"
   },
   {
    "duration": 23,
    "start_time": "2023-01-10T16:30:30.710Z"
   },
   {
    "duration": 223,
    "start_time": "2023-01-10T16:30:30.734Z"
   },
   {
    "duration": 6,
    "start_time": "2023-01-10T16:30:30.958Z"
   },
   {
    "duration": 338,
    "start_time": "2023-01-10T16:30:30.966Z"
   },
   {
    "duration": 5,
    "start_time": "2023-01-10T16:30:31.306Z"
   },
   {
    "duration": 23,
    "start_time": "2023-01-10T16:30:31.312Z"
   },
   {
    "duration": 147,
    "start_time": "2023-01-10T16:30:31.336Z"
   },
   {
    "duration": 3,
    "start_time": "2023-01-10T16:30:31.485Z"
   },
   {
    "duration": 229,
    "start_time": "2023-01-10T16:30:31.497Z"
   },
   {
    "duration": 4,
    "start_time": "2023-01-10T16:30:31.727Z"
   },
   {
    "duration": 12,
    "start_time": "2023-01-10T16:30:31.733Z"
   },
   {
    "duration": 6,
    "start_time": "2023-01-10T16:30:31.747Z"
   },
   {
    "duration": 6,
    "start_time": "2023-01-10T16:30:31.755Z"
   },
   {
    "duration": 10,
    "start_time": "2023-01-10T16:30:31.763Z"
   },
   {
    "duration": 56,
    "start_time": "2023-01-10T16:30:31.774Z"
   },
   {
    "duration": 17,
    "start_time": "2023-01-10T16:30:31.832Z"
   },
   {
    "duration": 7,
    "start_time": "2023-01-10T16:30:31.851Z"
   },
   {
    "duration": 10,
    "start_time": "2023-01-10T16:30:31.859Z"
   },
   {
    "duration": 6,
    "start_time": "2023-01-10T16:30:31.870Z"
   },
   {
    "duration": 22,
    "start_time": "2023-01-10T16:30:31.877Z"
   },
   {
    "duration": 40,
    "start_time": "2023-01-10T16:30:31.901Z"
   },
   {
    "duration": 17,
    "start_time": "2023-01-10T16:30:31.942Z"
   },
   {
    "duration": 45,
    "start_time": "2023-01-10T16:30:31.960Z"
   },
   {
    "duration": 5,
    "start_time": "2023-01-10T16:30:32.007Z"
   },
   {
    "duration": 33,
    "start_time": "2023-01-10T16:30:32.013Z"
   },
   {
    "duration": 112,
    "start_time": "2023-01-10T16:30:32.047Z"
   },
   {
    "duration": 161,
    "start_time": "2023-01-10T16:30:32.160Z"
   },
   {
    "duration": 180,
    "start_time": "2023-01-10T16:30:32.323Z"
   },
   {
    "duration": 278,
    "start_time": "2023-01-10T16:35:06.733Z"
   },
   {
    "duration": 303,
    "start_time": "2023-01-10T16:35:19.483Z"
   },
   {
    "duration": 260,
    "start_time": "2023-01-10T16:38:32.651Z"
   },
   {
    "duration": 168,
    "start_time": "2023-01-10T16:39:28.012Z"
   },
   {
    "duration": 188,
    "start_time": "2023-01-10T16:39:55.291Z"
   },
   {
    "duration": 325,
    "start_time": "2023-01-10T16:40:41.964Z"
   },
   {
    "duration": 433,
    "start_time": "2023-01-10T16:41:14.739Z"
   },
   {
    "duration": 112,
    "start_time": "2023-01-10T16:43:33.992Z"
   },
   {
    "duration": 347,
    "start_time": "2023-01-10T16:43:57.032Z"
   },
   {
    "duration": 1028,
    "start_time": "2023-01-10T17:03:37.194Z"
   },
   {
    "duration": 3,
    "start_time": "2023-01-10T17:03:38.224Z"
   },
   {
    "duration": 56,
    "start_time": "2023-01-10T17:03:38.228Z"
   },
   {
    "duration": 19,
    "start_time": "2023-01-10T17:03:38.286Z"
   },
   {
    "duration": 3,
    "start_time": "2023-01-10T17:03:38.306Z"
   },
   {
    "duration": 13,
    "start_time": "2023-01-10T17:03:38.311Z"
   },
   {
    "duration": 19,
    "start_time": "2023-01-10T17:03:38.325Z"
   },
   {
    "duration": 4,
    "start_time": "2023-01-10T17:03:38.346Z"
   },
   {
    "duration": 63,
    "start_time": "2023-01-10T17:03:38.353Z"
   },
   {
    "duration": 10,
    "start_time": "2023-01-10T17:03:38.419Z"
   },
   {
    "duration": 242,
    "start_time": "2023-01-10T17:03:38.430Z"
   },
   {
    "duration": 38,
    "start_time": "2023-01-10T17:03:38.674Z"
   },
   {
    "duration": 8,
    "start_time": "2023-01-10T17:03:38.714Z"
   },
   {
    "duration": 13,
    "start_time": "2023-01-10T17:03:38.723Z"
   },
   {
    "duration": 10,
    "start_time": "2023-01-10T17:03:38.738Z"
   },
   {
    "duration": 6,
    "start_time": "2023-01-10T17:03:38.749Z"
   },
   {
    "duration": 12,
    "start_time": "2023-01-10T17:03:38.757Z"
   },
   {
    "duration": 14,
    "start_time": "2023-01-10T17:03:38.770Z"
   },
   {
    "duration": 15,
    "start_time": "2023-01-10T17:03:38.786Z"
   },
   {
    "duration": 5,
    "start_time": "2023-01-10T17:03:38.802Z"
   },
   {
    "duration": 19,
    "start_time": "2023-01-10T17:03:38.808Z"
   },
   {
    "duration": 7,
    "start_time": "2023-01-10T17:03:38.828Z"
   },
   {
    "duration": 12,
    "start_time": "2023-01-10T17:03:38.837Z"
   },
   {
    "duration": 7,
    "start_time": "2023-01-10T17:03:38.850Z"
   },
   {
    "duration": 6,
    "start_time": "2023-01-10T17:03:38.859Z"
   },
   {
    "duration": 33,
    "start_time": "2023-01-10T17:03:38.866Z"
   },
   {
    "duration": 15,
    "start_time": "2023-01-10T17:03:38.900Z"
   },
   {
    "duration": 15,
    "start_time": "2023-01-10T17:03:38.918Z"
   },
   {
    "duration": 4,
    "start_time": "2023-01-10T17:03:38.934Z"
   },
   {
    "duration": 11,
    "start_time": "2023-01-10T17:03:38.940Z"
   },
   {
    "duration": 6,
    "start_time": "2023-01-10T17:03:38.953Z"
   },
   {
    "duration": 15,
    "start_time": "2023-01-10T17:03:38.961Z"
   },
   {
    "duration": 24,
    "start_time": "2023-01-10T17:03:38.978Z"
   },
   {
    "duration": 15,
    "start_time": "2023-01-10T17:03:39.004Z"
   },
   {
    "duration": 19,
    "start_time": "2023-01-10T17:03:39.021Z"
   },
   {
    "duration": 8,
    "start_time": "2023-01-10T17:03:39.042Z"
   },
   {
    "duration": 15,
    "start_time": "2023-01-10T17:03:39.052Z"
   },
   {
    "duration": 70,
    "start_time": "2023-01-10T17:03:39.068Z"
   },
   {
    "duration": 14,
    "start_time": "2023-01-10T17:03:39.140Z"
   },
   {
    "duration": 73,
    "start_time": "2023-01-10T17:03:39.156Z"
   },
   {
    "duration": 269,
    "start_time": "2023-01-10T17:03:39.231Z"
   },
   {
    "duration": 203,
    "start_time": "2023-01-10T17:03:39.502Z"
   },
   {
    "duration": 5,
    "start_time": "2023-01-10T17:03:39.707Z"
   },
   {
    "duration": 210,
    "start_time": "2023-01-10T17:03:39.714Z"
   },
   {
    "duration": 6,
    "start_time": "2023-01-10T17:03:39.926Z"
   },
   {
    "duration": 314,
    "start_time": "2023-01-10T17:03:39.934Z"
   },
   {
    "duration": 4,
    "start_time": "2023-01-10T17:03:40.250Z"
   },
   {
    "duration": 65,
    "start_time": "2023-01-10T17:03:40.256Z"
   },
   {
    "duration": 10,
    "start_time": "2023-01-10T17:03:40.323Z"
   },
   {
    "duration": 7,
    "start_time": "2023-01-10T17:03:40.335Z"
   },
   {
    "duration": 73,
    "start_time": "2023-01-10T17:03:40.343Z"
   },
   {
    "duration": 12,
    "start_time": "2023-01-10T17:03:40.418Z"
   },
   {
    "duration": 214,
    "start_time": "2023-01-10T17:03:40.432Z"
   },
   {
    "duration": 9,
    "start_time": "2023-01-10T17:03:40.648Z"
   },
   {
    "duration": 313,
    "start_time": "2023-01-10T17:03:40.658Z"
   },
   {
    "duration": 7,
    "start_time": "2023-01-10T17:03:40.973Z"
   },
   {
    "duration": 20,
    "start_time": "2023-01-10T17:03:40.981Z"
   },
   {
    "duration": 155,
    "start_time": "2023-01-10T17:03:41.003Z"
   },
   {
    "duration": 5,
    "start_time": "2023-01-10T17:03:41.160Z"
   },
   {
    "duration": 266,
    "start_time": "2023-01-10T17:03:41.167Z"
   },
   {
    "duration": 4,
    "start_time": "2023-01-10T17:03:41.435Z"
   },
   {
    "duration": 10,
    "start_time": "2023-01-10T17:03:41.441Z"
   },
   {
    "duration": 9,
    "start_time": "2023-01-10T17:03:41.452Z"
   },
   {
    "duration": 11,
    "start_time": "2023-01-10T17:03:41.463Z"
   },
   {
    "duration": 24,
    "start_time": "2023-01-10T17:03:41.475Z"
   },
   {
    "duration": 52,
    "start_time": "2023-01-10T17:03:41.501Z"
   },
   {
    "duration": 19,
    "start_time": "2023-01-10T17:03:41.555Z"
   },
   {
    "duration": 7,
    "start_time": "2023-01-10T17:03:41.575Z"
   },
   {
    "duration": 15,
    "start_time": "2023-01-10T17:03:41.583Z"
   },
   {
    "duration": 9,
    "start_time": "2023-01-10T17:03:41.599Z"
   },
   {
    "duration": 14,
    "start_time": "2023-01-10T17:03:41.609Z"
   },
   {
    "duration": 59,
    "start_time": "2023-01-10T17:03:41.624Z"
   },
   {
    "duration": 6,
    "start_time": "2023-01-10T17:03:41.685Z"
   },
   {
    "duration": 43,
    "start_time": "2023-01-10T17:03:41.693Z"
   },
   {
    "duration": 6,
    "start_time": "2023-01-10T17:03:41.737Z"
   },
   {
    "duration": 30,
    "start_time": "2023-01-10T17:03:41.744Z"
   },
   {
    "duration": 122,
    "start_time": "2023-01-10T17:03:41.775Z"
   },
   {
    "duration": 370,
    "start_time": "2023-01-10T17:03:41.899Z"
   },
   {
    "duration": 45,
    "start_time": "2023-01-10T19:31:54.754Z"
   },
   {
    "duration": 1153,
    "start_time": "2023-01-10T19:32:01.742Z"
   },
   {
    "duration": 2,
    "start_time": "2023-01-10T19:32:02.897Z"
   },
   {
    "duration": 142,
    "start_time": "2023-01-10T19:32:02.900Z"
   },
   {
    "duration": 10,
    "start_time": "2023-01-10T19:32:03.044Z"
   },
   {
    "duration": 8,
    "start_time": "2023-01-10T19:32:03.056Z"
   },
   {
    "duration": 17,
    "start_time": "2023-01-10T19:32:03.066Z"
   },
   {
    "duration": 26,
    "start_time": "2023-01-10T19:32:03.085Z"
   },
   {
    "duration": 4,
    "start_time": "2023-01-10T19:32:03.112Z"
   },
   {
    "duration": 47,
    "start_time": "2023-01-10T19:32:03.118Z"
   },
   {
    "duration": 11,
    "start_time": "2023-01-10T19:32:03.168Z"
   },
   {
    "duration": 230,
    "start_time": "2023-01-10T19:32:03.181Z"
   },
   {
    "duration": 96,
    "start_time": "2023-01-10T19:32:03.420Z"
   },
   {
    "duration": 8,
    "start_time": "2023-01-10T19:32:03.518Z"
   },
   {
    "duration": 16,
    "start_time": "2023-01-10T19:32:03.528Z"
   },
   {
    "duration": 9,
    "start_time": "2023-01-10T19:32:03.546Z"
   },
   {
    "duration": 10,
    "start_time": "2023-01-10T19:32:03.557Z"
   },
   {
    "duration": 11,
    "start_time": "2023-01-10T19:32:03.569Z"
   },
   {
    "duration": 19,
    "start_time": "2023-01-10T19:32:03.581Z"
   },
   {
    "duration": 10,
    "start_time": "2023-01-10T19:32:03.601Z"
   },
   {
    "duration": 23,
    "start_time": "2023-01-10T19:32:03.613Z"
   },
   {
    "duration": 9,
    "start_time": "2023-01-10T19:32:03.638Z"
   },
   {
    "duration": 64,
    "start_time": "2023-01-10T19:32:03.648Z"
   },
   {
    "duration": 8,
    "start_time": "2023-01-10T19:32:03.714Z"
   },
   {
    "duration": 37,
    "start_time": "2023-01-10T19:32:03.723Z"
   },
   {
    "duration": 8,
    "start_time": "2023-01-10T19:32:03.761Z"
   },
   {
    "duration": 14,
    "start_time": "2023-01-10T19:32:03.770Z"
   },
   {
    "duration": 9,
    "start_time": "2023-01-10T19:32:03.786Z"
   },
   {
    "duration": 13,
    "start_time": "2023-01-10T19:32:03.799Z"
   },
   {
    "duration": 15,
    "start_time": "2023-01-10T19:32:03.813Z"
   },
   {
    "duration": 5,
    "start_time": "2023-01-10T19:32:03.830Z"
   },
   {
    "duration": 11,
    "start_time": "2023-01-10T19:32:03.837Z"
   },
   {
    "duration": 12,
    "start_time": "2023-01-10T19:32:03.849Z"
   },
   {
    "duration": 17,
    "start_time": "2023-01-10T19:32:03.863Z"
   },
   {
    "duration": 11,
    "start_time": "2023-01-10T19:32:03.882Z"
   },
   {
    "duration": 17,
    "start_time": "2023-01-10T19:32:03.894Z"
   },
   {
    "duration": 18,
    "start_time": "2023-01-10T19:32:03.913Z"
   },
   {
    "duration": 13,
    "start_time": "2023-01-10T19:32:03.932Z"
   },
   {
    "duration": 23,
    "start_time": "2023-01-10T19:32:03.947Z"
   },
   {
    "duration": 64,
    "start_time": "2023-01-10T19:32:03.972Z"
   },
   {
    "duration": 12,
    "start_time": "2023-01-10T19:32:04.038Z"
   },
   {
    "duration": 54,
    "start_time": "2023-01-10T19:32:04.052Z"
   },
   {
    "duration": 274,
    "start_time": "2023-01-10T19:32:04.108Z"
   },
   {
    "duration": 205,
    "start_time": "2023-01-10T19:32:04.384Z"
   },
   {
    "duration": 5,
    "start_time": "2023-01-10T19:32:04.591Z"
   },
   {
    "duration": 205,
    "start_time": "2023-01-10T19:32:04.598Z"
   },
   {
    "duration": 17,
    "start_time": "2023-01-10T19:32:04.805Z"
   },
   {
    "duration": 363,
    "start_time": "2023-01-10T19:32:04.824Z"
   },
   {
    "duration": 4,
    "start_time": "2023-01-10T19:32:05.189Z"
   },
   {
    "duration": 59,
    "start_time": "2023-01-10T19:32:05.195Z"
   },
   {
    "duration": 6,
    "start_time": "2023-01-10T19:32:05.255Z"
   },
   {
    "duration": 9,
    "start_time": "2023-01-10T19:32:05.262Z"
   },
   {
    "duration": 57,
    "start_time": "2023-01-10T19:32:05.272Z"
   },
   {
    "duration": 6,
    "start_time": "2023-01-10T19:32:05.330Z"
   },
   {
    "duration": 211,
    "start_time": "2023-01-10T19:32:05.337Z"
   },
   {
    "duration": 7,
    "start_time": "2023-01-10T19:32:05.549Z"
   },
   {
    "duration": 332,
    "start_time": "2023-01-10T19:32:05.558Z"
   },
   {
    "duration": 5,
    "start_time": "2023-01-10T19:32:05.892Z"
   },
   {
    "duration": 18,
    "start_time": "2023-01-10T19:32:05.898Z"
   },
   {
    "duration": 149,
    "start_time": "2023-01-10T19:32:05.918Z"
   },
   {
    "duration": 4,
    "start_time": "2023-01-10T19:32:06.068Z"
   },
   {
    "duration": 248,
    "start_time": "2023-01-10T19:32:06.073Z"
   },
   {
    "duration": 5,
    "start_time": "2023-01-10T19:32:06.322Z"
   },
   {
    "duration": 12,
    "start_time": "2023-01-10T19:32:06.328Z"
   },
   {
    "duration": 9,
    "start_time": "2023-01-10T19:32:06.342Z"
   },
   {
    "duration": 8,
    "start_time": "2023-01-10T19:32:06.353Z"
   },
   {
    "duration": 9,
    "start_time": "2023-01-10T19:32:06.363Z"
   },
   {
    "duration": 53,
    "start_time": "2023-01-10T19:32:06.374Z"
   },
   {
    "duration": 19,
    "start_time": "2023-01-10T19:32:06.428Z"
   },
   {
    "duration": 7,
    "start_time": "2023-01-10T19:32:06.448Z"
   },
   {
    "duration": 16,
    "start_time": "2023-01-10T19:32:06.456Z"
   },
   {
    "duration": 6,
    "start_time": "2023-01-10T19:32:06.473Z"
   },
   {
    "duration": 13,
    "start_time": "2023-01-10T19:32:06.481Z"
   },
   {
    "duration": 8,
    "start_time": "2023-01-10T19:32:06.495Z"
   },
   {
    "duration": 19,
    "start_time": "2023-01-10T19:32:06.505Z"
   },
   {
    "duration": 39,
    "start_time": "2023-01-10T19:32:06.525Z"
   },
   {
    "duration": 5,
    "start_time": "2023-01-10T19:32:06.566Z"
   },
   {
    "duration": 28,
    "start_time": "2023-01-10T19:32:06.572Z"
   },
   {
    "duration": 112,
    "start_time": "2023-01-10T19:32:06.602Z"
   },
   {
    "duration": 349,
    "start_time": "2023-01-10T19:32:06.721Z"
   },
   {
    "duration": 6,
    "start_time": "2023-01-10T19:32:28.476Z"
   },
   {
    "duration": 1066,
    "start_time": "2023-01-10T19:32:34.505Z"
   },
   {
    "duration": 3,
    "start_time": "2023-01-10T19:32:35.573Z"
   },
   {
    "duration": 58,
    "start_time": "2023-01-10T19:32:35.577Z"
   },
   {
    "duration": 11,
    "start_time": "2023-01-10T19:32:35.637Z"
   },
   {
    "duration": 11,
    "start_time": "2023-01-10T19:32:35.649Z"
   },
   {
    "duration": 21,
    "start_time": "2023-01-10T19:32:35.661Z"
   },
   {
    "duration": 25,
    "start_time": "2023-01-10T19:32:35.683Z"
   },
   {
    "duration": 4,
    "start_time": "2023-01-10T19:32:35.709Z"
   },
   {
    "duration": 46,
    "start_time": "2023-01-10T19:32:35.714Z"
   },
   {
    "duration": 10,
    "start_time": "2023-01-10T19:32:35.763Z"
   },
   {
    "duration": 212,
    "start_time": "2023-01-10T19:32:35.774Z"
   },
   {
    "duration": 39,
    "start_time": "2023-01-10T19:32:35.987Z"
   },
   {
    "duration": 7,
    "start_time": "2023-01-10T19:32:36.027Z"
   },
   {
    "duration": 13,
    "start_time": "2023-01-10T19:32:36.036Z"
   },
   {
    "duration": 10,
    "start_time": "2023-01-10T19:32:36.050Z"
   },
   {
    "duration": 9,
    "start_time": "2023-01-10T19:32:36.061Z"
   },
   {
    "duration": 7,
    "start_time": "2023-01-10T19:32:36.072Z"
   },
   {
    "duration": 15,
    "start_time": "2023-01-10T19:32:36.080Z"
   },
   {
    "duration": 12,
    "start_time": "2023-01-10T19:32:36.096Z"
   },
   {
    "duration": 15,
    "start_time": "2023-01-10T19:32:36.109Z"
   },
   {
    "duration": 23,
    "start_time": "2023-01-10T19:32:36.126Z"
   },
   {
    "duration": 26,
    "start_time": "2023-01-10T19:32:36.151Z"
   },
   {
    "duration": 7,
    "start_time": "2023-01-10T19:32:36.178Z"
   },
   {
    "duration": 10,
    "start_time": "2023-01-10T19:32:36.187Z"
   },
   {
    "duration": 6,
    "start_time": "2023-01-10T19:32:36.199Z"
   },
   {
    "duration": 8,
    "start_time": "2023-01-10T19:32:36.207Z"
   },
   {
    "duration": 7,
    "start_time": "2023-01-10T19:32:36.217Z"
   },
   {
    "duration": 7,
    "start_time": "2023-01-10T19:32:36.227Z"
   },
   {
    "duration": 10,
    "start_time": "2023-01-10T19:32:36.235Z"
   },
   {
    "duration": 15,
    "start_time": "2023-01-10T19:32:36.246Z"
   },
   {
    "duration": 3,
    "start_time": "2023-01-10T19:32:36.262Z"
   },
   {
    "duration": 24,
    "start_time": "2023-01-10T19:32:36.267Z"
   },
   {
    "duration": 10,
    "start_time": "2023-01-10T19:32:36.292Z"
   },
   {
    "duration": 6,
    "start_time": "2023-01-10T19:32:36.304Z"
   },
   {
    "duration": 13,
    "start_time": "2023-01-10T19:32:36.312Z"
   },
   {
    "duration": 9,
    "start_time": "2023-01-10T19:32:36.326Z"
   },
   {
    "duration": 13,
    "start_time": "2023-01-10T19:32:36.336Z"
   },
   {
    "duration": 8,
    "start_time": "2023-01-10T19:32:36.351Z"
   },
   {
    "duration": 16,
    "start_time": "2023-01-10T19:32:36.360Z"
   },
   {
    "duration": 74,
    "start_time": "2023-01-10T19:32:36.378Z"
   },
   {
    "duration": 14,
    "start_time": "2023-01-10T19:32:36.454Z"
   },
   {
    "duration": 64,
    "start_time": "2023-01-10T19:32:36.469Z"
   },
   {
    "duration": 274,
    "start_time": "2023-01-10T19:32:36.535Z"
   },
   {
    "duration": 196,
    "start_time": "2023-01-10T19:32:36.810Z"
   },
   {
    "duration": 4,
    "start_time": "2023-01-10T19:32:37.007Z"
   },
   {
    "duration": 211,
    "start_time": "2023-01-10T19:32:37.013Z"
   },
   {
    "duration": 6,
    "start_time": "2023-01-10T19:32:37.225Z"
   },
   {
    "duration": 303,
    "start_time": "2023-01-10T19:32:37.233Z"
   },
   {
    "duration": 5,
    "start_time": "2023-01-10T19:32:37.537Z"
   },
   {
    "duration": 57,
    "start_time": "2023-01-10T19:32:37.543Z"
   },
   {
    "duration": 6,
    "start_time": "2023-01-10T19:32:37.601Z"
   },
   {
    "duration": 7,
    "start_time": "2023-01-10T19:32:37.620Z"
   },
   {
    "duration": 62,
    "start_time": "2023-01-10T19:32:37.628Z"
   },
   {
    "duration": 7,
    "start_time": "2023-01-10T19:32:37.692Z"
   },
   {
    "duration": 221,
    "start_time": "2023-01-10T19:32:37.701Z"
   },
   {
    "duration": 8,
    "start_time": "2023-01-10T19:32:37.924Z"
   },
   {
    "duration": 310,
    "start_time": "2023-01-10T19:32:37.934Z"
   },
   {
    "duration": 7,
    "start_time": "2023-01-10T19:32:38.246Z"
   },
   {
    "duration": 16,
    "start_time": "2023-01-10T19:32:38.255Z"
   },
   {
    "duration": 167,
    "start_time": "2023-01-10T19:32:38.273Z"
   },
   {
    "duration": 4,
    "start_time": "2023-01-10T19:32:38.443Z"
   },
   {
    "duration": 260,
    "start_time": "2023-01-10T19:32:38.449Z"
   },
   {
    "duration": 4,
    "start_time": "2023-01-10T19:32:38.711Z"
   },
   {
    "duration": 19,
    "start_time": "2023-01-10T19:32:38.721Z"
   },
   {
    "duration": 15,
    "start_time": "2023-01-10T19:32:38.742Z"
   },
   {
    "duration": 23,
    "start_time": "2023-01-10T19:32:38.758Z"
   },
   {
    "duration": 8,
    "start_time": "2023-01-10T19:32:38.782Z"
   },
   {
    "duration": 59,
    "start_time": "2023-01-10T19:32:38.791Z"
   },
   {
    "duration": 18,
    "start_time": "2023-01-10T19:32:38.852Z"
   },
   {
    "duration": 7,
    "start_time": "2023-01-10T19:32:38.872Z"
   },
   {
    "duration": 11,
    "start_time": "2023-01-10T19:32:38.881Z"
   },
   {
    "duration": 9,
    "start_time": "2023-01-10T19:32:38.893Z"
   },
   {
    "duration": 26,
    "start_time": "2023-01-10T19:32:38.903Z"
   },
   {
    "duration": 54,
    "start_time": "2023-01-10T19:32:38.930Z"
   },
   {
    "duration": 16,
    "start_time": "2023-01-10T19:32:38.985Z"
   },
   {
    "duration": 49,
    "start_time": "2023-01-10T19:32:39.003Z"
   },
   {
    "duration": 6,
    "start_time": "2023-01-10T19:32:39.054Z"
   },
   {
    "duration": 32,
    "start_time": "2023-01-10T19:32:39.061Z"
   },
   {
    "duration": 112,
    "start_time": "2023-01-10T19:32:39.095Z"
   },
   {
    "duration": 352,
    "start_time": "2023-01-10T19:32:39.208Z"
   },
   {
    "duration": 1716,
    "start_time": "2023-01-10T19:34:15.451Z"
   },
   {
    "duration": 206,
    "start_time": "2023-01-10T19:34:42.794Z"
   },
   {
    "duration": 147,
    "start_time": "2023-01-10T19:34:52.595Z"
   },
   {
    "duration": 150,
    "start_time": "2023-01-10T19:35:00.330Z"
   },
   {
    "duration": 4,
    "start_time": "2023-01-10T19:38:13.276Z"
   },
   {
    "duration": 4,
    "start_time": "2023-01-10T19:38:31.940Z"
   },
   {
    "duration": 39,
    "start_time": "2023-01-10T19:40:32.957Z"
   },
   {
    "duration": 4,
    "start_time": "2023-01-10T19:41:37.497Z"
   },
   {
    "duration": 3,
    "start_time": "2023-01-10T19:42:50.281Z"
   },
   {
    "duration": 2,
    "start_time": "2023-01-10T19:42:52.195Z"
   },
   {
    "duration": 112,
    "start_time": "2023-01-10T19:43:02.803Z"
   },
   {
    "duration": 4,
    "start_time": "2023-01-10T19:44:02.812Z"
   },
   {
    "duration": 8,
    "start_time": "2023-01-10T19:44:35.352Z"
   },
   {
    "duration": 3,
    "start_time": "2023-01-10T19:44:42.595Z"
   },
   {
    "duration": 4,
    "start_time": "2023-01-10T19:44:46.903Z"
   },
   {
    "duration": 3,
    "start_time": "2023-01-10T19:44:57.776Z"
   },
   {
    "duration": 3,
    "start_time": "2023-01-10T19:45:00.208Z"
   },
   {
    "duration": 4,
    "start_time": "2023-01-10T19:45:15.824Z"
   },
   {
    "duration": 4,
    "start_time": "2023-01-10T19:45:19.359Z"
   },
   {
    "duration": 3,
    "start_time": "2023-01-10T19:45:39.060Z"
   },
   {
    "duration": 3,
    "start_time": "2023-01-10T19:45:43.399Z"
   },
   {
    "duration": 3,
    "start_time": "2023-01-10T19:45:54.160Z"
   },
   {
    "duration": 8,
    "start_time": "2023-01-10T19:46:08.450Z"
   },
   {
    "duration": 1070,
    "start_time": "2023-01-10T19:46:17.751Z"
   },
   {
    "duration": 3,
    "start_time": "2023-01-10T19:46:18.823Z"
   },
   {
    "duration": 61,
    "start_time": "2023-01-10T19:46:18.827Z"
   },
   {
    "duration": 16,
    "start_time": "2023-01-10T19:46:18.890Z"
   },
   {
    "duration": 5,
    "start_time": "2023-01-10T19:46:18.908Z"
   },
   {
    "duration": 15,
    "start_time": "2023-01-10T19:46:18.915Z"
   },
   {
    "duration": 31,
    "start_time": "2023-01-10T19:46:18.931Z"
   },
   {
    "duration": 8,
    "start_time": "2023-01-10T19:46:18.963Z"
   },
   {
    "duration": 63,
    "start_time": "2023-01-10T19:46:18.973Z"
   },
   {
    "duration": 12,
    "start_time": "2023-01-10T19:46:19.038Z"
   },
   {
    "duration": 226,
    "start_time": "2023-01-10T19:46:19.051Z"
   },
   {
    "duration": 39,
    "start_time": "2023-01-10T19:46:19.278Z"
   },
   {
    "duration": 7,
    "start_time": "2023-01-10T19:46:19.319Z"
   },
   {
    "duration": 11,
    "start_time": "2023-01-10T19:46:19.328Z"
   },
   {
    "duration": 24,
    "start_time": "2023-01-10T19:46:19.341Z"
   },
   {
    "duration": 13,
    "start_time": "2023-01-10T19:46:19.366Z"
   },
   {
    "duration": 20,
    "start_time": "2023-01-10T19:46:19.380Z"
   },
   {
    "duration": 12,
    "start_time": "2023-01-10T19:46:19.402Z"
   },
   {
    "duration": 8,
    "start_time": "2023-01-10T19:46:19.416Z"
   },
   {
    "duration": 13,
    "start_time": "2023-01-10T19:46:19.425Z"
   },
   {
    "duration": 5,
    "start_time": "2023-01-10T19:46:19.440Z"
   },
   {
    "duration": 22,
    "start_time": "2023-01-10T19:46:19.446Z"
   },
   {
    "duration": 7,
    "start_time": "2023-01-10T19:46:19.469Z"
   },
   {
    "duration": 13,
    "start_time": "2023-01-10T19:46:19.477Z"
   },
   {
    "duration": 8,
    "start_time": "2023-01-10T19:46:19.491Z"
   },
   {
    "duration": 7,
    "start_time": "2023-01-10T19:46:19.501Z"
   },
   {
    "duration": 8,
    "start_time": "2023-01-10T19:46:19.509Z"
   },
   {
    "duration": 4,
    "start_time": "2023-01-10T19:46:19.521Z"
   },
   {
    "duration": 10,
    "start_time": "2023-01-10T19:46:19.527Z"
   },
   {
    "duration": 23,
    "start_time": "2023-01-10T19:46:19.538Z"
   },
   {
    "duration": 5,
    "start_time": "2023-01-10T19:46:19.563Z"
   },
   {
    "duration": 16,
    "start_time": "2023-01-10T19:46:19.569Z"
   },
   {
    "duration": 9,
    "start_time": "2023-01-10T19:46:19.586Z"
   },
   {
    "duration": 7,
    "start_time": "2023-01-10T19:46:19.597Z"
   },
   {
    "duration": 19,
    "start_time": "2023-01-10T19:46:19.606Z"
   },
   {
    "duration": 6,
    "start_time": "2023-01-10T19:46:19.627Z"
   },
   {
    "duration": 12,
    "start_time": "2023-01-10T19:46:19.635Z"
   },
   {
    "duration": 8,
    "start_time": "2023-01-10T19:46:19.649Z"
   },
   {
    "duration": 16,
    "start_time": "2023-01-10T19:46:19.658Z"
   },
   {
    "duration": 73,
    "start_time": "2023-01-10T19:46:19.675Z"
   },
   {
    "duration": 13,
    "start_time": "2023-01-10T19:46:19.750Z"
   },
   {
    "duration": 63,
    "start_time": "2023-01-10T19:46:19.765Z"
   },
   {
    "duration": 282,
    "start_time": "2023-01-10T19:46:19.829Z"
   },
   {
    "duration": 200,
    "start_time": "2023-01-10T19:46:20.113Z"
   },
   {
    "duration": 8,
    "start_time": "2023-01-10T19:46:20.315Z"
   },
   {
    "duration": 207,
    "start_time": "2023-01-10T19:46:20.325Z"
   },
   {
    "duration": 7,
    "start_time": "2023-01-10T19:46:20.533Z"
   },
   {
    "duration": 315,
    "start_time": "2023-01-10T19:46:20.542Z"
   },
   {
    "duration": 5,
    "start_time": "2023-01-10T19:46:20.859Z"
   },
   {
    "duration": 65,
    "start_time": "2023-01-10T19:46:20.865Z"
   },
   {
    "duration": 7,
    "start_time": "2023-01-10T19:46:20.931Z"
   },
   {
    "duration": 10,
    "start_time": "2023-01-10T19:46:20.939Z"
   },
   {
    "duration": 59,
    "start_time": "2023-01-10T19:46:20.951Z"
   },
   {
    "duration": 12,
    "start_time": "2023-01-10T19:46:21.012Z"
   },
   {
    "duration": 210,
    "start_time": "2023-01-10T19:46:21.026Z"
   },
   {
    "duration": 7,
    "start_time": "2023-01-10T19:46:21.238Z"
   },
   {
    "duration": 330,
    "start_time": "2023-01-10T19:46:21.246Z"
   },
   {
    "duration": 6,
    "start_time": "2023-01-10T19:46:21.578Z"
   },
   {
    "duration": 28,
    "start_time": "2023-01-10T19:46:21.586Z"
   },
   {
    "duration": 164,
    "start_time": "2023-01-10T19:46:21.616Z"
   },
   {
    "duration": 5,
    "start_time": "2023-01-10T19:46:21.781Z"
   },
   {
    "duration": 240,
    "start_time": "2023-01-10T19:46:21.787Z"
   },
   {
    "duration": 190,
    "start_time": "2023-01-10T19:46:22.028Z"
   },
   {
    "duration": 4,
    "start_time": "2023-01-10T19:46:22.221Z"
   },
   {
    "duration": 12,
    "start_time": "2023-01-10T19:46:22.226Z"
   },
   {
    "duration": 20,
    "start_time": "2023-01-10T19:46:22.240Z"
   },
   {
    "duration": 9,
    "start_time": "2023-01-10T19:46:22.261Z"
   },
   {
    "duration": 5,
    "start_time": "2023-01-10T19:46:22.272Z"
   },
   {
    "duration": 46,
    "start_time": "2023-01-10T19:46:22.279Z"
   },
   {
    "duration": 18,
    "start_time": "2023-01-10T19:46:22.327Z"
   },
   {
    "duration": 4,
    "start_time": "2023-01-10T19:46:22.347Z"
   },
   {
    "duration": 9,
    "start_time": "2023-01-10T19:46:22.353Z"
   },
   {
    "duration": 9,
    "start_time": "2023-01-10T19:46:22.363Z"
   },
   {
    "duration": 8,
    "start_time": "2023-01-10T19:46:22.373Z"
   },
   {
    "duration": 10,
    "start_time": "2023-01-10T19:46:22.382Z"
   },
   {
    "duration": 32,
    "start_time": "2023-01-10T19:46:22.394Z"
   },
   {
    "duration": 9,
    "start_time": "2023-01-10T19:46:22.428Z"
   },
   {
    "duration": 46,
    "start_time": "2023-01-10T19:46:22.438Z"
   },
   {
    "duration": 5,
    "start_time": "2023-01-10T19:46:22.485Z"
   },
   {
    "duration": 31,
    "start_time": "2023-01-10T19:46:22.491Z"
   },
   {
    "duration": 120,
    "start_time": "2023-01-10T19:46:22.523Z"
   },
   {
    "duration": 369,
    "start_time": "2023-01-10T19:46:22.648Z"
   },
   {
    "duration": 334,
    "start_time": "2023-01-10T19:48:22.863Z"
   },
   {
    "duration": 1041,
    "start_time": "2023-01-10T19:50:29.619Z"
   },
   {
    "duration": 3,
    "start_time": "2023-01-10T19:50:30.662Z"
   },
   {
    "duration": 102,
    "start_time": "2023-01-10T19:50:30.666Z"
   },
   {
    "duration": 10,
    "start_time": "2023-01-10T19:50:30.770Z"
   },
   {
    "duration": 30,
    "start_time": "2023-01-10T19:50:30.782Z"
   },
   {
    "duration": 41,
    "start_time": "2023-01-10T19:50:30.814Z"
   },
   {
    "duration": 74,
    "start_time": "2023-01-10T19:50:30.857Z"
   },
   {
    "duration": 42,
    "start_time": "2023-01-10T19:50:30.933Z"
   },
   {
    "duration": 87,
    "start_time": "2023-01-10T19:50:30.977Z"
   },
   {
    "duration": 10,
    "start_time": "2023-01-10T19:50:31.066Z"
   },
   {
    "duration": 250,
    "start_time": "2023-01-10T19:50:31.078Z"
   },
   {
    "duration": 38,
    "start_time": "2023-01-10T19:50:31.330Z"
   },
   {
    "duration": 8,
    "start_time": "2023-01-10T19:50:31.369Z"
   },
   {
    "duration": 22,
    "start_time": "2023-01-10T19:50:31.379Z"
   },
   {
    "duration": 24,
    "start_time": "2023-01-10T19:50:31.403Z"
   },
   {
    "duration": 18,
    "start_time": "2023-01-10T19:50:31.429Z"
   },
   {
    "duration": 19,
    "start_time": "2023-01-10T19:50:31.449Z"
   },
   {
    "duration": 28,
    "start_time": "2023-01-10T19:50:31.469Z"
   },
   {
    "duration": 18,
    "start_time": "2023-01-10T19:50:31.499Z"
   },
   {
    "duration": 12,
    "start_time": "2023-01-10T19:50:31.518Z"
   },
   {
    "duration": 14,
    "start_time": "2023-01-10T19:50:31.532Z"
   },
   {
    "duration": 26,
    "start_time": "2023-01-10T19:50:31.547Z"
   },
   {
    "duration": 8,
    "start_time": "2023-01-10T19:50:31.575Z"
   },
   {
    "duration": 15,
    "start_time": "2023-01-10T19:50:31.584Z"
   },
   {
    "duration": 10,
    "start_time": "2023-01-10T19:50:31.601Z"
   },
   {
    "duration": 20,
    "start_time": "2023-01-10T19:50:31.612Z"
   },
   {
    "duration": 29,
    "start_time": "2023-01-10T19:50:31.634Z"
   },
   {
    "duration": 6,
    "start_time": "2023-01-10T19:50:31.668Z"
   },
   {
    "duration": 13,
    "start_time": "2023-01-10T19:50:31.676Z"
   },
   {
    "duration": 20,
    "start_time": "2023-01-10T19:50:31.690Z"
   },
   {
    "duration": 12,
    "start_time": "2023-01-10T19:50:31.712Z"
   },
   {
    "duration": 25,
    "start_time": "2023-01-10T19:50:31.725Z"
   },
   {
    "duration": 12,
    "start_time": "2023-01-10T19:50:31.752Z"
   },
   {
    "duration": 10,
    "start_time": "2023-01-10T19:50:31.765Z"
   },
   {
    "duration": 9,
    "start_time": "2023-01-10T19:50:31.776Z"
   },
   {
    "duration": 9,
    "start_time": "2023-01-10T19:50:31.786Z"
   },
   {
    "duration": 14,
    "start_time": "2023-01-10T19:50:31.796Z"
   },
   {
    "duration": 7,
    "start_time": "2023-01-10T19:50:31.812Z"
   },
   {
    "duration": 17,
    "start_time": "2023-01-10T19:50:31.821Z"
   },
   {
    "duration": 52,
    "start_time": "2023-01-10T19:50:31.839Z"
   },
   {
    "duration": 29,
    "start_time": "2023-01-10T19:50:31.892Z"
   },
   {
    "duration": 53,
    "start_time": "2023-01-10T19:50:31.923Z"
   },
   {
    "duration": 294,
    "start_time": "2023-01-10T19:50:31.978Z"
   },
   {
    "duration": 209,
    "start_time": "2023-01-10T19:50:32.274Z"
   },
   {
    "duration": 5,
    "start_time": "2023-01-10T19:50:32.484Z"
   },
   {
    "duration": 227,
    "start_time": "2023-01-10T19:50:32.490Z"
   },
   {
    "duration": 7,
    "start_time": "2023-01-10T19:50:32.720Z"
   },
   {
    "duration": 324,
    "start_time": "2023-01-10T19:50:32.728Z"
   },
   {
    "duration": 4,
    "start_time": "2023-01-10T19:50:33.055Z"
   },
   {
    "duration": 65,
    "start_time": "2023-01-10T19:50:33.061Z"
   },
   {
    "duration": 6,
    "start_time": "2023-01-10T19:50:33.128Z"
   },
   {
    "duration": 13,
    "start_time": "2023-01-10T19:50:33.136Z"
   },
   {
    "duration": 54,
    "start_time": "2023-01-10T19:50:33.151Z"
   },
   {
    "duration": 16,
    "start_time": "2023-01-10T19:50:33.207Z"
   },
   {
    "duration": 211,
    "start_time": "2023-01-10T19:50:33.225Z"
   },
   {
    "duration": 8,
    "start_time": "2023-01-10T19:50:33.438Z"
   },
   {
    "duration": 307,
    "start_time": "2023-01-10T19:50:33.447Z"
   },
   {
    "duration": 6,
    "start_time": "2023-01-10T19:50:33.756Z"
   },
   {
    "duration": 11,
    "start_time": "2023-01-10T19:50:33.763Z"
   },
   {
    "duration": 162,
    "start_time": "2023-01-10T19:50:33.776Z"
   },
   {
    "duration": 4,
    "start_time": "2023-01-10T19:50:33.940Z"
   },
   {
    "duration": 232,
    "start_time": "2023-01-10T19:50:33.945Z"
   },
   {
    "duration": 171,
    "start_time": "2023-01-10T19:50:34.178Z"
   },
   {
    "duration": 4,
    "start_time": "2023-01-10T19:50:34.350Z"
   },
   {
    "duration": 16,
    "start_time": "2023-01-10T19:50:34.356Z"
   },
   {
    "duration": 11,
    "start_time": "2023-01-10T19:50:34.374Z"
   },
   {
    "duration": 27,
    "start_time": "2023-01-10T19:50:34.387Z"
   },
   {
    "duration": 26,
    "start_time": "2023-01-10T19:50:34.415Z"
   },
   {
    "duration": 66,
    "start_time": "2023-01-10T19:50:34.442Z"
   },
   {
    "duration": 19,
    "start_time": "2023-01-10T19:50:34.510Z"
   },
   {
    "duration": 4,
    "start_time": "2023-01-10T19:50:34.531Z"
   },
   {
    "duration": 9,
    "start_time": "2023-01-10T19:50:34.536Z"
   },
   {
    "duration": 9,
    "start_time": "2023-01-10T19:50:34.547Z"
   },
   {
    "duration": 8,
    "start_time": "2023-01-10T19:50:34.558Z"
   },
   {
    "duration": 50,
    "start_time": "2023-01-10T19:50:34.568Z"
   },
   {
    "duration": 19,
    "start_time": "2023-01-10T19:50:34.623Z"
   },
   {
    "duration": 6,
    "start_time": "2023-01-10T19:50:34.644Z"
   },
   {
    "duration": 53,
    "start_time": "2023-01-10T19:50:34.652Z"
   },
   {
    "duration": 6,
    "start_time": "2023-01-10T19:50:34.707Z"
   },
   {
    "duration": 56,
    "start_time": "2023-01-10T19:50:34.714Z"
   },
   {
    "duration": 123,
    "start_time": "2023-01-10T19:50:34.772Z"
   },
   {
    "duration": 389,
    "start_time": "2023-01-10T19:50:34.901Z"
   }
  ],
  "kernelspec": {
   "display_name": "Python 3",
   "language": "python",
   "name": "python3"
  },
  "language_info": {
   "codemirror_mode": {
    "name": "ipython",
    "version": 3
   },
   "file_extension": ".py",
   "mimetype": "text/x-python",
   "name": "python",
   "nbconvert_exporter": "python",
   "pygments_lexer": "ipython3",
   "version": "3.7.0"
  },
  "toc": {
   "base_numbering": 1,
   "nav_menu": {},
   "number_sections": true,
   "sideBar": true,
   "skip_h1_title": true,
   "title_cell": "Table of Contents",
   "title_sidebar": "Contents",
   "toc_cell": true,
   "toc_position": {},
   "toc_section_display": true,
   "toc_window_display": false
  }
 },
 "nbformat": 4,
 "nbformat_minor": 2
}
