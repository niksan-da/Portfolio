{
 "cells": [
  {
   "cell_type": "markdown",
   "metadata": {
    "deletable": false,
    "editable": false,
    "id": "c81daeeb"
   },
   "source": [
    "# Исследование надежности заемщиков\n"
   ]
  },
  {
   "cell_type": "markdown",
   "metadata": {
    "deletable": false,
    "editable": false,
    "id": "827c20bf"
   },
   "source": [
    "Во второй части проекта вы выполните шаги 3 и 4. Их вручную проверит ревьюер.\n",
    "Чтобы вам не пришлось писать код заново для шагов 1 и 2, мы добавили авторские решения в ячейки с кодом. \n",
    "\n"
   ]
  },
  {
   "cell_type": "markdown",
   "metadata": {
    "deletable": false,
    "editable": false,
    "id": "744d7639"
   },
   "source": [
    "## Откройте таблицу и изучите общую информацию о данных"
   ]
  },
  {
   "cell_type": "markdown",
   "metadata": {
    "deletable": false,
    "editable": false,
    "id": "e7a14c31"
   },
   "source": [
    "**Задание 1. Импортируйте библиотеку pandas. Считайте данные из csv-файла в датафрейм и сохраните в переменную `data`. Путь к файлу:**\n",
    "\n",
    "`/datasets/data.csv`"
   ]
  },
  {
   "cell_type": "code",
   "execution_count": 49,
   "metadata": {
    "deletable": false,
    "id": "7bcf75c9"
   },
   "outputs": [],
   "source": [
    "import pandas as pd\n",
    "\n",
    "try:\n",
    "    data = pd.read_csv('/datasets/data.csv')\n",
    "except:\n",
    "    data = pd.read_csv('https://code.s3.yandex.net/datasets/data.csv')"
   ]
  },
  {
   "cell_type": "markdown",
   "metadata": {
    "deletable": false,
    "editable": false,
    "id": "b8038fe3"
   },
   "source": [
    "**Задание 2. Выведите первые 20 строчек датафрейма `data` на экран.**"
   ]
  },
  {
   "cell_type": "code",
   "execution_count": 2,
   "metadata": {
    "deletable": false,
    "id": "2a7cab99",
    "outputId": "1a8f3ef2-d323-4ec2-ddf7-89670b5944c4"
   },
   "outputs": [
    {
     "data": {
      "text/html": [
       "<div>\n",
       "<style scoped>\n",
       "    .dataframe tbody tr th:only-of-type {\n",
       "        vertical-align: middle;\n",
       "    }\n",
       "\n",
       "    .dataframe tbody tr th {\n",
       "        vertical-align: top;\n",
       "    }\n",
       "\n",
       "    .dataframe thead th {\n",
       "        text-align: right;\n",
       "    }\n",
       "</style>\n",
       "<table border=\"1\" class=\"dataframe\">\n",
       "  <thead>\n",
       "    <tr style=\"text-align: right;\">\n",
       "      <th></th>\n",
       "      <th>children</th>\n",
       "      <th>days_employed</th>\n",
       "      <th>dob_years</th>\n",
       "      <th>education</th>\n",
       "      <th>education_id</th>\n",
       "      <th>family_status</th>\n",
       "      <th>family_status_id</th>\n",
       "      <th>gender</th>\n",
       "      <th>income_type</th>\n",
       "      <th>debt</th>\n",
       "      <th>total_income</th>\n",
       "      <th>purpose</th>\n",
       "    </tr>\n",
       "  </thead>\n",
       "  <tbody>\n",
       "    <tr>\n",
       "      <th>0</th>\n",
       "      <td>1</td>\n",
       "      <td>-8437.673028</td>\n",
       "      <td>42</td>\n",
       "      <td>высшее</td>\n",
       "      <td>0</td>\n",
       "      <td>женат / замужем</td>\n",
       "      <td>0</td>\n",
       "      <td>F</td>\n",
       "      <td>сотрудник</td>\n",
       "      <td>0</td>\n",
       "      <td>253875.639453</td>\n",
       "      <td>покупка жилья</td>\n",
       "    </tr>\n",
       "    <tr>\n",
       "      <th>1</th>\n",
       "      <td>1</td>\n",
       "      <td>-4024.803754</td>\n",
       "      <td>36</td>\n",
       "      <td>среднее</td>\n",
       "      <td>1</td>\n",
       "      <td>женат / замужем</td>\n",
       "      <td>0</td>\n",
       "      <td>F</td>\n",
       "      <td>сотрудник</td>\n",
       "      <td>0</td>\n",
       "      <td>112080.014102</td>\n",
       "      <td>приобретение автомобиля</td>\n",
       "    </tr>\n",
       "    <tr>\n",
       "      <th>2</th>\n",
       "      <td>0</td>\n",
       "      <td>-5623.422610</td>\n",
       "      <td>33</td>\n",
       "      <td>Среднее</td>\n",
       "      <td>1</td>\n",
       "      <td>женат / замужем</td>\n",
       "      <td>0</td>\n",
       "      <td>M</td>\n",
       "      <td>сотрудник</td>\n",
       "      <td>0</td>\n",
       "      <td>145885.952297</td>\n",
       "      <td>покупка жилья</td>\n",
       "    </tr>\n",
       "    <tr>\n",
       "      <th>3</th>\n",
       "      <td>3</td>\n",
       "      <td>-4124.747207</td>\n",
       "      <td>32</td>\n",
       "      <td>среднее</td>\n",
       "      <td>1</td>\n",
       "      <td>женат / замужем</td>\n",
       "      <td>0</td>\n",
       "      <td>M</td>\n",
       "      <td>сотрудник</td>\n",
       "      <td>0</td>\n",
       "      <td>267628.550329</td>\n",
       "      <td>дополнительное образование</td>\n",
       "    </tr>\n",
       "    <tr>\n",
       "      <th>4</th>\n",
       "      <td>0</td>\n",
       "      <td>340266.072047</td>\n",
       "      <td>53</td>\n",
       "      <td>среднее</td>\n",
       "      <td>1</td>\n",
       "      <td>гражданский брак</td>\n",
       "      <td>1</td>\n",
       "      <td>F</td>\n",
       "      <td>пенсионер</td>\n",
       "      <td>0</td>\n",
       "      <td>158616.077870</td>\n",
       "      <td>сыграть свадьбу</td>\n",
       "    </tr>\n",
       "    <tr>\n",
       "      <th>5</th>\n",
       "      <td>0</td>\n",
       "      <td>-926.185831</td>\n",
       "      <td>27</td>\n",
       "      <td>высшее</td>\n",
       "      <td>0</td>\n",
       "      <td>гражданский брак</td>\n",
       "      <td>1</td>\n",
       "      <td>M</td>\n",
       "      <td>компаньон</td>\n",
       "      <td>0</td>\n",
       "      <td>255763.565419</td>\n",
       "      <td>покупка жилья</td>\n",
       "    </tr>\n",
       "    <tr>\n",
       "      <th>6</th>\n",
       "      <td>0</td>\n",
       "      <td>-2879.202052</td>\n",
       "      <td>43</td>\n",
       "      <td>высшее</td>\n",
       "      <td>0</td>\n",
       "      <td>женат / замужем</td>\n",
       "      <td>0</td>\n",
       "      <td>F</td>\n",
       "      <td>компаньон</td>\n",
       "      <td>0</td>\n",
       "      <td>240525.971920</td>\n",
       "      <td>операции с жильем</td>\n",
       "    </tr>\n",
       "    <tr>\n",
       "      <th>7</th>\n",
       "      <td>0</td>\n",
       "      <td>-152.779569</td>\n",
       "      <td>50</td>\n",
       "      <td>СРЕДНЕЕ</td>\n",
       "      <td>1</td>\n",
       "      <td>женат / замужем</td>\n",
       "      <td>0</td>\n",
       "      <td>M</td>\n",
       "      <td>сотрудник</td>\n",
       "      <td>0</td>\n",
       "      <td>135823.934197</td>\n",
       "      <td>образование</td>\n",
       "    </tr>\n",
       "    <tr>\n",
       "      <th>8</th>\n",
       "      <td>2</td>\n",
       "      <td>-6929.865299</td>\n",
       "      <td>35</td>\n",
       "      <td>ВЫСШЕЕ</td>\n",
       "      <td>0</td>\n",
       "      <td>гражданский брак</td>\n",
       "      <td>1</td>\n",
       "      <td>F</td>\n",
       "      <td>сотрудник</td>\n",
       "      <td>0</td>\n",
       "      <td>95856.832424</td>\n",
       "      <td>на проведение свадьбы</td>\n",
       "    </tr>\n",
       "    <tr>\n",
       "      <th>9</th>\n",
       "      <td>0</td>\n",
       "      <td>-2188.756445</td>\n",
       "      <td>41</td>\n",
       "      <td>среднее</td>\n",
       "      <td>1</td>\n",
       "      <td>женат / замужем</td>\n",
       "      <td>0</td>\n",
       "      <td>M</td>\n",
       "      <td>сотрудник</td>\n",
       "      <td>0</td>\n",
       "      <td>144425.938277</td>\n",
       "      <td>покупка жилья для семьи</td>\n",
       "    </tr>\n",
       "    <tr>\n",
       "      <th>10</th>\n",
       "      <td>2</td>\n",
       "      <td>-4171.483647</td>\n",
       "      <td>36</td>\n",
       "      <td>высшее</td>\n",
       "      <td>0</td>\n",
       "      <td>женат / замужем</td>\n",
       "      <td>0</td>\n",
       "      <td>M</td>\n",
       "      <td>компаньон</td>\n",
       "      <td>0</td>\n",
       "      <td>113943.491460</td>\n",
       "      <td>покупка недвижимости</td>\n",
       "    </tr>\n",
       "    <tr>\n",
       "      <th>11</th>\n",
       "      <td>0</td>\n",
       "      <td>-792.701887</td>\n",
       "      <td>40</td>\n",
       "      <td>среднее</td>\n",
       "      <td>1</td>\n",
       "      <td>женат / замужем</td>\n",
       "      <td>0</td>\n",
       "      <td>F</td>\n",
       "      <td>сотрудник</td>\n",
       "      <td>0</td>\n",
       "      <td>77069.234271</td>\n",
       "      <td>покупка коммерческой недвижимости</td>\n",
       "    </tr>\n",
       "    <tr>\n",
       "      <th>12</th>\n",
       "      <td>0</td>\n",
       "      <td>NaN</td>\n",
       "      <td>65</td>\n",
       "      <td>среднее</td>\n",
       "      <td>1</td>\n",
       "      <td>гражданский брак</td>\n",
       "      <td>1</td>\n",
       "      <td>M</td>\n",
       "      <td>пенсионер</td>\n",
       "      <td>0</td>\n",
       "      <td>NaN</td>\n",
       "      <td>сыграть свадьбу</td>\n",
       "    </tr>\n",
       "    <tr>\n",
       "      <th>13</th>\n",
       "      <td>0</td>\n",
       "      <td>-1846.641941</td>\n",
       "      <td>54</td>\n",
       "      <td>неоконченное высшее</td>\n",
       "      <td>2</td>\n",
       "      <td>женат / замужем</td>\n",
       "      <td>0</td>\n",
       "      <td>F</td>\n",
       "      <td>сотрудник</td>\n",
       "      <td>0</td>\n",
       "      <td>130458.228857</td>\n",
       "      <td>приобретение автомобиля</td>\n",
       "    </tr>\n",
       "    <tr>\n",
       "      <th>14</th>\n",
       "      <td>0</td>\n",
       "      <td>-1844.956182</td>\n",
       "      <td>56</td>\n",
       "      <td>высшее</td>\n",
       "      <td>0</td>\n",
       "      <td>гражданский брак</td>\n",
       "      <td>1</td>\n",
       "      <td>F</td>\n",
       "      <td>компаньон</td>\n",
       "      <td>1</td>\n",
       "      <td>165127.911772</td>\n",
       "      <td>покупка жилой недвижимости</td>\n",
       "    </tr>\n",
       "    <tr>\n",
       "      <th>15</th>\n",
       "      <td>1</td>\n",
       "      <td>-972.364419</td>\n",
       "      <td>26</td>\n",
       "      <td>среднее</td>\n",
       "      <td>1</td>\n",
       "      <td>женат / замужем</td>\n",
       "      <td>0</td>\n",
       "      <td>F</td>\n",
       "      <td>сотрудник</td>\n",
       "      <td>0</td>\n",
       "      <td>116820.904450</td>\n",
       "      <td>строительство собственной недвижимости</td>\n",
       "    </tr>\n",
       "    <tr>\n",
       "      <th>16</th>\n",
       "      <td>0</td>\n",
       "      <td>-1719.934226</td>\n",
       "      <td>35</td>\n",
       "      <td>среднее</td>\n",
       "      <td>1</td>\n",
       "      <td>женат / замужем</td>\n",
       "      <td>0</td>\n",
       "      <td>F</td>\n",
       "      <td>сотрудник</td>\n",
       "      <td>0</td>\n",
       "      <td>289202.704229</td>\n",
       "      <td>недвижимость</td>\n",
       "    </tr>\n",
       "    <tr>\n",
       "      <th>17</th>\n",
       "      <td>0</td>\n",
       "      <td>-2369.999720</td>\n",
       "      <td>33</td>\n",
       "      <td>высшее</td>\n",
       "      <td>0</td>\n",
       "      <td>гражданский брак</td>\n",
       "      <td>1</td>\n",
       "      <td>M</td>\n",
       "      <td>сотрудник</td>\n",
       "      <td>0</td>\n",
       "      <td>90410.586745</td>\n",
       "      <td>строительство недвижимости</td>\n",
       "    </tr>\n",
       "    <tr>\n",
       "      <th>18</th>\n",
       "      <td>0</td>\n",
       "      <td>400281.136913</td>\n",
       "      <td>53</td>\n",
       "      <td>среднее</td>\n",
       "      <td>1</td>\n",
       "      <td>вдовец / вдова</td>\n",
       "      <td>2</td>\n",
       "      <td>F</td>\n",
       "      <td>пенсионер</td>\n",
       "      <td>0</td>\n",
       "      <td>56823.777243</td>\n",
       "      <td>на покупку подержанного автомобиля</td>\n",
       "    </tr>\n",
       "    <tr>\n",
       "      <th>19</th>\n",
       "      <td>0</td>\n",
       "      <td>-10038.818549</td>\n",
       "      <td>48</td>\n",
       "      <td>СРЕДНЕЕ</td>\n",
       "      <td>1</td>\n",
       "      <td>в разводе</td>\n",
       "      <td>3</td>\n",
       "      <td>F</td>\n",
       "      <td>сотрудник</td>\n",
       "      <td>0</td>\n",
       "      <td>242831.107982</td>\n",
       "      <td>на покупку своего автомобиля</td>\n",
       "    </tr>\n",
       "  </tbody>\n",
       "</table>\n",
       "</div>"
      ],
      "text/plain": [
       "    children  days_employed  dob_years            education  education_id  \\\n",
       "0          1   -8437.673028         42               высшее             0   \n",
       "1          1   -4024.803754         36              среднее             1   \n",
       "2          0   -5623.422610         33              Среднее             1   \n",
       "3          3   -4124.747207         32              среднее             1   \n",
       "4          0  340266.072047         53              среднее             1   \n",
       "5          0    -926.185831         27               высшее             0   \n",
       "6          0   -2879.202052         43               высшее             0   \n",
       "7          0    -152.779569         50              СРЕДНЕЕ             1   \n",
       "8          2   -6929.865299         35               ВЫСШЕЕ             0   \n",
       "9          0   -2188.756445         41              среднее             1   \n",
       "10         2   -4171.483647         36               высшее             0   \n",
       "11         0    -792.701887         40              среднее             1   \n",
       "12         0            NaN         65              среднее             1   \n",
       "13         0   -1846.641941         54  неоконченное высшее             2   \n",
       "14         0   -1844.956182         56               высшее             0   \n",
       "15         1    -972.364419         26              среднее             1   \n",
       "16         0   -1719.934226         35              среднее             1   \n",
       "17         0   -2369.999720         33               высшее             0   \n",
       "18         0  400281.136913         53              среднее             1   \n",
       "19         0  -10038.818549         48              СРЕДНЕЕ             1   \n",
       "\n",
       "       family_status  family_status_id gender income_type  debt  \\\n",
       "0    женат / замужем                 0      F   сотрудник     0   \n",
       "1    женат / замужем                 0      F   сотрудник     0   \n",
       "2    женат / замужем                 0      M   сотрудник     0   \n",
       "3    женат / замужем                 0      M   сотрудник     0   \n",
       "4   гражданский брак                 1      F   пенсионер     0   \n",
       "5   гражданский брак                 1      M   компаньон     0   \n",
       "6    женат / замужем                 0      F   компаньон     0   \n",
       "7    женат / замужем                 0      M   сотрудник     0   \n",
       "8   гражданский брак                 1      F   сотрудник     0   \n",
       "9    женат / замужем                 0      M   сотрудник     0   \n",
       "10   женат / замужем                 0      M   компаньон     0   \n",
       "11   женат / замужем                 0      F   сотрудник     0   \n",
       "12  гражданский брак                 1      M   пенсионер     0   \n",
       "13   женат / замужем                 0      F   сотрудник     0   \n",
       "14  гражданский брак                 1      F   компаньон     1   \n",
       "15   женат / замужем                 0      F   сотрудник     0   \n",
       "16   женат / замужем                 0      F   сотрудник     0   \n",
       "17  гражданский брак                 1      M   сотрудник     0   \n",
       "18    вдовец / вдова                 2      F   пенсионер     0   \n",
       "19         в разводе                 3      F   сотрудник     0   \n",
       "\n",
       "     total_income                                 purpose  \n",
       "0   253875.639453                           покупка жилья  \n",
       "1   112080.014102                 приобретение автомобиля  \n",
       "2   145885.952297                           покупка жилья  \n",
       "3   267628.550329              дополнительное образование  \n",
       "4   158616.077870                         сыграть свадьбу  \n",
       "5   255763.565419                           покупка жилья  \n",
       "6   240525.971920                       операции с жильем  \n",
       "7   135823.934197                             образование  \n",
       "8    95856.832424                   на проведение свадьбы  \n",
       "9   144425.938277                 покупка жилья для семьи  \n",
       "10  113943.491460                    покупка недвижимости  \n",
       "11   77069.234271       покупка коммерческой недвижимости  \n",
       "12            NaN                         сыграть свадьбу  \n",
       "13  130458.228857                 приобретение автомобиля  \n",
       "14  165127.911772              покупка жилой недвижимости  \n",
       "15  116820.904450  строительство собственной недвижимости  \n",
       "16  289202.704229                            недвижимость  \n",
       "17   90410.586745              строительство недвижимости  \n",
       "18   56823.777243      на покупку подержанного автомобиля  \n",
       "19  242831.107982            на покупку своего автомобиля  "
      ]
     },
     "execution_count": 2,
     "metadata": {},
     "output_type": "execute_result"
    }
   ],
   "source": [
    "data.head(20)"
   ]
  },
  {
   "cell_type": "markdown",
   "metadata": {
    "deletable": false,
    "editable": false,
    "id": "1c12e233"
   },
   "source": [
    "**Задание 3. Выведите основную информацию о датафрейме с помощью метода `info()`.**"
   ]
  },
  {
   "cell_type": "code",
   "execution_count": 3,
   "metadata": {
    "deletable": false,
    "id": "2b757bca",
    "outputId": "15376089-8dad-46c9-b520-c05248d43158"
   },
   "outputs": [
    {
     "name": "stdout",
     "output_type": "stream",
     "text": [
      "<class 'pandas.core.frame.DataFrame'>\n",
      "RangeIndex: 21525 entries, 0 to 21524\n",
      "Data columns (total 12 columns):\n",
      " #   Column            Non-Null Count  Dtype  \n",
      "---  ------            --------------  -----  \n",
      " 0   children          21525 non-null  int64  \n",
      " 1   days_employed     19351 non-null  float64\n",
      " 2   dob_years         21525 non-null  int64  \n",
      " 3   education         21525 non-null  object \n",
      " 4   education_id      21525 non-null  int64  \n",
      " 5   family_status     21525 non-null  object \n",
      " 6   family_status_id  21525 non-null  int64  \n",
      " 7   gender            21525 non-null  object \n",
      " 8   income_type       21525 non-null  object \n",
      " 9   debt              21525 non-null  int64  \n",
      " 10  total_income      19351 non-null  float64\n",
      " 11  purpose           21525 non-null  object \n",
      "dtypes: float64(2), int64(5), object(5)\n",
      "memory usage: 2.0+ MB\n"
     ]
    }
   ],
   "source": [
    "data.info()"
   ]
  },
  {
   "cell_type": "markdown",
   "metadata": {
    "deletable": false,
    "editable": false,
    "id": "333ec665"
   },
   "source": [
    "## Предобработка данных"
   ]
  },
  {
   "cell_type": "markdown",
   "metadata": {
    "deletable": false,
    "editable": false,
    "id": "02d92d53"
   },
   "source": [
    "### Удаление пропусков"
   ]
  },
  {
   "cell_type": "markdown",
   "metadata": {
    "deletable": false,
    "editable": false,
    "id": "cd84967c"
   },
   "source": [
    "**Задание 4. Выведите количество пропущенных значений для каждого столбца. Используйте комбинацию двух методов.**"
   ]
  },
  {
   "cell_type": "code",
   "execution_count": 4,
   "metadata": {
    "deletable": false,
    "id": "7f9b2309",
    "outputId": "81f4d817-781c-465c-ed15-91ce4446810d"
   },
   "outputs": [
    {
     "data": {
      "text/plain": [
       "children               0\n",
       "days_employed       2174\n",
       "dob_years              0\n",
       "education              0\n",
       "education_id           0\n",
       "family_status          0\n",
       "family_status_id       0\n",
       "gender                 0\n",
       "income_type            0\n",
       "debt                   0\n",
       "total_income        2174\n",
       "purpose                0\n",
       "dtype: int64"
      ]
     },
     "execution_count": 4,
     "metadata": {},
     "output_type": "execute_result"
    }
   ],
   "source": [
    "data.isna().sum()"
   ]
  },
  {
   "cell_type": "markdown",
   "metadata": {
    "deletable": false,
    "editable": false,
    "id": "db86e27b"
   },
   "source": [
    "**Задание 5. В двух столбцах есть пропущенные значения. Один из них — `days_employed`. Пропуски в этом столбце вы обработаете на следующем этапе. Другой столбец с пропущенными значениями — `total_income` — хранит данные о доходах. На сумму дохода сильнее всего влияет тип занятости, поэтому заполнить пропуски в этом столбце нужно медианным значением по каждому типу из столбца `income_type`. Например, у человека с типом занятости `сотрудник` пропуск в столбце `total_income` должен быть заполнен медианным доходом среди всех записей с тем же типом.**"
   ]
  },
  {
   "cell_type": "code",
   "execution_count": 5,
   "metadata": {
    "deletable": false,
    "id": "42006a93"
   },
   "outputs": [],
   "source": [
    "for t in data['income_type'].unique():\n",
    "    data.loc[(data['income_type'] == t) & (data['total_income'].isna()), 'total_income'] = \\\n",
    "    data.loc[(data['income_type'] == t), 'total_income'].median()"
   ]
  },
  {
   "cell_type": "markdown",
   "metadata": {
    "deletable": false,
    "editable": false,
    "id": "89da5ece"
   },
   "source": [
    "### Обработка аномальных значений"
   ]
  },
  {
   "cell_type": "markdown",
   "metadata": {
    "deletable": false,
    "editable": false,
    "id": "57964554"
   },
   "source": [
    "**Задание 6. В данных могут встречаться артефакты (аномалии) — значения, которые не отражают действительность и появились по какой-то ошибке. таким артефактом будет отрицательное количество дней трудового стажа в столбце `days_employed`. Для реальных данных это нормально. Обработайте значения в этом столбце: замените все отрицательные значения положительными с помощью метода `abs()`.**"
   ]
  },
  {
   "cell_type": "code",
   "execution_count": 6,
   "metadata": {
    "deletable": false,
    "id": "f6f055bf"
   },
   "outputs": [],
   "source": [
    "data['days_employed'] = data['days_employed'].abs()"
   ]
  },
  {
   "cell_type": "markdown",
   "metadata": {
    "deletable": false,
    "editable": false,
    "id": "6107dd2f"
   },
   "source": [
    "**Задание 7. Для каждого типа занятости выведите медианное значение трудового стажа `days_employed` в днях.**"
   ]
  },
  {
   "cell_type": "code",
   "execution_count": 7,
   "metadata": {
    "deletable": false,
    "id": "85a5faf6",
    "outputId": "801ef80e-522b-4668-f34e-565af7432bcf"
   },
   "outputs": [
    {
     "data": {
      "text/plain": [
       "income_type\n",
       "безработный        366413.652744\n",
       "в декрете            3296.759962\n",
       "госслужащий          2689.368353\n",
       "компаньон            1547.382223\n",
       "пенсионер          365213.306266\n",
       "предприниматель       520.848083\n",
       "сотрудник            1574.202821\n",
       "студент               578.751554\n",
       "Name: days_employed, dtype: float64"
      ]
     },
     "execution_count": 7,
     "metadata": {},
     "output_type": "execute_result"
    }
   ],
   "source": [
    "data.groupby('income_type')['days_employed'].agg('median')"
   ]
  },
  {
   "cell_type": "markdown",
   "metadata": {
    "deletable": false,
    "editable": false,
    "id": "38d1a030"
   },
   "source": [
    "У двух типов (безработные и пенсионеры) получатся аномально большие значения. Исправить такие значения сложно, поэтому оставьте их как есть. Тем более этот столбец не понадобится вам для исследования."
   ]
  },
  {
   "cell_type": "markdown",
   "metadata": {
    "deletable": false,
    "editable": false,
    "id": "d8a9f147"
   },
   "source": [
    "**Задание 8. Выведите перечень уникальных значений столбца `children`.**"
   ]
  },
  {
   "cell_type": "code",
   "execution_count": 8,
   "metadata": {
    "deletable": false,
    "id": "ef5056eb",
    "outputId": "6975b15c-7f95-4697-d16d-a0c79b657b03"
   },
   "outputs": [
    {
     "data": {
      "text/plain": [
       "array([ 1,  0,  3,  2, -1,  4, 20,  5], dtype=int64)"
      ]
     },
     "execution_count": 8,
     "metadata": {},
     "output_type": "execute_result"
    }
   ],
   "source": [
    "data['children'].unique()"
   ]
  },
  {
   "cell_type": "markdown",
   "metadata": {
    "deletable": false,
    "editable": false,
    "id": "40b9ebf2"
   },
   "source": [
    "**Задание 9. В столбце `children` есть два аномальных значения. Удалите строки, в которых встречаются такие аномальные значения из датафрейма `data`.**"
   ]
  },
  {
   "cell_type": "code",
   "execution_count": 9,
   "metadata": {
    "deletable": false,
    "id": "3ff9801d"
   },
   "outputs": [],
   "source": [
    "data = data[(data['children'] != -1) & (data['children'] != 20)]"
   ]
  },
  {
   "cell_type": "markdown",
   "metadata": {
    "deletable": false,
    "editable": false,
    "id": "bbc4d0ce"
   },
   "source": [
    "**Задание 10. Ещё раз выведите перечень уникальных значений столбца `children`, чтобы убедиться, что артефакты удалены.**"
   ]
  },
  {
   "cell_type": "code",
   "execution_count": 10,
   "metadata": {
    "deletable": false,
    "id": "ad4fa8b7",
    "outputId": "b2097101-d49d-44d9-901b-32a65c9463d1"
   },
   "outputs": [
    {
     "data": {
      "text/plain": [
       "array([1, 0, 3, 2, 4, 5], dtype=int64)"
      ]
     },
     "execution_count": 10,
     "metadata": {},
     "output_type": "execute_result"
    }
   ],
   "source": [
    "data['children'].unique()"
   ]
  },
  {
   "cell_type": "markdown",
   "metadata": {
    "deletable": false,
    "editable": false,
    "id": "75440b63"
   },
   "source": [
    "### Удаление пропусков (продолжение)"
   ]
  },
  {
   "cell_type": "markdown",
   "metadata": {
    "deletable": false,
    "editable": false,
    "id": "f4ea573f"
   },
   "source": [
    "**Задание 11. Заполните пропуски в столбце `days_employed` медианными значениями по каждого типа занятости `income_type`.**"
   ]
  },
  {
   "cell_type": "code",
   "execution_count": 11,
   "metadata": {
    "deletable": false,
    "id": "af6b1a7e"
   },
   "outputs": [],
   "source": [
    "for t in data['income_type'].unique():\n",
    "    data.loc[(data['income_type'] == t) & (data['days_employed'].isna()), 'days_employed'] = \\\n",
    "    data.loc[(data['income_type'] == t), 'days_employed'].median()"
   ]
  },
  {
   "cell_type": "markdown",
   "metadata": {
    "deletable": false,
    "editable": false,
    "id": "2753f40d"
   },
   "source": [
    "**Задание 12. Убедитесь, что все пропуски заполнены. Проверьте себя и ещё раз выведите количество пропущенных значений для каждого столбца с помощью двух методов.**"
   ]
  },
  {
   "cell_type": "code",
   "execution_count": 12,
   "metadata": {
    "deletable": false,
    "id": "55f78bc2",
    "outputId": "8da1e4e1-358e-4e87-98c9-f261bce0a7b2"
   },
   "outputs": [
    {
     "data": {
      "text/plain": [
       "children            0\n",
       "days_employed       0\n",
       "dob_years           0\n",
       "education           0\n",
       "education_id        0\n",
       "family_status       0\n",
       "family_status_id    0\n",
       "gender              0\n",
       "income_type         0\n",
       "debt                0\n",
       "total_income        0\n",
       "purpose             0\n",
       "dtype: int64"
      ]
     },
     "execution_count": 12,
     "metadata": {},
     "output_type": "execute_result"
    }
   ],
   "source": [
    "data.isna().sum()"
   ]
  },
  {
   "cell_type": "markdown",
   "metadata": {
    "deletable": false,
    "editable": false,
    "id": "ddc81e43"
   },
   "source": [
    "### Изменение типов данных"
   ]
  },
  {
   "cell_type": "markdown",
   "metadata": {
    "deletable": false,
    "editable": false,
    "id": "42d19d24"
   },
   "source": [
    "**Задание 13. Замените вещественный тип данных в столбце `total_income` на целочисленный с помощью метода `astype()`.**"
   ]
  },
  {
   "cell_type": "code",
   "execution_count": 13,
   "metadata": {
    "deletable": false,
    "id": "920b65ad"
   },
   "outputs": [],
   "source": [
    "data['total_income'] = data['total_income'].astype(int)"
   ]
  },
  {
   "cell_type": "markdown",
   "metadata": {
    "deletable": false,
    "editable": false,
    "id": "80c420ba"
   },
   "source": [
    "### Обработка дубликатов"
   ]
  },
  {
   "cell_type": "markdown",
   "metadata": {
    "deletable": false,
    "editable": false
   },
   "source": [
    "**Задание 14. Обработайте неявные дубликаты в столбце `education`. В этом столбце есть одни и те же значения, но записанные по-разному: с использованием заглавных и строчных букв. Приведите их к нижнему регистру. Проверьте остальные столбцы.**"
   ]
  },
  {
   "cell_type": "code",
   "execution_count": 14,
   "metadata": {
    "deletable": false
   },
   "outputs": [],
   "source": [
    "data['education'] = data['education'].str.lower()"
   ]
  },
  {
   "cell_type": "markdown",
   "metadata": {
    "deletable": false,
    "editable": false,
    "id": "dc587695"
   },
   "source": [
    "**Задание 15. Выведите на экран количество строк-дубликатов в данных. Если такие строки присутствуют, удалите их.**"
   ]
  },
  {
   "cell_type": "code",
   "execution_count": 15,
   "metadata": {
    "deletable": false,
    "id": "3ee445e4",
    "outputId": "9684deba-1934-42d1-99e1-cda61740f822"
   },
   "outputs": [
    {
     "data": {
      "text/plain": [
       "71"
      ]
     },
     "execution_count": 15,
     "metadata": {},
     "output_type": "execute_result"
    }
   ],
   "source": [
    "data.duplicated().sum()"
   ]
  },
  {
   "cell_type": "code",
   "execution_count": 16,
   "metadata": {
    "deletable": false,
    "id": "8575fe05"
   },
   "outputs": [],
   "source": [
    "data = data.drop_duplicates()"
   ]
  },
  {
   "cell_type": "markdown",
   "metadata": {
    "deletable": false,
    "editable": false,
    "id": "9904cf55"
   },
   "source": [
    "### Категоризация данных"
   ]
  },
  {
   "cell_type": "markdown",
   "metadata": {
    "deletable": false,
    "editable": false,
    "id": "72fcc8a2"
   },
   "source": [
    "**Задание 16. На основании диапазонов, указанных ниже, создайте в датафрейме `data` столбец `total_income_category` с категориями:**\n",
    "\n",
    "- 0–30000 — `'E'`;\n",
    "- 30001–50000 — `'D'`;\n",
    "- 50001–200000 — `'C'`;\n",
    "- 200001–1000000 — `'B'`;\n",
    "- 1000001 и выше — `'A'`.\n",
    "\n",
    "\n",
    "**Например, кредитополучателю с доходом 25000 нужно назначить категорию `'E'`, а клиенту, получающему 235000, — `'B'`. Используйте собственную функцию с именем `categorize_income()` и метод `apply()`.**"
   ]
  },
  {
   "cell_type": "code",
   "execution_count": 17,
   "metadata": {
    "deletable": false,
    "id": "e1771346"
   },
   "outputs": [],
   "source": [
    "def categorize_income(income):\n",
    "    try:\n",
    "        if 0 <= income <= 30000:\n",
    "            return 'E'\n",
    "        elif 30001 <= income <= 50000:\n",
    "            return 'D'\n",
    "        elif 50001 <= income <= 200000:\n",
    "            return 'C'\n",
    "        elif 200001 <= income <= 1000000:\n",
    "            return 'B'\n",
    "        elif income >= 1000001:\n",
    "            return 'A'\n",
    "    except:\n",
    "        pass"
   ]
  },
  {
   "cell_type": "code",
   "execution_count": 18,
   "metadata": {
    "deletable": false,
    "id": "d5f3586d"
   },
   "outputs": [],
   "source": [
    "data['total_income_category'] = data['total_income'].apply(categorize_income)"
   ]
  },
  {
   "cell_type": "markdown",
   "metadata": {
    "deletable": false,
    "editable": false,
    "id": "dde49b5c"
   },
   "source": [
    "**Задание 17. Выведите на экран перечень уникальных целей взятия кредита из столбца `purpose`.**"
   ]
  },
  {
   "cell_type": "code",
   "execution_count": 19,
   "metadata": {
    "deletable": false,
    "id": "f67ce9b3",
    "outputId": "673c12d9-7d7e-4ae0-9812-c622c89dd244"
   },
   "outputs": [
    {
     "data": {
      "text/plain": [
       "array(['покупка жилья', 'приобретение автомобиля',\n",
       "       'дополнительное образование', 'сыграть свадьбу',\n",
       "       'операции с жильем', 'образование', 'на проведение свадьбы',\n",
       "       'покупка жилья для семьи', 'покупка недвижимости',\n",
       "       'покупка коммерческой недвижимости', 'покупка жилой недвижимости',\n",
       "       'строительство собственной недвижимости', 'недвижимость',\n",
       "       'строительство недвижимости', 'на покупку подержанного автомобиля',\n",
       "       'на покупку своего автомобиля',\n",
       "       'операции с коммерческой недвижимостью',\n",
       "       'строительство жилой недвижимости', 'жилье',\n",
       "       'операции со своей недвижимостью', 'автомобили',\n",
       "       'заняться образованием', 'сделка с подержанным автомобилем',\n",
       "       'получение образования', 'автомобиль', 'свадьба',\n",
       "       'получение дополнительного образования', 'покупка своего жилья',\n",
       "       'операции с недвижимостью', 'получение высшего образования',\n",
       "       'свой автомобиль', 'сделка с автомобилем',\n",
       "       'профильное образование', 'высшее образование',\n",
       "       'покупка жилья для сдачи', 'на покупку автомобиля', 'ремонт жилью',\n",
       "       'заняться высшим образованием'], dtype=object)"
      ]
     },
     "execution_count": 19,
     "metadata": {},
     "output_type": "execute_result"
    }
   ],
   "source": [
    "data['purpose'].unique()"
   ]
  },
  {
   "cell_type": "markdown",
   "metadata": {
    "deletable": false,
    "editable": false,
    "id": "85d0aef0"
   },
   "source": [
    "**Задание 18. Создайте функцию, которая на основании данных из столбца `purpose` сформирует новый столбец `purpose_category`, в который войдут следующие категории:**\n",
    "\n",
    "- `'операции с автомобилем'`,\n",
    "- `'операции с недвижимостью'`,\n",
    "- `'проведение свадьбы'`,\n",
    "- `'получение образования'`.\n",
    "\n",
    "**Например, если в столбце `purpose` находится подстрока `'на покупку автомобиля'`, то в столбце `purpose_category` должна появиться строка `'операции с автомобилем'`.**\n",
    "\n",
    "**Используйте собственную функцию с именем `categorize_purpose()` и метод `apply()`. Изучите данные в столбце `purpose` и определите, какие подстроки помогут вам правильно определить категорию.**"
   ]
  },
  {
   "cell_type": "code",
   "execution_count": 20,
   "metadata": {
    "deletable": false,
    "id": "e149fab4"
   },
   "outputs": [],
   "source": [
    "def categorize_purpose(row):\n",
    "    try:\n",
    "        if 'автом' in row:\n",
    "            return 'операции с автомобилем'\n",
    "        elif 'жил' in row or 'недвиж' in row:\n",
    "            return 'операции с недвижимостью'\n",
    "        elif 'свад' in row:\n",
    "            return 'проведение свадьбы'\n",
    "        elif 'образов' in row:\n",
    "            return 'получение образования'\n",
    "    except:\n",
    "        return 'нет категории'"
   ]
  },
  {
   "cell_type": "code",
   "execution_count": 21,
   "metadata": {
    "deletable": false,
    "id": "bf36e69b"
   },
   "outputs": [],
   "source": [
    "data['purpose_category'] = data['purpose'].apply(categorize_purpose)"
   ]
  },
  {
   "cell_type": "markdown",
   "metadata": {
    "deletable": false,
    "editable": false,
    "id": "09b242bf"
   },
   "source": [
    "### Шаг 3. Исследуйте данные и ответьте на вопросы"
   ]
  },
  {
   "cell_type": "markdown",
   "metadata": {},
   "source": [
    "**Цель проекта:**\n",
    "\n",
    "исследовать критерии оценки заёмщиков для кредитного отдела банка."
   ]
  },
  {
   "cell_type": "markdown",
   "metadata": {},
   "source": [
    "---"
   ]
  },
  {
   "cell_type": "markdown",
   "metadata": {},
   "source": [
    "*Дополнительная предобработка данных.*\n",
    "\n",
    "Прежде чем перейти к содержательной части исследования, внесём ещё 2 корректировки в датафрейм. Основания корректировок: обнаруженные в ходе исследования ошибки данных."
   ]
  },
  {
   "cell_type": "markdown",
   "metadata": {},
   "source": [
    "1. Проверим графу фрейма **dob_years** на наличие значений менее 18. Вряд ли банк имеет дело с несовершеннолетними заёмщиками."
   ]
  },
  {
   "cell_type": "code",
   "execution_count": 22,
   "metadata": {},
   "outputs": [
    {
     "data": {
      "text/plain": [
       "dob_years    100\n",
       "dtype: int64"
      ]
     },
     "execution_count": 22,
     "metadata": {},
     "output_type": "execute_result"
    }
   ],
   "source": [
    "data.loc[data['dob_years'] < 18, ['dob_years']].count()"
   ]
  },
  {
   "cell_type": "code",
   "execution_count": 23,
   "metadata": {},
   "outputs": [
    {
     "data": {
      "text/plain": [
       "dob_years    100\n",
       "dtype: int64"
      ]
     },
     "execution_count": 23,
     "metadata": {},
     "output_type": "execute_result"
    }
   ],
   "source": [
    "data.loc[data['dob_years'] == 0, ['dob_years']].count()"
   ]
  },
  {
   "cell_type": "markdown",
   "metadata": {},
   "source": [
    "100 строк фрейма не просто имеют в графе **dob_years** значение менее 18, но значение, равное 0.\n",
    "Такие данные отнесём к полностью случайным ошибкам. Исправить их не видится возможным: подстановка каких-либо средних, медианных или иных значений некорректна. Удаление не должно повлиять на результаты исследования: строки занимают лишь 100 / 21331 = 0.47 % объёма фрейма."
   ]
  },
  {
   "cell_type": "code",
   "execution_count": 24,
   "metadata": {},
   "outputs": [],
   "source": [
    "data = data.loc[data['dob_years'] >= 18]"
   ]
  },
  {
   "cell_type": "markdown",
   "metadata": {},
   "source": [
    "2. Проверим графу фрейма **gender*** на наличие артефактов."
   ]
  },
  {
   "cell_type": "code",
   "execution_count": 25,
   "metadata": {},
   "outputs": [
    {
     "data": {
      "text/plain": [
       "F      14021\n",
       "M       7209\n",
       "XNA        1\n",
       "Name: gender, dtype: int64"
      ]
     },
     "execution_count": 25,
     "metadata": {},
     "output_type": "execute_result"
    }
   ],
   "source": [
    "data['gender'].value_counts()"
   ]
  },
  {
   "cell_type": "markdown",
   "metadata": {},
   "source": [
    "Удалим обнаруженное 1 некорректное значение."
   ]
  },
  {
   "cell_type": "code",
   "execution_count": 26,
   "metadata": {},
   "outputs": [],
   "source": [
    "data = data.loc[data['gender'] != 'XNA']"
   ]
  },
  {
   "cell_type": "markdown",
   "metadata": {},
   "source": [
    "---"
   ]
  },
  {
   "cell_type": "markdown",
   "metadata": {
    "deletable": false,
    "editable": false,
    "id": "c5d66278"
   },
   "source": [
    "#### 3.1 Есть ли зависимость между количеством детей и возвратом кредита в срок?"
   ]
  },
  {
   "cell_type": "markdown",
   "metadata": {},
   "source": [
    "Переформулируем вопрос:\n",
    "может ли банк идентифицировать потенциального неплательщика по кредиту, располагая только информацией о количестве детей у заёмщика?"
   ]
  },
  {
   "cell_type": "markdown",
   "metadata": {},
   "source": [
    "Повторно обозреем данные о количестве детей заёмщиков:"
   ]
  },
  {
   "cell_type": "code",
   "execution_count": 27,
   "metadata": {
    "deletable": false,
    "id": "2cacfc4a",
    "scrolled": false
   },
   "outputs": [
    {
     "data": {
      "text/plain": [
       "0    0.660433\n",
       "1    0.225718\n",
       "2    0.096043\n",
       "3    0.015450\n",
       "4    0.001931\n",
       "5    0.000424\n",
       "Name: children, dtype: float64"
      ]
     },
     "execution_count": 27,
     "metadata": {},
     "output_type": "execute_result"
    }
   ],
   "source": [
    "data['children'].value_counts(normalize=True)"
   ]
  },
  {
   "cell_type": "markdown",
   "metadata": {},
   "source": [
    "Как видно, у б*о*льшей части заёмщиков либо нет детей, либо 1 ребёнок."
   ]
  },
  {
   "cell_type": "markdown",
   "metadata": {},
   "source": [
    "Сформируем таблицу, из которой было бы видно, отличаются ли значения показателей заёмщиков **days_employed**, **dob_years**, **total_income** в зависимости от того, сколько у них детей. Будем использовать медианные значения. Использование арифметических средних выдаёт схожие результаты."
   ]
  },
  {
   "cell_type": "code",
   "execution_count": 28,
   "metadata": {},
   "outputs": [],
   "source": [
    "#ввели вспомогательные переменные:\n",
    "c_d = data.groupby('children')['days_employed'].median()\n",
    "c_dob = data.groupby('children')['dob_years'].median()\n",
    "c_tot = data.groupby('children')['total_income'].median()"
   ]
  },
  {
   "cell_type": "code",
   "execution_count": 29,
   "metadata": {
    "scrolled": true
   },
   "outputs": [
    {
     "data": {
      "text/html": [
       "<div>\n",
       "<style scoped>\n",
       "    .dataframe tbody tr th:only-of-type {\n",
       "        vertical-align: middle;\n",
       "    }\n",
       "\n",
       "    .dataframe tbody tr th {\n",
       "        vertical-align: top;\n",
       "    }\n",
       "\n",
       "    .dataframe thead th {\n",
       "        text-align: right;\n",
       "    }\n",
       "</style>\n",
       "<table border=\"1\" class=\"dataframe\">\n",
       "  <thead>\n",
       "    <tr style=\"text-align: right;\">\n",
       "      <th></th>\n",
       "      <th>days_employed</th>\n",
       "      <th>dob_years</th>\n",
       "      <th>total_income</th>\n",
       "    </tr>\n",
       "    <tr>\n",
       "      <th>children</th>\n",
       "      <th></th>\n",
       "      <th></th>\n",
       "      <th></th>\n",
       "    </tr>\n",
       "  </thead>\n",
       "  <tbody>\n",
       "    <tr>\n",
       "      <th>0</th>\n",
       "      <td>2455.222335</td>\n",
       "      <td>48</td>\n",
       "      <td>142594</td>\n",
       "    </tr>\n",
       "    <tr>\n",
       "      <th>1</th>\n",
       "      <td>1572.328285</td>\n",
       "      <td>38</td>\n",
       "      <td>145438</td>\n",
       "    </tr>\n",
       "    <tr>\n",
       "      <th>2</th>\n",
       "      <td>1572.328285</td>\n",
       "      <td>35</td>\n",
       "      <td>142594</td>\n",
       "    </tr>\n",
       "    <tr>\n",
       "      <th>3</th>\n",
       "      <td>1572.328285</td>\n",
       "      <td>36</td>\n",
       "      <td>146100</td>\n",
       "    </tr>\n",
       "    <tr>\n",
       "      <th>4</th>\n",
       "      <td>1877.349159</td>\n",
       "      <td>35</td>\n",
       "      <td>150447</td>\n",
       "    </tr>\n",
       "    <tr>\n",
       "      <th>5</th>\n",
       "      <td>1572.328285</td>\n",
       "      <td>36</td>\n",
       "      <td>168460</td>\n",
       "    </tr>\n",
       "  </tbody>\n",
       "</table>\n",
       "</div>"
      ],
      "text/plain": [
       "          days_employed  dob_years  total_income\n",
       "children                                        \n",
       "0           2455.222335         48        142594\n",
       "1           1572.328285         38        145438\n",
       "2           1572.328285         35        142594\n",
       "3           1572.328285         36        146100\n",
       "4           1877.349159         35        150447\n",
       "5           1572.328285         36        168460"
      ]
     },
     "execution_count": 29,
     "metadata": {},
     "output_type": "execute_result"
    }
   ],
   "source": [
    "children = pd.DataFrame({ 'days_employed': c_d, 'dob_years': c_dob, 'total_income': c_tot })\n",
    "children"
   ]
  },
  {
   "cell_type": "markdown",
   "metadata": {},
   "source": [
    "Как видно, у заёмщиков с разным количеством детей сходные значения показателей. Исключение составляют бездетные заёмщики: у них выше медианный возраст и трудовой стаж, что объяснимо: больше возраст = дольше трудился."
   ]
  },
  {
   "cell_type": "markdown",
   "metadata": {},
   "source": [
    "Молодые и возрастные заёмщики с одинаковым количеством детей могут принципиально отличаться друг от друга по иным своим качествам: девушка 18 лет без детей может иметь иные финансовые возможности нежели бездетный мужчина 45 лет.\n",
    "\n",
    "Для удобства рассмотрения заёмщиков разных возрастов поделим их на категории."
   ]
  },
  {
   "cell_type": "code",
   "execution_count": 30,
   "metadata": {},
   "outputs": [
    {
     "data": {
      "text/plain": [
       "молодые            11633\n",
       "средний возраст     7106\n",
       "пожилой возраст     2490\n",
       "долгожители            1\n",
       "Name: age_category, dtype: int64"
      ]
     },
     "execution_count": 30,
     "metadata": {},
     "output_type": "execute_result"
    }
   ],
   "source": [
    "#создали функцию для разбиения заёмщиков на категории по возрасту; категории -- в соответствии с методикой ВОЗ:\n",
    "#медианное значение возраста заёмщиков (48 лет) попадёт в категорию \"средний возраст\"\n",
    "def categorize_age(age):\n",
    "    try:\n",
    "        if 0 <= age < 18:\n",
    "            return 'дети'\n",
    "        elif 18 <= age <= 44:\n",
    "            return 'молодые'\n",
    "        elif 45 <= age <= 59:\n",
    "            return 'средний возраст'\n",
    "        elif 60 <= age <= 74:\n",
    "            return 'пожилой возраст'\n",
    "        elif age >= 75:\n",
    "            return 'долгожители'\n",
    "    except:\n",
    "        pass\n",
    "\n",
    "#добавили во фрейм столбец и для наглядности вывели количество заёмщиков по категориям:    \n",
    "data['age_category'] = data['dob_years'].apply(categorize_age)\n",
    "data['age_category'].value_counts()"
   ]
  },
  {
   "cell_type": "markdown",
   "metadata": {},
   "source": [
    "Несмотря на медианное значение 48 лет, бездетные заёмщики так же часто являются и молодыми:"
   ]
  },
  {
   "cell_type": "code",
   "execution_count": 31,
   "metadata": {},
   "outputs": [
    {
     "data": {
      "text/plain": [
       "children  age_category   \n",
       "0         средний возраст    0.419656\n",
       "          молодые            0.414307\n",
       "          пожилой возраст    0.165965\n",
       "          долгожители        0.000071\n",
       "1         молодые            0.763564\n",
       "          средний возраст    0.203881\n",
       "          пожилой возраст    0.032554\n",
       "2         молодые            0.894556\n",
       "          средний возраст    0.102501\n",
       "          пожилой возраст    0.002943\n",
       "3         молодые            0.905488\n",
       "          средний возраст    0.091463\n",
       "          пожилой возраст    0.003049\n",
       "4         молодые            0.878049\n",
       "          средний возраст    0.121951\n",
       "5         молодые            0.888889\n",
       "          средний возраст    0.111111\n",
       "Name: age_category, dtype: float64"
      ]
     },
     "execution_count": 31,
     "metadata": {},
     "output_type": "execute_result"
    }
   ],
   "source": [
    "data.groupby('children')['age_category'].value_counts(normalize=True)"
   ]
  },
  {
   "cell_type": "markdown",
   "metadata": {},
   "source": [
    "Продолжим исследование заёмщиков -- теперь обратимся к категориальным показателям **education**, **total_income_category** и **purpose_category**. Подсчитываем количество заёмщиков с разным количеством детей с разными значениями исследуемых показателей. Приводим абсолютные значения:"
   ]
  },
  {
   "cell_type": "code",
   "execution_count": 32,
   "metadata": {
    "scrolled": true
   },
   "outputs": [
    {
     "data": {
      "text/plain": [
       "children  education          \n",
       "0         среднее                10107\n",
       "          высшее                  3236\n",
       "          неоконченное высшее      485\n",
       "          начальное                189\n",
       "          ученая степень             4\n",
       "1         среднее                 3243\n",
       "          высшее                  1315\n",
       "          неоконченное высшее      173\n",
       "          начальное                 60\n",
       "          ученая степень             1\n",
       "2         среднее                 1393\n",
       "          высшее                   549\n",
       "          неоконченное высшее       72\n",
       "          начальное                 25\n",
       "3         среднее                  229\n",
       "          высшее                    83\n",
       "          неоконченное высшее        8\n",
       "          начальное                  7\n",
       "          ученая степень             1\n",
       "4         среднее                   32\n",
       "          высшее                     9\n",
       "5         среднее                    8\n",
       "          начальное                  1\n",
       "Name: education, dtype: int64"
      ]
     },
     "execution_count": 32,
     "metadata": {},
     "output_type": "execute_result"
    }
   ],
   "source": [
    "data.groupby('children')['education'].value_counts()"
   ]
  },
  {
   "cell_type": "code",
   "execution_count": 33,
   "metadata": {},
   "outputs": [
    {
     "data": {
      "text/plain": [
       "children  total_income_category\n",
       "0         C                        10524\n",
       "          B                         3227\n",
       "          D                          241\n",
       "          E                           17\n",
       "          A                           12\n",
       "1         C                         3549\n",
       "          B                         1164\n",
       "          D                           66\n",
       "          A                            9\n",
       "          E                            4\n",
       "2         C                         1504\n",
       "          B                          497\n",
       "          D                           34\n",
       "          A                            3\n",
       "          E                            1\n",
       "3         C                          234\n",
       "          B                           88\n",
       "          D                            5\n",
       "          A                            1\n",
       "4         C                           34\n",
       "          B                            7\n",
       "5         B                            4\n",
       "          C                            4\n",
       "          D                            1\n",
       "Name: total_income_category, dtype: int64"
      ]
     },
     "execution_count": 33,
     "metadata": {},
     "output_type": "execute_result"
    }
   ],
   "source": [
    "data.groupby('children')['total_income_category'].value_counts()"
   ]
  },
  {
   "cell_type": "code",
   "execution_count": 34,
   "metadata": {},
   "outputs": [
    {
     "data": {
      "text/plain": [
       "children  purpose_category        \n",
       "0         операции с недвижимостью    7043\n",
       "          операции с автомобилем      2832\n",
       "          получение образования       2627\n",
       "          проведение свадьбы          1519\n",
       "1         операции с недвижимостью    2442\n",
       "          операции с автомобилем       956\n",
       "          получение образования        865\n",
       "          проведение свадьбы           529\n",
       "2         операции с недвижимостью    1025\n",
       "          получение образования        401\n",
       "          операции с автомобилем       398\n",
       "          проведение свадьбы           215\n",
       "3         операции с недвижимостью     167\n",
       "          получение образования         69\n",
       "          операции с автомобилем        60\n",
       "          проведение свадьбы            32\n",
       "4         операции с недвижимостью      21\n",
       "          операции с автомобилем        10\n",
       "          получение образования          7\n",
       "          проведение свадьбы             3\n",
       "5         операции с недвижимостью       5\n",
       "          операции с автомобилем         2\n",
       "          получение образования          1\n",
       "          проведение свадьбы             1\n",
       "Name: purpose_category, dtype: int64"
      ]
     },
     "execution_count": 34,
     "metadata": {},
     "output_type": "execute_result"
    }
   ],
   "source": [
    "data.groupby('children')['purpose_category'].value_counts()"
   ]
  },
  {
   "cell_type": "markdown",
   "metadata": {},
   "source": [
    "Наблюдаем значительные совпадения и в этой части: будь у заёмщика 1 или, допустим, 3 ребёнка, иные его свойства идентичны. Относительно невысокий доход (категория С), среднее образование и желание совершить операции с недвижимостью -- вот наиболее популярное описание заёмщика."
   ]
  },
  {
   "cell_type": "markdown",
   "metadata": {},
   "source": [
    "Наконец, рассмотрим непосредственно историю взаимоотношений заёмщиков с кредитами -- данные графы **debt**:"
   ]
  },
  {
   "cell_type": "code",
   "execution_count": 35,
   "metadata": {},
   "outputs": [
    {
     "data": {
      "text/plain": [
       "children  debt\n",
       "0         0       0.924542\n",
       "          1       0.075458\n",
       "1         0       0.907972\n",
       "          1       0.092028\n",
       "2         0       0.904855\n",
       "          1       0.095145\n",
       "3         0       0.917683\n",
       "          1       0.082317\n",
       "4         0       0.902439\n",
       "          1       0.097561\n",
       "5         0       1.000000\n",
       "Name: debt, dtype: float64"
      ]
     },
     "execution_count": 35,
     "metadata": {},
     "output_type": "execute_result"
    }
   ],
   "source": [
    "data.groupby('children')['debt'].value_counts(normalize=True)"
   ]
  },
  {
   "cell_type": "markdown",
   "metadata": {},
   "source": [
    "Картина также весьма показательна: сколько бы ни было детей у заёмщика, он в прошлом не имел проблем с возвратом кредита в примерно 90 % случаев. Данными о заёмщиках с 5 детьми можно пренебречь: из доля в общем числе заёмщиков мала."
   ]
  },
  {
   "cell_type": "markdown",
   "metadata": {},
   "source": [
    "Выше мы показали, что среди бездетных заёмщиков около 40 % - заёмщики среднего возраста.\n",
    "Банку стоит определить, являются ли для него приемлемыми риски невозврата долгосрочных кредитов для таких заёмщиков. Такие риски могут возникать из-за выхода заёмщика на пенсию или его смерти."
   ]
  },
  {
   "cell_type": "markdown",
   "metadata": {},
   "source": [
    "Более подробное исследование в отношении заёмщиков среднего возраста выходит за рамки поставленного вопроса.\n",
    "Гипотеза о связи бездетности, возраста и кредитоспособности могла бы выглядеть как: заёмщик бездетный, следовательно, он среднего возраста, что означает \"плохую\" кредитную историю."
   ]
  },
  {
   "cell_type": "code",
   "execution_count": 36,
   "metadata": {},
   "outputs": [
    {
     "data": {
      "text/html": [
       "<style  type=\"text/css\" >\n",
       "</style><table id=\"T_ade0816c_a93d_11ed_9f16_b42e99b2e7ab\" ><thead>    <tr>        <th class=\"blank level0\" ></th>        <th class=\"col_heading level0 col0\" >count</th>        <th class=\"col_heading level0 col1\" >sum</th>        <th class=\"col_heading level0 col2\" >mean</th>    </tr>    <tr>        <th class=\"blank level1\" ></th>        <th class=\"col_heading level1 col0\" >debt</th>        <th class=\"col_heading level1 col1\" >debt</th>        <th class=\"col_heading level1 col2\" >debt</th>    </tr>    <tr>        <th class=\"index_name level0\" >children</th>        <th class=\"blank\" ></th>        <th class=\"blank\" ></th>        <th class=\"blank\" ></th>    </tr></thead><tbody>\n",
       "                <tr>\n",
       "                        <th id=\"T_ade0816c_a93d_11ed_9f16_b42e99b2e7ablevel0_row0\" class=\"row_heading level0 row0\" >4</th>\n",
       "                        <td id=\"T_ade0816c_a93d_11ed_9f16_b42e99b2e7abrow0_col0\" class=\"data row0 col0\" >41</td>\n",
       "                        <td id=\"T_ade0816c_a93d_11ed_9f16_b42e99b2e7abrow0_col1\" class=\"data row0 col1\" >4</td>\n",
       "                        <td id=\"T_ade0816c_a93d_11ed_9f16_b42e99b2e7abrow0_col2\" class=\"data row0 col2\" >9.76%</td>\n",
       "            </tr>\n",
       "            <tr>\n",
       "                        <th id=\"T_ade0816c_a93d_11ed_9f16_b42e99b2e7ablevel0_row1\" class=\"row_heading level0 row1\" >2</th>\n",
       "                        <td id=\"T_ade0816c_a93d_11ed_9f16_b42e99b2e7abrow1_col0\" class=\"data row1 col0\" >2039</td>\n",
       "                        <td id=\"T_ade0816c_a93d_11ed_9f16_b42e99b2e7abrow1_col1\" class=\"data row1 col1\" >194</td>\n",
       "                        <td id=\"T_ade0816c_a93d_11ed_9f16_b42e99b2e7abrow1_col2\" class=\"data row1 col2\" >9.51%</td>\n",
       "            </tr>\n",
       "            <tr>\n",
       "                        <th id=\"T_ade0816c_a93d_11ed_9f16_b42e99b2e7ablevel0_row2\" class=\"row_heading level0 row2\" >1</th>\n",
       "                        <td id=\"T_ade0816c_a93d_11ed_9f16_b42e99b2e7abrow2_col0\" class=\"data row2 col0\" >4792</td>\n",
       "                        <td id=\"T_ade0816c_a93d_11ed_9f16_b42e99b2e7abrow2_col1\" class=\"data row2 col1\" >441</td>\n",
       "                        <td id=\"T_ade0816c_a93d_11ed_9f16_b42e99b2e7abrow2_col2\" class=\"data row2 col2\" >9.20%</td>\n",
       "            </tr>\n",
       "            <tr>\n",
       "                        <th id=\"T_ade0816c_a93d_11ed_9f16_b42e99b2e7ablevel0_row3\" class=\"row_heading level0 row3\" >3</th>\n",
       "                        <td id=\"T_ade0816c_a93d_11ed_9f16_b42e99b2e7abrow3_col0\" class=\"data row3 col0\" >328</td>\n",
       "                        <td id=\"T_ade0816c_a93d_11ed_9f16_b42e99b2e7abrow3_col1\" class=\"data row3 col1\" >27</td>\n",
       "                        <td id=\"T_ade0816c_a93d_11ed_9f16_b42e99b2e7abrow3_col2\" class=\"data row3 col2\" >8.23%</td>\n",
       "            </tr>\n",
       "            <tr>\n",
       "                        <th id=\"T_ade0816c_a93d_11ed_9f16_b42e99b2e7ablevel0_row4\" class=\"row_heading level0 row4\" >0</th>\n",
       "                        <td id=\"T_ade0816c_a93d_11ed_9f16_b42e99b2e7abrow4_col0\" class=\"data row4 col0\" >14021</td>\n",
       "                        <td id=\"T_ade0816c_a93d_11ed_9f16_b42e99b2e7abrow4_col1\" class=\"data row4 col1\" >1058</td>\n",
       "                        <td id=\"T_ade0816c_a93d_11ed_9f16_b42e99b2e7abrow4_col2\" class=\"data row4 col2\" >7.55%</td>\n",
       "            </tr>\n",
       "            <tr>\n",
       "                        <th id=\"T_ade0816c_a93d_11ed_9f16_b42e99b2e7ablevel0_row5\" class=\"row_heading level0 row5\" >5</th>\n",
       "                        <td id=\"T_ade0816c_a93d_11ed_9f16_b42e99b2e7abrow5_col0\" class=\"data row5 col0\" >9</td>\n",
       "                        <td id=\"T_ade0816c_a93d_11ed_9f16_b42e99b2e7abrow5_col1\" class=\"data row5 col1\" >0</td>\n",
       "                        <td id=\"T_ade0816c_a93d_11ed_9f16_b42e99b2e7abrow5_col2\" class=\"data row5 col2\" >0.00%</td>\n",
       "            </tr>\n",
       "    </tbody></table>"
      ],
      "text/plain": [
       "<pandas.io.formats.style.Styler at 0x3b7e1f28>"
      ]
     },
     "execution_count": 36,
     "metadata": {},
     "output_type": "execute_result"
    }
   ],
   "source": [
    "data.pivot_table(index = 'children', values = 'debt', aggfunc = ['count', 'sum', 'mean'])\\\n",
    "        .sort_values(by = ('mean', 'debt'), ascending = False)\\\n",
    "        .style.format({('mean', 'debt') : '{:.2%}'})"
   ]
  },
  {
   "cell_type": "markdown",
   "metadata": {
    "deletable": false,
    "id": "3a6b99ec"
   },
   "source": [
    "**Вывод:**\n",
    "\n",
    "зависимость между количеством детей и возвратом кредита в срок имеется: так, усреднённое значение \"плохих\" кредитных историй для заёмщиков с 4 детьми почти на 30 % выше, чем у бездетных заёмщиков;\n",
    "\n",
    "однако отличия между заёмщиками с разным значением показателя не всегда так велики - с выводами о кредитоспособности заёмщика нужно быть осторожным."
   ]
  },
  {
   "cell_type": "markdown",
   "metadata": {},
   "source": [
    "<div class=\"alert alert-block alert-danger\">✍\n",
    "    \n",
    "\n",
    "__Комментарий от ревьюера №1__\n",
    "\n",
    "В банковской сфере, каждая доля процента - это очень большая цифра в итоге получается (между 8 и 9% - огромная разница). \n",
    "    \n",
    "Смотри  как эту таблицу можно вывести передав список агрегирующих функций:\n",
    "    \n",
    "    \n",
    "    data.pivot_table(index = 'children', values = 'debt', aggfunc = ['count', 'sum', 'mean'])\\\n",
    "        .sort_values(by = ('mean', 'debt'), ascending = False)\\\n",
    "        .style.format({('mean', 'debt') : '{:.2%}'})\n",
    "</div>"
   ]
  },
  {
   "cell_type": "markdown",
   "metadata": {},
   "source": [
    "---"
   ]
  },
  {
   "cell_type": "markdown",
   "metadata": {
    "deletable": false,
    "editable": false,
    "id": "97be82ca"
   },
   "source": [
    "#### 3.2 Есть ли зависимость между семейным положением и возвратом кредита в срок?"
   ]
  },
  {
   "cell_type": "markdown",
   "metadata": {},
   "source": [
    "Для ответа на поставленный вопрос проведём манипуляции, аналогичные ранее сделанным. Результаты приведены в сокращённом виде."
   ]
  },
  {
   "cell_type": "code",
   "execution_count": 37,
   "metadata": {
    "deletable": false,
    "id": "dc3f7ee8"
   },
   "outputs": [
    {
     "data": {
      "text/plain": [
       "0    12213\n",
       "1     4112\n",
       "4     2780\n",
       "3     1179\n",
       "2      946\n",
       "Name: family_status_id, dtype: int64"
      ]
     },
     "execution_count": 37,
     "metadata": {},
     "output_type": "execute_result"
    }
   ],
   "source": [
    "data['family_status_id'].value_counts()"
   ]
  },
  {
   "cell_type": "code",
   "execution_count": 38,
   "metadata": {},
   "outputs": [
    {
     "data": {
      "text/html": [
       "<div>\n",
       "<style scoped>\n",
       "    .dataframe tbody tr th:only-of-type {\n",
       "        vertical-align: middle;\n",
       "    }\n",
       "\n",
       "    .dataframe tbody tr th {\n",
       "        vertical-align: top;\n",
       "    }\n",
       "\n",
       "    .dataframe thead th {\n",
       "        text-align: right;\n",
       "    }\n",
       "</style>\n",
       "<table border=\"1\" class=\"dataframe\">\n",
       "  <thead>\n",
       "    <tr style=\"text-align: right;\">\n",
       "      <th></th>\n",
       "      <th>days_employed</th>\n",
       "      <th>dob_years</th>\n",
       "      <th>total_income</th>\n",
       "    </tr>\n",
       "    <tr>\n",
       "      <th>family_status_id</th>\n",
       "      <th></th>\n",
       "      <th></th>\n",
       "      <th></th>\n",
       "    </tr>\n",
       "  </thead>\n",
       "  <tbody>\n",
       "    <tr>\n",
       "      <th>0</th>\n",
       "      <td>2124.946354</td>\n",
       "      <td>43</td>\n",
       "      <td>142915</td>\n",
       "    </tr>\n",
       "    <tr>\n",
       "      <th>1</th>\n",
       "      <td>1770.084729</td>\n",
       "      <td>41</td>\n",
       "      <td>142594</td>\n",
       "    </tr>\n",
       "    <tr>\n",
       "      <th>2</th>\n",
       "      <td>337674.099622</td>\n",
       "      <td>58</td>\n",
       "      <td>127312</td>\n",
       "    </tr>\n",
       "    <tr>\n",
       "      <th>3</th>\n",
       "      <td>2178.461446</td>\n",
       "      <td>46</td>\n",
       "      <td>143786</td>\n",
       "    </tr>\n",
       "    <tr>\n",
       "      <th>4</th>\n",
       "      <td>1572.328285</td>\n",
       "      <td>36</td>\n",
       "      <td>142594</td>\n",
       "    </tr>\n",
       "  </tbody>\n",
       "</table>\n",
       "</div>"
      ],
      "text/plain": [
       "                  days_employed  dob_years  total_income\n",
       "family_status_id                                        \n",
       "0                   2124.946354         43        142915\n",
       "1                   1770.084729         41        142594\n",
       "2                 337674.099622         58        127312\n",
       "3                   2178.461446         46        143786\n",
       "4                   1572.328285         36        142594"
      ]
     },
     "execution_count": 38,
     "metadata": {},
     "output_type": "execute_result"
    }
   ],
   "source": [
    "f_d = data.groupby('family_status_id')['days_employed'].median()\n",
    "f_dob = data.groupby('family_status_id')['dob_years'].median()\n",
    "f_tot = data.groupby('family_status_id')['total_income'].median()\n",
    "family = pd.DataFrame({ 'days_employed': f_d, 'dob_years': f_dob, 'total_income': f_tot })\n",
    "family"
   ]
  },
  {
   "cell_type": "code",
   "execution_count": 39,
   "metadata": {},
   "outputs": [
    {
     "data": {
      "text/plain": [
       "family_status_id  debt\n",
       "0                 0       0.924425\n",
       "                  1       0.075575\n",
       "1                 0       0.906858\n",
       "                  1       0.093142\n",
       "2                 0       0.934461\n",
       "                  1       0.065539\n",
       "3                 0       0.928753\n",
       "                  1       0.071247\n",
       "4                 0       0.902158\n",
       "                  1       0.097842\n",
       "Name: debt, dtype: float64"
      ]
     },
     "execution_count": 39,
     "metadata": {},
     "output_type": "execute_result"
    }
   ],
   "source": [
    "data.groupby('family_status_id')['debt'].value_counts(normalize=True)"
   ]
  },
  {
   "cell_type": "code",
   "execution_count": 40,
   "metadata": {},
   "outputs": [
    {
     "data": {
      "text/html": [
       "<style  type=\"text/css\" >\n",
       "</style><table id=\"T_ade7d46c_a93d_11ed_b7bc_b42e99b2e7ab\" ><thead>    <tr>        <th class=\"blank level0\" ></th>        <th class=\"col_heading level0 col0\" >count</th>        <th class=\"col_heading level0 col1\" >sum</th>        <th class=\"col_heading level0 col2\" >mean</th>    </tr>    <tr>        <th class=\"blank level1\" ></th>        <th class=\"col_heading level1 col0\" >debt</th>        <th class=\"col_heading level1 col1\" >debt</th>        <th class=\"col_heading level1 col2\" >debt</th>    </tr>    <tr>        <th class=\"index_name level0\" >family_status_id</th>        <th class=\"blank\" ></th>        <th class=\"blank\" ></th>        <th class=\"blank\" ></th>    </tr></thead><tbody>\n",
       "                <tr>\n",
       "                        <th id=\"T_ade7d46c_a93d_11ed_b7bc_b42e99b2e7ablevel0_row0\" class=\"row_heading level0 row0\" >4</th>\n",
       "                        <td id=\"T_ade7d46c_a93d_11ed_b7bc_b42e99b2e7abrow0_col0\" class=\"data row0 col0\" >2780</td>\n",
       "                        <td id=\"T_ade7d46c_a93d_11ed_b7bc_b42e99b2e7abrow0_col1\" class=\"data row0 col1\" >272</td>\n",
       "                        <td id=\"T_ade7d46c_a93d_11ed_b7bc_b42e99b2e7abrow0_col2\" class=\"data row0 col2\" >9.78%</td>\n",
       "            </tr>\n",
       "            <tr>\n",
       "                        <th id=\"T_ade7d46c_a93d_11ed_b7bc_b42e99b2e7ablevel0_row1\" class=\"row_heading level0 row1\" >1</th>\n",
       "                        <td id=\"T_ade7d46c_a93d_11ed_b7bc_b42e99b2e7abrow1_col0\" class=\"data row1 col0\" >4112</td>\n",
       "                        <td id=\"T_ade7d46c_a93d_11ed_b7bc_b42e99b2e7abrow1_col1\" class=\"data row1 col1\" >383</td>\n",
       "                        <td id=\"T_ade7d46c_a93d_11ed_b7bc_b42e99b2e7abrow1_col2\" class=\"data row1 col2\" >9.31%</td>\n",
       "            </tr>\n",
       "            <tr>\n",
       "                        <th id=\"T_ade7d46c_a93d_11ed_b7bc_b42e99b2e7ablevel0_row2\" class=\"row_heading level0 row2\" >0</th>\n",
       "                        <td id=\"T_ade7d46c_a93d_11ed_b7bc_b42e99b2e7abrow2_col0\" class=\"data row2 col0\" >12213</td>\n",
       "                        <td id=\"T_ade7d46c_a93d_11ed_b7bc_b42e99b2e7abrow2_col1\" class=\"data row2 col1\" >923</td>\n",
       "                        <td id=\"T_ade7d46c_a93d_11ed_b7bc_b42e99b2e7abrow2_col2\" class=\"data row2 col2\" >7.56%</td>\n",
       "            </tr>\n",
       "            <tr>\n",
       "                        <th id=\"T_ade7d46c_a93d_11ed_b7bc_b42e99b2e7ablevel0_row3\" class=\"row_heading level0 row3\" >3</th>\n",
       "                        <td id=\"T_ade7d46c_a93d_11ed_b7bc_b42e99b2e7abrow3_col0\" class=\"data row3 col0\" >1179</td>\n",
       "                        <td id=\"T_ade7d46c_a93d_11ed_b7bc_b42e99b2e7abrow3_col1\" class=\"data row3 col1\" >84</td>\n",
       "                        <td id=\"T_ade7d46c_a93d_11ed_b7bc_b42e99b2e7abrow3_col2\" class=\"data row3 col2\" >7.12%</td>\n",
       "            </tr>\n",
       "            <tr>\n",
       "                        <th id=\"T_ade7d46c_a93d_11ed_b7bc_b42e99b2e7ablevel0_row4\" class=\"row_heading level0 row4\" >2</th>\n",
       "                        <td id=\"T_ade7d46c_a93d_11ed_b7bc_b42e99b2e7abrow4_col0\" class=\"data row4 col0\" >946</td>\n",
       "                        <td id=\"T_ade7d46c_a93d_11ed_b7bc_b42e99b2e7abrow4_col1\" class=\"data row4 col1\" >62</td>\n",
       "                        <td id=\"T_ade7d46c_a93d_11ed_b7bc_b42e99b2e7abrow4_col2\" class=\"data row4 col2\" >6.55%</td>\n",
       "            </tr>\n",
       "    </tbody></table>"
      ],
      "text/plain": [
       "<pandas.io.formats.style.Styler at 0x3da2c278>"
      ]
     },
     "execution_count": 40,
     "metadata": {},
     "output_type": "execute_result"
    }
   ],
   "source": [
    "data.pivot_table(index = 'family_status_id', values = 'debt', aggfunc = ['count', 'sum', 'mean'])\\\n",
    "        .sort_values(by = ('mean', 'debt'), ascending = False)\\\n",
    "        .style.format({('mean', 'debt') : '{:.2%}'})"
   ]
  },
  {
   "cell_type": "markdown",
   "metadata": {
    "deletable": false,
    "id": "1cef7837"
   },
   "source": [
    "**Вывод:**\n",
    "\n",
    "зависимость между семейным положением и возвратом кредита в срок имеется: так, усреднённое значение \"плохих\" кредитных историй для неженатых/незамужних заёмщиков почти на 50 % выше, чем у вдовствующих заёмщиков;\n",
    "\n",
    "однако отличия между заёмщиками с разным значением показателя не всегда так велики - с выводами о кредитоспособности заёмщика нужно быть осторожным."
   ]
  },
  {
   "cell_type": "markdown",
   "metadata": {
    "deletable": false,
    "editable": false,
    "id": "1e8b2fca"
   },
   "source": [
    "#### 3.3 Есть ли зависимость между уровнем дохода и возвратом кредита в срок?"
   ]
  },
  {
   "cell_type": "markdown",
   "metadata": {},
   "source": [
    "Для ответа на поставленный вопрос проведём манипуляции, аналогичные ранее сделанным. Результаты приведены в сокращённом виде."
   ]
  },
  {
   "cell_type": "code",
   "execution_count": 41,
   "metadata": {
    "deletable": false,
    "id": "cd7e3720"
   },
   "outputs": [
    {
     "data": {
      "text/plain": [
       "C    15849\n",
       "B     4987\n",
       "D      347\n",
       "A       25\n",
       "E       22\n",
       "Name: total_income_category, dtype: int64"
      ]
     },
     "execution_count": 41,
     "metadata": {},
     "output_type": "execute_result"
    }
   ],
   "source": [
    "data['total_income_category'].value_counts()"
   ]
  },
  {
   "cell_type": "code",
   "execution_count": 42,
   "metadata": {},
   "outputs": [
    {
     "data": {
      "text/html": [
       "<div>\n",
       "<style scoped>\n",
       "    .dataframe tbody tr th:only-of-type {\n",
       "        vertical-align: middle;\n",
       "    }\n",
       "\n",
       "    .dataframe tbody tr th {\n",
       "        vertical-align: top;\n",
       "    }\n",
       "\n",
       "    .dataframe thead th {\n",
       "        text-align: right;\n",
       "    }\n",
       "</style>\n",
       "<table border=\"1\" class=\"dataframe\">\n",
       "  <thead>\n",
       "    <tr style=\"text-align: right;\">\n",
       "      <th></th>\n",
       "      <th>days_employed</th>\n",
       "      <th>dob_years</th>\n",
       "      <th>children</th>\n",
       "    </tr>\n",
       "    <tr>\n",
       "      <th>total_income_category</th>\n",
       "      <th></th>\n",
       "      <th></th>\n",
       "      <th></th>\n",
       "    </tr>\n",
       "  </thead>\n",
       "  <tbody>\n",
       "    <tr>\n",
       "      <th>A</th>\n",
       "      <td>2577.664662</td>\n",
       "      <td>43</td>\n",
       "      <td>1</td>\n",
       "    </tr>\n",
       "    <tr>\n",
       "      <th>B</th>\n",
       "      <td>2084.838901</td>\n",
       "      <td>42</td>\n",
       "      <td>0</td>\n",
       "    </tr>\n",
       "    <tr>\n",
       "      <th>C</th>\n",
       "      <td>1929.807136</td>\n",
       "      <td>43</td>\n",
       "      <td>0</td>\n",
       "    </tr>\n",
       "    <tr>\n",
       "      <th>D</th>\n",
       "      <td>6700.810373</td>\n",
       "      <td>51</td>\n",
       "      <td>0</td>\n",
       "    </tr>\n",
       "    <tr>\n",
       "      <th>E</th>\n",
       "      <td>347804.940429</td>\n",
       "      <td>56</td>\n",
       "      <td>0</td>\n",
       "    </tr>\n",
       "  </tbody>\n",
       "</table>\n",
       "</div>"
      ],
      "text/plain": [
       "                       days_employed  dob_years  children\n",
       "total_income_category                                    \n",
       "A                        2577.664662         43         1\n",
       "B                        2084.838901         42         0\n",
       "C                        1929.807136         43         0\n",
       "D                        6700.810373         51         0\n",
       "E                      347804.940429         56         0"
      ]
     },
     "execution_count": 42,
     "metadata": {},
     "output_type": "execute_result"
    }
   ],
   "source": [
    "inc_d = data.groupby('total_income_category')['days_employed'].median()\n",
    "inc_dob = data.groupby('total_income_category')['dob_years'].median()\n",
    "inc_ch = data.groupby('total_income_category')['children'].median()\n",
    "income = pd.DataFrame({ 'days_employed': inc_d, 'dob_years': inc_dob, 'children': inc_ch })\n",
    "income"
   ]
  },
  {
   "cell_type": "code",
   "execution_count": 43,
   "metadata": {},
   "outputs": [
    {
     "data": {
      "text/plain": [
       "total_income_category  debt\n",
       "A                      0       0.920000\n",
       "                       1       0.080000\n",
       "B                      0       0.929216\n",
       "                       1       0.070784\n",
       "C                      0       0.915074\n",
       "                       1       0.084926\n",
       "D                      0       0.939481\n",
       "                       1       0.060519\n",
       "E                      0       0.909091\n",
       "                       1       0.090909\n",
       "Name: debt, dtype: float64"
      ]
     },
     "execution_count": 43,
     "metadata": {},
     "output_type": "execute_result"
    }
   ],
   "source": [
    "data.groupby('total_income_category')['debt'].value_counts(normalize=True)"
   ]
  },
  {
   "cell_type": "code",
   "execution_count": 44,
   "metadata": {},
   "outputs": [
    {
     "data": {
      "text/html": [
       "<style  type=\"text/css\" >\n",
       "</style><table id=\"T_adef276c_a93d_11ed_8208_b42e99b2e7ab\" ><thead>    <tr>        <th class=\"blank level0\" ></th>        <th class=\"col_heading level0 col0\" >count</th>        <th class=\"col_heading level0 col1\" >sum</th>        <th class=\"col_heading level0 col2\" >mean</th>    </tr>    <tr>        <th class=\"blank level1\" ></th>        <th class=\"col_heading level1 col0\" >debt</th>        <th class=\"col_heading level1 col1\" >debt</th>        <th class=\"col_heading level1 col2\" >debt</th>    </tr>    <tr>        <th class=\"index_name level0\" >total_income_category</th>        <th class=\"blank\" ></th>        <th class=\"blank\" ></th>        <th class=\"blank\" ></th>    </tr></thead><tbody>\n",
       "                <tr>\n",
       "                        <th id=\"T_adef276c_a93d_11ed_8208_b42e99b2e7ablevel0_row0\" class=\"row_heading level0 row0\" >E</th>\n",
       "                        <td id=\"T_adef276c_a93d_11ed_8208_b42e99b2e7abrow0_col0\" class=\"data row0 col0\" >22</td>\n",
       "                        <td id=\"T_adef276c_a93d_11ed_8208_b42e99b2e7abrow0_col1\" class=\"data row0 col1\" >2</td>\n",
       "                        <td id=\"T_adef276c_a93d_11ed_8208_b42e99b2e7abrow0_col2\" class=\"data row0 col2\" >9.09%</td>\n",
       "            </tr>\n",
       "            <tr>\n",
       "                        <th id=\"T_adef276c_a93d_11ed_8208_b42e99b2e7ablevel0_row1\" class=\"row_heading level0 row1\" >C</th>\n",
       "                        <td id=\"T_adef276c_a93d_11ed_8208_b42e99b2e7abrow1_col0\" class=\"data row1 col0\" >15849</td>\n",
       "                        <td id=\"T_adef276c_a93d_11ed_8208_b42e99b2e7abrow1_col1\" class=\"data row1 col1\" >1346</td>\n",
       "                        <td id=\"T_adef276c_a93d_11ed_8208_b42e99b2e7abrow1_col2\" class=\"data row1 col2\" >8.49%</td>\n",
       "            </tr>\n",
       "            <tr>\n",
       "                        <th id=\"T_adef276c_a93d_11ed_8208_b42e99b2e7ablevel0_row2\" class=\"row_heading level0 row2\" >A</th>\n",
       "                        <td id=\"T_adef276c_a93d_11ed_8208_b42e99b2e7abrow2_col0\" class=\"data row2 col0\" >25</td>\n",
       "                        <td id=\"T_adef276c_a93d_11ed_8208_b42e99b2e7abrow2_col1\" class=\"data row2 col1\" >2</td>\n",
       "                        <td id=\"T_adef276c_a93d_11ed_8208_b42e99b2e7abrow2_col2\" class=\"data row2 col2\" >8.00%</td>\n",
       "            </tr>\n",
       "            <tr>\n",
       "                        <th id=\"T_adef276c_a93d_11ed_8208_b42e99b2e7ablevel0_row3\" class=\"row_heading level0 row3\" >B</th>\n",
       "                        <td id=\"T_adef276c_a93d_11ed_8208_b42e99b2e7abrow3_col0\" class=\"data row3 col0\" >4987</td>\n",
       "                        <td id=\"T_adef276c_a93d_11ed_8208_b42e99b2e7abrow3_col1\" class=\"data row3 col1\" >353</td>\n",
       "                        <td id=\"T_adef276c_a93d_11ed_8208_b42e99b2e7abrow3_col2\" class=\"data row3 col2\" >7.08%</td>\n",
       "            </tr>\n",
       "            <tr>\n",
       "                        <th id=\"T_adef276c_a93d_11ed_8208_b42e99b2e7ablevel0_row4\" class=\"row_heading level0 row4\" >D</th>\n",
       "                        <td id=\"T_adef276c_a93d_11ed_8208_b42e99b2e7abrow4_col0\" class=\"data row4 col0\" >347</td>\n",
       "                        <td id=\"T_adef276c_a93d_11ed_8208_b42e99b2e7abrow4_col1\" class=\"data row4 col1\" >21</td>\n",
       "                        <td id=\"T_adef276c_a93d_11ed_8208_b42e99b2e7abrow4_col2\" class=\"data row4 col2\" >6.05%</td>\n",
       "            </tr>\n",
       "    </tbody></table>"
      ],
      "text/plain": [
       "<pandas.io.formats.style.Styler at 0x3ea72748>"
      ]
     },
     "execution_count": 44,
     "metadata": {},
     "output_type": "execute_result"
    }
   ],
   "source": [
    "data.pivot_table(index = 'total_income_category', values = 'debt', aggfunc = ['count', 'sum', 'mean'])\\\n",
    "        .sort_values(by = ('mean', 'debt'), ascending = False)\\\n",
    "        .style.format({('mean', 'debt') : '{:.2%}'})"
   ]
  },
  {
   "cell_type": "markdown",
   "metadata": {
    "deletable": false,
    "id": "e8593def"
   },
   "source": [
    "**Вывод:**\n",
    "\n",
    "зависимость между уровнем дохода и возвратом кредита в срок имеется: так, усреднённое значение \"плохих\" кредитных историй для наименее обеспеченных заёмщиков более чем на 50 % выше, чем у заёмщиков категории D;\n",
    "\n",
    "однако отличия между заёмщиками с разным значением показателя не всегда так велики - с выводами о кредитоспособности заёмщика нужно быть осторожным."
   ]
  },
  {
   "cell_type": "markdown",
   "metadata": {
    "deletable": false,
    "editable": false,
    "id": "99ecbd1f"
   },
   "source": [
    "#### 3.4 Как разные цели кредита влияют на его возврат в срок?"
   ]
  },
  {
   "cell_type": "markdown",
   "metadata": {},
   "source": [
    "Для ответа на поставленный вопрос проведём манипуляции, аналогичные ранее сделанным. Результаты приведены в сокращённом виде."
   ]
  },
  {
   "cell_type": "code",
   "execution_count": 45,
   "metadata": {
    "deletable": false,
    "id": "2b687290"
   },
   "outputs": [
    {
     "data": {
      "text/plain": [
       "операции с недвижимостью    10703\n",
       "операции с автомобилем       4258\n",
       "получение образования        3970\n",
       "проведение свадьбы           2299\n",
       "Name: purpose_category, dtype: int64"
      ]
     },
     "execution_count": 45,
     "metadata": {},
     "output_type": "execute_result"
    }
   ],
   "source": [
    "data['purpose_category'].value_counts()"
   ]
  },
  {
   "cell_type": "code",
   "execution_count": 46,
   "metadata": {},
   "outputs": [
    {
     "data": {
      "text/html": [
       "<div>\n",
       "<style scoped>\n",
       "    .dataframe tbody tr th:only-of-type {\n",
       "        vertical-align: middle;\n",
       "    }\n",
       "\n",
       "    .dataframe tbody tr th {\n",
       "        vertical-align: top;\n",
       "    }\n",
       "\n",
       "    .dataframe thead th {\n",
       "        text-align: right;\n",
       "    }\n",
       "</style>\n",
       "<table border=\"1\" class=\"dataframe\">\n",
       "  <thead>\n",
       "    <tr style=\"text-align: right;\">\n",
       "      <th></th>\n",
       "      <th>days_employed</th>\n",
       "      <th>dob_years</th>\n",
       "      <th>children</th>\n",
       "      <th>total_income</th>\n",
       "    </tr>\n",
       "    <tr>\n",
       "      <th>purpose_category</th>\n",
       "      <th></th>\n",
       "      <th></th>\n",
       "      <th></th>\n",
       "      <th></th>\n",
       "    </tr>\n",
       "  </thead>\n",
       "  <tbody>\n",
       "    <tr>\n",
       "      <th>операции с автомобилем</th>\n",
       "      <td>2039.004530</td>\n",
       "      <td>43</td>\n",
       "      <td>0</td>\n",
       "      <td>142594</td>\n",
       "    </tr>\n",
       "    <tr>\n",
       "      <th>операции с недвижимостью</th>\n",
       "      <td>1988.499096</td>\n",
       "      <td>42</td>\n",
       "      <td>0</td>\n",
       "      <td>142910</td>\n",
       "    </tr>\n",
       "    <tr>\n",
       "      <th>получение образования</th>\n",
       "      <td>2005.454653</td>\n",
       "      <td>43</td>\n",
       "      <td>0</td>\n",
       "      <td>142594</td>\n",
       "    </tr>\n",
       "    <tr>\n",
       "      <th>проведение свадьбы</th>\n",
       "      <td>1943.645755</td>\n",
       "      <td>42</td>\n",
       "      <td>0</td>\n",
       "      <td>142594</td>\n",
       "    </tr>\n",
       "  </tbody>\n",
       "</table>\n",
       "</div>"
      ],
      "text/plain": [
       "                          days_employed  dob_years  children  total_income\n",
       "purpose_category                                                          \n",
       "операции с автомобилем      2039.004530         43         0        142594\n",
       "операции с недвижимостью    1988.499096         42         0        142910\n",
       "получение образования       2005.454653         43         0        142594\n",
       "проведение свадьбы          1943.645755         42         0        142594"
      ]
     },
     "execution_count": 46,
     "metadata": {},
     "output_type": "execute_result"
    }
   ],
   "source": [
    "purp_d = data.groupby('purpose_category')['days_employed'].median()\n",
    "purp_dob = data.groupby('purpose_category')['dob_years'].median()\n",
    "purp_ch = data.groupby('purpose_category')['children'].median()\n",
    "purp_inc = data.groupby('purpose_category')['total_income'].median()\n",
    "purpose = pd.DataFrame({ 'days_employed': purp_d, 'dob_years': purp_dob, 'children': purp_ch, 'total_income': purp_inc })\n",
    "purpose"
   ]
  },
  {
   "cell_type": "code",
   "execution_count": 47,
   "metadata": {},
   "outputs": [
    {
     "data": {
      "text/plain": [
       "purpose_category          debt\n",
       "операции с автомобилем    0       0.906764\n",
       "                          1       0.093236\n",
       "операции с недвижимостью  0       0.927404\n",
       "                          1       0.072596\n",
       "получение образования     0       0.907053\n",
       "                          1       0.092947\n",
       "проведение свадьбы        0       0.921270\n",
       "                          1       0.078730\n",
       "Name: debt, dtype: float64"
      ]
     },
     "execution_count": 47,
     "metadata": {},
     "output_type": "execute_result"
    }
   ],
   "source": [
    "data.groupby('purpose_category')['debt'].value_counts(normalize=True)"
   ]
  },
  {
   "cell_type": "code",
   "execution_count": 48,
   "metadata": {},
   "outputs": [
    {
     "data": {
      "text/html": [
       "<style  type=\"text/css\" >\n",
       "</style><table id=\"T_adf8763a_a93d_11ed_a058_b42e99b2e7ab\" ><thead>    <tr>        <th class=\"blank level0\" ></th>        <th class=\"col_heading level0 col0\" >count</th>        <th class=\"col_heading level0 col1\" >sum</th>        <th class=\"col_heading level0 col2\" >mean</th>    </tr>    <tr>        <th class=\"blank level1\" ></th>        <th class=\"col_heading level1 col0\" >debt</th>        <th class=\"col_heading level1 col1\" >debt</th>        <th class=\"col_heading level1 col2\" >debt</th>    </tr>    <tr>        <th class=\"index_name level0\" >purpose_category</th>        <th class=\"blank\" ></th>        <th class=\"blank\" ></th>        <th class=\"blank\" ></th>    </tr></thead><tbody>\n",
       "                <tr>\n",
       "                        <th id=\"T_adf8763a_a93d_11ed_a058_b42e99b2e7ablevel0_row0\" class=\"row_heading level0 row0\" >операции с автомобилем</th>\n",
       "                        <td id=\"T_adf8763a_a93d_11ed_a058_b42e99b2e7abrow0_col0\" class=\"data row0 col0\" >4258</td>\n",
       "                        <td id=\"T_adf8763a_a93d_11ed_a058_b42e99b2e7abrow0_col1\" class=\"data row0 col1\" >397</td>\n",
       "                        <td id=\"T_adf8763a_a93d_11ed_a058_b42e99b2e7abrow0_col2\" class=\"data row0 col2\" >9.32%</td>\n",
       "            </tr>\n",
       "            <tr>\n",
       "                        <th id=\"T_adf8763a_a93d_11ed_a058_b42e99b2e7ablevel0_row1\" class=\"row_heading level0 row1\" >получение образования</th>\n",
       "                        <td id=\"T_adf8763a_a93d_11ed_a058_b42e99b2e7abrow1_col0\" class=\"data row1 col0\" >3970</td>\n",
       "                        <td id=\"T_adf8763a_a93d_11ed_a058_b42e99b2e7abrow1_col1\" class=\"data row1 col1\" >369</td>\n",
       "                        <td id=\"T_adf8763a_a93d_11ed_a058_b42e99b2e7abrow1_col2\" class=\"data row1 col2\" >9.29%</td>\n",
       "            </tr>\n",
       "            <tr>\n",
       "                        <th id=\"T_adf8763a_a93d_11ed_a058_b42e99b2e7ablevel0_row2\" class=\"row_heading level0 row2\" >проведение свадьбы</th>\n",
       "                        <td id=\"T_adf8763a_a93d_11ed_a058_b42e99b2e7abrow2_col0\" class=\"data row2 col0\" >2299</td>\n",
       "                        <td id=\"T_adf8763a_a93d_11ed_a058_b42e99b2e7abrow2_col1\" class=\"data row2 col1\" >181</td>\n",
       "                        <td id=\"T_adf8763a_a93d_11ed_a058_b42e99b2e7abrow2_col2\" class=\"data row2 col2\" >7.87%</td>\n",
       "            </tr>\n",
       "            <tr>\n",
       "                        <th id=\"T_adf8763a_a93d_11ed_a058_b42e99b2e7ablevel0_row3\" class=\"row_heading level0 row3\" >операции с недвижимостью</th>\n",
       "                        <td id=\"T_adf8763a_a93d_11ed_a058_b42e99b2e7abrow3_col0\" class=\"data row3 col0\" >10703</td>\n",
       "                        <td id=\"T_adf8763a_a93d_11ed_a058_b42e99b2e7abrow3_col1\" class=\"data row3 col1\" >777</td>\n",
       "                        <td id=\"T_adf8763a_a93d_11ed_a058_b42e99b2e7abrow3_col2\" class=\"data row3 col2\" >7.26%</td>\n",
       "            </tr>\n",
       "    </tbody></table>"
      ],
      "text/plain": [
       "<pandas.io.formats.style.Styler at 0x3ea7a630>"
      ]
     },
     "execution_count": 48,
     "metadata": {},
     "output_type": "execute_result"
    }
   ],
   "source": [
    "data.pivot_table(index = 'purpose_category', values = 'debt', aggfunc = ['count', 'sum', 'mean'])\\\n",
    "        .sort_values(by = ('mean', 'debt'), ascending = False)\\\n",
    "        .style.format({('mean', 'debt') : '{:.2%}'})"
   ]
  },
  {
   "cell_type": "markdown",
   "metadata": {
    "deletable": false,
    "id": "b4bb2ce6"
   },
   "source": [
    "**Вывод:**\n",
    "\n",
    "зависимость между целевым назначением кредита и возвратом кредита в срок имеется: так, усреднённое значение \"плохих\" кредитных историй для операций с автомобилем более чем на 28 % выше, чем для операций с недвижимостью;\n",
    "\n",
    "однако отличия между заёмщиками с разным значением показателя не всегда так велики - с выводами о кредитоспособности заёмщика нужно быть осторожным."
   ]
  },
  {
   "cell_type": "markdown",
   "metadata": {
    "deletable": false,
    "editable": false,
    "id": "09c3ac4c"
   },
   "source": [
    "#### 3.5 Приведите возможные причины появления пропусков в исходных данных."
   ]
  },
  {
   "cell_type": "markdown",
   "metadata": {
    "deletable": false,
    "id": "9da2ceda"
   },
   "source": [
    "Возможные причины появления пропусков в исходных данных:\n",
    "- пропуски в столбцах **days_employed** и **total_income** - полностью случайные - возможно, информация не была заполнена заёмщиком при  оформлении заявки на кредит;\n",
    "- отрицательное количество дней трудового стажа в столбце **days_employed** - полностью случайные - механическая ошибка при заполнении заявки на кредит;\n",
    "- аномальные значения в столбце **children** - полностью случайные - механическая ошибка при заполнении заявки на кредит;\n",
    "- вещественный тип данных в столбце **total_income** - полностью случайные - ошибки работы базы данных банка;\n",
    "- неявные дубликаты в столбце **education** - полностью случайные - вероятно, при обработке заявок отсутствует контроль входящих данных; также возможно, что форма он-лайн заявок не содержит подсказок для заёмщика вида *\"заполните поле ___ только строчными буквами\"*;\n",
    "- в графе **dob_years** значения менее 18 - полностью случайные - механическая ошибка при заполнении заявки на кредит;\n",
    "- артефакты в графе **gender*** - полностью случайные - ошибка базы данных.\n",
    "\n",
    "В целом банку необходимо жёстче контролировать входные данные: предусмотреть ошибкоустойчивые формы заявок на кредит, подсказки при заполнении форм. Также стоит иным образом организовать работу с БД."
   ]
  },
  {
   "cell_type": "markdown",
   "metadata": {
    "deletable": false,
    "editable": false,
    "id": "7b0487d6"
   },
   "source": [
    "#### 3.6 Объясните, почему заполнить пропуски медианным значением — лучшее решение для количественных переменных."
   ]
  },
  {
   "cell_type": "markdown",
   "metadata": {
    "deletable": false,
    "id": "7ecf2b8e"
   },
   "source": [
    "Медианное значение в меньшей степени зависит от наличия в выборке экстремально высоких или экстремально низких значений. Вопреки названию \"среднее\" значение может быть смещено от середины выборки, чего не происходит с медианным значением.\n",
    "Также медианное значение интуитивно понятно исследователю: оно соответствует условной середине выборки."
   ]
  },
  {
   "cell_type": "markdown",
   "metadata": {
    "deletable": false,
    "editable": false,
    "id": "6db5255a"
   },
   "source": [
    "### Шаг 4: общий вывод."
   ]
  },
  {
   "cell_type": "markdown",
   "metadata": {
    "deletable": false,
    "id": "bad65432"
   },
   "source": [
    "В ходе исследования\n",
    "\n",
    "- заёмщики были агрегированы по нескольким показателям,\n",
    "- были изучены сходные и отличные черты заёмщиков в зависимости от величины исследуемого показателя,\n",
    "- были построены сводные таблицы, наглядно показавшие влияение показателей на кредитоспособность.\n",
    "\n",
    "Оценка перспективы возврата кредита в срок может быть осуществлена на основании одного из перечисленных в исследовании показателей заёмщика. Однако такая оценка должна проводиться с осторожностью: отличия между разными категориями заёмщиков не всегда велики."
   ]
  }
 ],
 "metadata": {
  "ExecuteTimeLog": [
   {
    "duration": 492,
    "start_time": "2022-09-23T11:31:07.924Z"
   },
   {
    "duration": 21,
    "start_time": "2022-09-23T11:31:08.418Z"
   },
   {
    "duration": 14,
    "start_time": "2022-09-23T11:31:08.440Z"
   },
   {
    "duration": 9,
    "start_time": "2022-09-23T11:31:08.456Z"
   },
   {
    "duration": 30,
    "start_time": "2022-09-23T11:31:08.466Z"
   },
   {
    "duration": 3,
    "start_time": "2022-09-23T11:31:08.497Z"
   },
   {
    "duration": 27,
    "start_time": "2022-09-23T11:31:08.501Z"
   },
   {
    "duration": 6,
    "start_time": "2022-09-23T11:31:08.529Z"
   },
   {
    "duration": 10,
    "start_time": "2022-09-23T11:31:08.537Z"
   },
   {
    "duration": 3,
    "start_time": "2022-09-23T11:31:08.550Z"
   },
   {
    "duration": 35,
    "start_time": "2022-09-23T11:31:08.555Z"
   },
   {
    "duration": 9,
    "start_time": "2022-09-23T11:31:08.592Z"
   },
   {
    "duration": 3,
    "start_time": "2022-09-23T11:31:08.622Z"
   },
   {
    "duration": 12,
    "start_time": "2022-09-23T11:31:08.627Z"
   },
   {
    "duration": 18,
    "start_time": "2022-09-23T11:31:08.641Z"
   },
   {
    "duration": 16,
    "start_time": "2022-09-23T11:31:08.661Z"
   },
   {
    "duration": 3,
    "start_time": "2022-09-23T11:31:08.678Z"
   },
   {
    "duration": 16,
    "start_time": "2022-09-23T11:31:08.683Z"
   },
   {
    "duration": 6,
    "start_time": "2022-09-23T11:31:08.722Z"
   },
   {
    "duration": 5,
    "start_time": "2022-09-23T11:31:08.729Z"
   },
   {
    "duration": 12,
    "start_time": "2022-09-23T11:31:08.735Z"
   },
   {
    "duration": 56,
    "start_time": "2022-09-23T11:31:08.749Z"
   },
   {
    "duration": 0,
    "start_time": "2022-09-23T11:31:08.807Z"
   },
   {
    "duration": 0,
    "start_time": "2022-09-23T11:31:08.821Z"
   },
   {
    "duration": 0,
    "start_time": "2022-09-23T11:31:08.822Z"
   },
   {
    "duration": 0,
    "start_time": "2022-09-23T11:31:08.823Z"
   },
   {
    "duration": 7,
    "start_time": "2022-09-23T11:32:38.679Z"
   },
   {
    "duration": 11,
    "start_time": "2022-09-23T12:11:44.749Z"
   },
   {
    "duration": 8,
    "start_time": "2022-09-23T12:12:34.660Z"
   },
   {
    "duration": 7,
    "start_time": "2022-09-23T12:16:01.277Z"
   },
   {
    "duration": 31,
    "start_time": "2022-09-23T12:19:17.648Z"
   },
   {
    "duration": 20,
    "start_time": "2022-09-23T12:19:26.840Z"
   },
   {
    "duration": 6,
    "start_time": "2022-09-23T12:20:48.330Z"
   },
   {
    "duration": 71,
    "start_time": "2022-09-23T12:21:16.609Z"
   },
   {
    "duration": 7,
    "start_time": "2022-09-23T12:22:25.671Z"
   },
   {
    "duration": 6,
    "start_time": "2022-09-23T12:23:39.878Z"
   },
   {
    "duration": 6,
    "start_time": "2022-09-23T12:24:13.208Z"
   },
   {
    "duration": 4,
    "start_time": "2022-09-23T12:24:35.925Z"
   },
   {
    "duration": 8,
    "start_time": "2022-09-23T12:25:00.136Z"
   },
   {
    "duration": 8,
    "start_time": "2022-09-23T12:25:13.968Z"
   },
   {
    "duration": 228,
    "start_time": "2022-09-23T16:10:03.181Z"
   },
   {
    "duration": 9,
    "start_time": "2022-09-23T16:10:11.784Z"
   },
   {
    "duration": 643,
    "start_time": "2022-09-24T12:30:55.230Z"
   },
   {
    "duration": 38,
    "start_time": "2022-09-24T12:30:55.876Z"
   },
   {
    "duration": 31,
    "start_time": "2022-09-24T12:30:55.916Z"
   },
   {
    "duration": 10,
    "start_time": "2022-09-24T12:30:55.949Z"
   },
   {
    "duration": 59,
    "start_time": "2022-09-24T12:30:55.961Z"
   },
   {
    "duration": 4,
    "start_time": "2022-09-24T12:30:56.022Z"
   },
   {
    "duration": 12,
    "start_time": "2022-09-24T12:30:56.027Z"
   },
   {
    "duration": 8,
    "start_time": "2022-09-24T12:30:56.041Z"
   },
   {
    "duration": 8,
    "start_time": "2022-09-24T12:30:56.051Z"
   },
   {
    "duration": 29,
    "start_time": "2022-09-24T12:30:56.064Z"
   },
   {
    "duration": 53,
    "start_time": "2022-09-24T12:30:56.094Z"
   },
   {
    "duration": 11,
    "start_time": "2022-09-24T12:30:56.149Z"
   },
   {
    "duration": 9,
    "start_time": "2022-09-24T12:30:56.162Z"
   },
   {
    "duration": 33,
    "start_time": "2022-09-24T12:30:56.173Z"
   },
   {
    "duration": 67,
    "start_time": "2022-09-24T12:30:56.208Z"
   },
   {
    "duration": 26,
    "start_time": "2022-09-24T12:30:56.277Z"
   },
   {
    "duration": 12,
    "start_time": "2022-09-24T12:30:56.309Z"
   },
   {
    "duration": 21,
    "start_time": "2022-09-24T12:30:56.323Z"
   },
   {
    "duration": 18,
    "start_time": "2022-09-24T12:30:56.346Z"
   },
   {
    "duration": 7,
    "start_time": "2022-09-24T12:30:56.367Z"
   },
   {
    "duration": 49,
    "start_time": "2022-09-24T12:30:56.376Z"
   },
   {
    "duration": 38,
    "start_time": "2022-09-24T12:30:56.427Z"
   },
   {
    "duration": 24,
    "start_time": "2022-09-24T12:30:56.467Z"
   },
   {
    "duration": 46,
    "start_time": "2022-09-24T12:30:56.493Z"
   },
   {
    "duration": 19,
    "start_time": "2022-09-24T12:30:56.540Z"
   },
   {
    "duration": 21,
    "start_time": "2022-09-24T12:30:56.561Z"
   },
   {
    "duration": 63,
    "start_time": "2022-09-24T12:30:56.585Z"
   },
   {
    "duration": 60,
    "start_time": "2022-09-24T12:30:56.652Z"
   },
   {
    "duration": 17,
    "start_time": "2022-09-24T12:30:56.714Z"
   },
   {
    "duration": 46,
    "start_time": "2022-09-24T12:30:56.732Z"
   },
   {
    "duration": 3,
    "start_time": "2022-09-24T12:30:56.780Z"
   },
   {
    "duration": 28,
    "start_time": "2022-09-24T12:30:56.785Z"
   },
   {
    "duration": 18,
    "start_time": "2022-09-24T12:30:56.815Z"
   },
   {
    "duration": 16,
    "start_time": "2022-09-24T12:31:54.889Z"
   },
   {
    "duration": 12,
    "start_time": "2022-09-24T12:32:29.223Z"
   },
   {
    "duration": 10,
    "start_time": "2022-09-24T12:32:32.928Z"
   },
   {
    "duration": 11,
    "start_time": "2022-09-24T12:32:44.416Z"
   },
   {
    "duration": 10,
    "start_time": "2022-09-24T12:41:18.206Z"
   },
   {
    "duration": 26,
    "start_time": "2022-09-24T13:03:19.779Z"
   },
   {
    "duration": 14,
    "start_time": "2022-09-24T13:05:26.707Z"
   },
   {
    "duration": 15,
    "start_time": "2022-09-24T13:06:15.512Z"
   },
   {
    "duration": 39,
    "start_time": "2022-09-24T13:06:35.566Z"
   },
   {
    "duration": 30,
    "start_time": "2022-09-24T13:11:35.657Z"
   },
   {
    "duration": 20,
    "start_time": "2022-09-24T13:26:26.252Z"
   },
   {
    "duration": 11,
    "start_time": "2022-09-24T13:36:01.716Z"
   },
   {
    "duration": 15,
    "start_time": "2022-09-24T14:59:38.036Z"
   },
   {
    "duration": 17,
    "start_time": "2022-09-24T15:04:44.254Z"
   },
   {
    "duration": 636,
    "start_time": "2022-09-25T08:04:39.629Z"
   },
   {
    "duration": 38,
    "start_time": "2022-09-25T08:04:40.267Z"
   },
   {
    "duration": 22,
    "start_time": "2022-09-25T08:04:40.313Z"
   },
   {
    "duration": 11,
    "start_time": "2022-09-25T08:04:40.337Z"
   },
   {
    "duration": 46,
    "start_time": "2022-09-25T08:04:40.349Z"
   },
   {
    "duration": 15,
    "start_time": "2022-09-25T08:04:40.401Z"
   },
   {
    "duration": 18,
    "start_time": "2022-09-25T08:04:40.418Z"
   },
   {
    "duration": 10,
    "start_time": "2022-09-25T08:04:40.438Z"
   },
   {
    "duration": 20,
    "start_time": "2022-09-25T08:04:40.449Z"
   },
   {
    "duration": 14,
    "start_time": "2022-09-25T08:04:40.473Z"
   },
   {
    "duration": 70,
    "start_time": "2022-09-25T08:04:40.488Z"
   },
   {
    "duration": 10,
    "start_time": "2022-09-25T08:04:40.560Z"
   },
   {
    "duration": 12,
    "start_time": "2022-09-25T08:04:40.571Z"
   },
   {
    "duration": 49,
    "start_time": "2022-09-25T08:04:40.585Z"
   },
   {
    "duration": 43,
    "start_time": "2022-09-25T08:04:40.636Z"
   },
   {
    "duration": 29,
    "start_time": "2022-09-25T08:04:40.680Z"
   },
   {
    "duration": 13,
    "start_time": "2022-09-25T08:04:40.711Z"
   },
   {
    "duration": 18,
    "start_time": "2022-09-25T08:04:40.725Z"
   },
   {
    "duration": 24,
    "start_time": "2022-09-25T08:04:40.745Z"
   },
   {
    "duration": 38,
    "start_time": "2022-09-25T08:04:40.770Z"
   },
   {
    "duration": 39,
    "start_time": "2022-09-25T08:04:40.813Z"
   },
   {
    "duration": 15,
    "start_time": "2022-09-25T08:04:40.855Z"
   },
   {
    "duration": 55,
    "start_time": "2022-09-25T08:04:40.872Z"
   },
   {
    "duration": 31,
    "start_time": "2022-09-25T08:04:40.929Z"
   },
   {
    "duration": 8,
    "start_time": "2022-09-25T08:04:40.961Z"
   },
   {
    "duration": 52,
    "start_time": "2022-09-25T08:04:40.971Z"
   },
   {
    "duration": 45,
    "start_time": "2022-09-25T08:04:41.026Z"
   },
   {
    "duration": 48,
    "start_time": "2022-09-25T08:04:41.075Z"
   },
   {
    "duration": 9,
    "start_time": "2022-09-25T08:04:41.125Z"
   },
   {
    "duration": 32,
    "start_time": "2022-09-25T08:04:41.136Z"
   },
   {
    "duration": 12,
    "start_time": "2022-09-25T08:04:41.171Z"
   },
   {
    "duration": 45,
    "start_time": "2022-09-25T08:04:41.185Z"
   },
   {
    "duration": 10,
    "start_time": "2022-09-25T08:04:41.232Z"
   },
   {
    "duration": 11,
    "start_time": "2022-09-25T08:04:41.244Z"
   },
   {
    "duration": 8,
    "start_time": "2022-09-25T08:04:41.257Z"
   },
   {
    "duration": 36,
    "start_time": "2022-09-25T08:04:41.267Z"
   },
   {
    "duration": 2,
    "start_time": "2022-09-25T08:04:41.313Z"
   },
   {
    "duration": 13,
    "start_time": "2022-09-25T08:04:41.318Z"
   },
   {
    "duration": 9,
    "start_time": "2022-09-25T08:04:41.333Z"
   },
   {
    "duration": 15,
    "start_time": "2022-09-25T08:19:17.115Z"
   },
   {
    "duration": 12,
    "start_time": "2022-09-25T08:22:52.277Z"
   },
   {
    "duration": 14,
    "start_time": "2022-09-25T08:23:02.350Z"
   },
   {
    "duration": 43,
    "start_time": "2022-09-25T08:37:09.022Z"
   },
   {
    "duration": 11,
    "start_time": "2022-09-25T08:42:27.212Z"
   },
   {
    "duration": 15,
    "start_time": "2022-09-25T08:42:39.871Z"
   },
   {
    "duration": 9,
    "start_time": "2022-09-25T08:42:57.275Z"
   },
   {
    "duration": 53,
    "start_time": "2022-09-25T08:49:08.681Z"
   },
   {
    "duration": 42,
    "start_time": "2022-09-25T08:56:19.539Z"
   },
   {
    "duration": 41,
    "start_time": "2022-09-25T11:26:29.152Z"
   },
   {
    "duration": 7,
    "start_time": "2022-09-25T11:46:19.014Z"
   },
   {
    "duration": 17,
    "start_time": "2022-09-25T11:48:10.212Z"
   },
   {
    "duration": 11,
    "start_time": "2022-09-25T11:48:21.973Z"
   },
   {
    "duration": 53,
    "start_time": "2022-09-25T11:48:33.347Z"
   },
   {
    "duration": 7,
    "start_time": "2022-09-25T12:19:16.576Z"
   },
   {
    "duration": 21,
    "start_time": "2022-09-25T12:19:27.149Z"
   },
   {
    "duration": 11,
    "start_time": "2022-09-25T12:19:37.917Z"
   },
   {
    "duration": 50,
    "start_time": "2022-09-25T12:19:49.358Z"
   },
   {
    "duration": 523,
    "start_time": "2022-09-25T13:34:08.886Z"
   },
   {
    "duration": 23,
    "start_time": "2022-09-25T13:34:09.411Z"
   },
   {
    "duration": 16,
    "start_time": "2022-09-25T13:34:09.436Z"
   },
   {
    "duration": 11,
    "start_time": "2022-09-25T13:34:09.454Z"
   },
   {
    "duration": 55,
    "start_time": "2022-09-25T13:34:09.466Z"
   },
   {
    "duration": 4,
    "start_time": "2022-09-25T13:34:09.522Z"
   },
   {
    "duration": 13,
    "start_time": "2022-09-25T13:34:09.527Z"
   },
   {
    "duration": 4,
    "start_time": "2022-09-25T13:34:09.541Z"
   },
   {
    "duration": 8,
    "start_time": "2022-09-25T13:34:09.547Z"
   },
   {
    "duration": 4,
    "start_time": "2022-09-25T13:34:09.558Z"
   },
   {
    "duration": 63,
    "start_time": "2022-09-25T13:34:09.563Z"
   },
   {
    "duration": 13,
    "start_time": "2022-09-25T13:34:09.628Z"
   },
   {
    "duration": 4,
    "start_time": "2022-09-25T13:34:09.643Z"
   },
   {
    "duration": 40,
    "start_time": "2022-09-25T13:34:09.649Z"
   },
   {
    "duration": 23,
    "start_time": "2022-09-25T13:34:09.691Z"
   },
   {
    "duration": 19,
    "start_time": "2022-09-25T13:34:09.716Z"
   },
   {
    "duration": 4,
    "start_time": "2022-09-25T13:34:09.737Z"
   },
   {
    "duration": 21,
    "start_time": "2022-09-25T13:34:09.743Z"
   },
   {
    "duration": 28,
    "start_time": "2022-09-25T13:34:09.766Z"
   },
   {
    "duration": 5,
    "start_time": "2022-09-25T13:34:09.796Z"
   },
   {
    "duration": 11,
    "start_time": "2022-09-25T13:34:09.802Z"
   },
   {
    "duration": 12,
    "start_time": "2022-09-25T13:34:09.815Z"
   },
   {
    "duration": 8,
    "start_time": "2022-09-25T13:34:09.829Z"
   },
   {
    "duration": 9,
    "start_time": "2022-09-25T13:34:09.838Z"
   },
   {
    "duration": 8,
    "start_time": "2022-09-25T13:34:09.848Z"
   },
   {
    "duration": 7,
    "start_time": "2022-09-25T13:34:09.890Z"
   },
   {
    "duration": 8,
    "start_time": "2022-09-25T13:34:09.898Z"
   },
   {
    "duration": 8,
    "start_time": "2022-09-25T13:34:09.910Z"
   },
   {
    "duration": 9,
    "start_time": "2022-09-25T13:34:09.919Z"
   },
   {
    "duration": 18,
    "start_time": "2022-09-25T13:34:09.930Z"
   },
   {
    "duration": 45,
    "start_time": "2022-09-25T13:34:09.949Z"
   },
   {
    "duration": 10,
    "start_time": "2022-09-25T13:34:09.996Z"
   },
   {
    "duration": 9,
    "start_time": "2022-09-25T13:34:10.008Z"
   },
   {
    "duration": 13,
    "start_time": "2022-09-25T13:34:10.019Z"
   },
   {
    "duration": 8,
    "start_time": "2022-09-25T13:34:10.034Z"
   },
   {
    "duration": 77,
    "start_time": "2022-09-25T13:34:10.043Z"
   },
   {
    "duration": 5,
    "start_time": "2022-09-25T13:34:10.122Z"
   },
   {
    "duration": 16,
    "start_time": "2022-09-25T13:34:10.129Z"
   },
   {
    "duration": 8,
    "start_time": "2022-09-25T13:34:10.147Z"
   },
   {
    "duration": 68,
    "start_time": "2022-09-25T13:34:10.157Z"
   },
   {
    "duration": 8,
    "start_time": "2022-09-25T13:34:10.227Z"
   },
   {
    "duration": 45,
    "start_time": "2022-09-25T13:34:10.237Z"
   },
   {
    "duration": 45,
    "start_time": "2022-09-25T13:34:10.284Z"
   },
   {
    "duration": 56,
    "start_time": "2022-09-25T13:34:10.331Z"
   },
   {
    "duration": 8,
    "start_time": "2022-09-25T13:34:10.388Z"
   },
   {
    "duration": 45,
    "start_time": "2022-09-25T13:34:10.398Z"
   },
   {
    "duration": 10,
    "start_time": "2022-09-25T13:34:10.445Z"
   },
   {
    "duration": 53,
    "start_time": "2022-09-25T13:34:10.457Z"
   },
   {
    "duration": 49,
    "start_time": "2022-09-25T15:50:24.021Z"
   },
   {
    "duration": 582,
    "start_time": "2022-09-25T15:50:28.442Z"
   },
   {
    "duration": 22,
    "start_time": "2022-09-25T15:50:29.027Z"
   },
   {
    "duration": 17,
    "start_time": "2022-09-25T15:50:29.051Z"
   },
   {
    "duration": 16,
    "start_time": "2022-09-25T15:50:29.070Z"
   },
   {
    "duration": 67,
    "start_time": "2022-09-25T15:50:29.087Z"
   },
   {
    "duration": 4,
    "start_time": "2022-09-25T15:50:29.155Z"
   },
   {
    "duration": 24,
    "start_time": "2022-09-25T15:50:29.161Z"
   },
   {
    "duration": 29,
    "start_time": "2022-09-25T15:50:29.187Z"
   },
   {
    "duration": 18,
    "start_time": "2022-09-25T15:50:29.218Z"
   },
   {
    "duration": 31,
    "start_time": "2022-09-25T15:50:29.239Z"
   },
   {
    "duration": 67,
    "start_time": "2022-09-25T15:50:29.271Z"
   },
   {
    "duration": 34,
    "start_time": "2022-09-25T15:50:29.340Z"
   },
   {
    "duration": 31,
    "start_time": "2022-09-25T15:50:29.376Z"
   },
   {
    "duration": 26,
    "start_time": "2022-09-25T15:50:29.409Z"
   },
   {
    "duration": 36,
    "start_time": "2022-09-25T15:50:29.437Z"
   },
   {
    "duration": 18,
    "start_time": "2022-09-25T15:50:29.475Z"
   },
   {
    "duration": 3,
    "start_time": "2022-09-25T15:50:29.495Z"
   },
   {
    "duration": 20,
    "start_time": "2022-09-25T15:50:29.500Z"
   },
   {
    "duration": 10,
    "start_time": "2022-09-25T15:50:29.521Z"
   },
   {
    "duration": 22,
    "start_time": "2022-09-25T15:50:29.532Z"
   },
   {
    "duration": 13,
    "start_time": "2022-09-25T15:50:29.556Z"
   },
   {
    "duration": 24,
    "start_time": "2022-09-25T15:50:29.570Z"
   },
   {
    "duration": 12,
    "start_time": "2022-09-25T15:50:29.596Z"
   },
   {
    "duration": 21,
    "start_time": "2022-09-25T15:50:29.610Z"
   },
   {
    "duration": 10,
    "start_time": "2022-09-25T15:50:29.633Z"
   },
   {
    "duration": 18,
    "start_time": "2022-09-25T15:50:29.644Z"
   },
   {
    "duration": 18,
    "start_time": "2022-09-25T15:50:29.663Z"
   },
   {
    "duration": 12,
    "start_time": "2022-09-25T15:50:29.684Z"
   },
   {
    "duration": 9,
    "start_time": "2022-09-25T15:50:29.698Z"
   },
   {
    "duration": 23,
    "start_time": "2022-09-25T15:50:29.708Z"
   },
   {
    "duration": 18,
    "start_time": "2022-09-25T15:50:29.733Z"
   },
   {
    "duration": 11,
    "start_time": "2022-09-25T15:50:29.753Z"
   },
   {
    "duration": 24,
    "start_time": "2022-09-25T15:50:29.766Z"
   },
   {
    "duration": 11,
    "start_time": "2022-09-25T15:50:29.791Z"
   },
   {
    "duration": 10,
    "start_time": "2022-09-25T15:50:29.803Z"
   },
   {
    "duration": 58,
    "start_time": "2022-09-25T15:50:29.815Z"
   },
   {
    "duration": 355,
    "start_time": "2022-09-25T15:50:29.874Z"
   },
   {
    "duration": 7,
    "start_time": "2022-09-25T15:50:30.230Z"
   },
   {
    "duration": 59,
    "start_time": "2022-09-25T15:50:30.239Z"
   },
   {
    "duration": 25,
    "start_time": "2022-09-25T15:50:30.301Z"
   },
   {
    "duration": 100,
    "start_time": "2022-09-25T15:50:30.328Z"
   },
   {
    "duration": 56,
    "start_time": "2022-09-25T15:50:30.430Z"
   },
   {
    "duration": 67,
    "start_time": "2022-09-25T15:50:30.488Z"
   },
   {
    "duration": 50,
    "start_time": "2022-09-25T15:50:30.557Z"
   },
   {
    "duration": 65,
    "start_time": "2022-09-25T15:50:30.609Z"
   },
   {
    "duration": 7,
    "start_time": "2022-09-25T15:50:30.676Z"
   },
   {
    "duration": 32,
    "start_time": "2022-09-25T15:50:30.685Z"
   },
   {
    "duration": 23,
    "start_time": "2022-09-25T15:50:30.719Z"
   },
   {
    "duration": 69,
    "start_time": "2022-09-25T15:50:30.744Z"
   },
   {
    "duration": 50,
    "start_time": "2022-09-25T19:17:00.394Z"
   },
   {
    "duration": 3,
    "start_time": "2022-09-25T19:17:16.664Z"
   },
   {
    "duration": 46,
    "start_time": "2022-09-25T19:24:39.477Z"
   },
   {
    "duration": 666,
    "start_time": "2022-09-25T19:24:45.668Z"
   },
   {
    "duration": 22,
    "start_time": "2022-09-25T19:24:46.335Z"
   },
   {
    "duration": 21,
    "start_time": "2022-09-25T19:24:46.358Z"
   },
   {
    "duration": 25,
    "start_time": "2022-09-25T19:24:46.381Z"
   },
   {
    "duration": 45,
    "start_time": "2022-09-25T19:24:46.408Z"
   },
   {
    "duration": 3,
    "start_time": "2022-09-25T19:24:46.454Z"
   },
   {
    "duration": 17,
    "start_time": "2022-09-25T19:24:46.458Z"
   },
   {
    "duration": 20,
    "start_time": "2022-09-25T19:24:46.476Z"
   },
   {
    "duration": 26,
    "start_time": "2022-09-25T19:24:46.497Z"
   },
   {
    "duration": 19,
    "start_time": "2022-09-25T19:24:46.525Z"
   },
   {
    "duration": 50,
    "start_time": "2022-09-25T19:24:46.545Z"
   },
   {
    "duration": 8,
    "start_time": "2022-09-25T19:24:46.597Z"
   },
   {
    "duration": 10,
    "start_time": "2022-09-25T19:24:46.606Z"
   },
   {
    "duration": 30,
    "start_time": "2022-09-25T19:24:46.617Z"
   },
   {
    "duration": 28,
    "start_time": "2022-09-25T19:24:46.648Z"
   },
   {
    "duration": 23,
    "start_time": "2022-09-25T19:24:46.677Z"
   },
   {
    "duration": 3,
    "start_time": "2022-09-25T19:24:46.702Z"
   },
   {
    "duration": 28,
    "start_time": "2022-09-25T19:24:46.706Z"
   },
   {
    "duration": 30,
    "start_time": "2022-09-25T19:24:46.736Z"
   },
   {
    "duration": 29,
    "start_time": "2022-09-25T19:24:46.767Z"
   },
   {
    "duration": 39,
    "start_time": "2022-09-25T19:24:46.797Z"
   },
   {
    "duration": 15,
    "start_time": "2022-09-25T19:24:46.837Z"
   },
   {
    "duration": 26,
    "start_time": "2022-09-25T19:24:46.854Z"
   },
   {
    "duration": 23,
    "start_time": "2022-09-25T19:24:46.882Z"
   },
   {
    "duration": 30,
    "start_time": "2022-09-25T19:24:46.907Z"
   },
   {
    "duration": 47,
    "start_time": "2022-09-25T19:24:46.939Z"
   },
   {
    "duration": 22,
    "start_time": "2022-09-25T19:24:46.987Z"
   },
   {
    "duration": 39,
    "start_time": "2022-09-25T19:24:47.013Z"
   },
   {
    "duration": 18,
    "start_time": "2022-09-25T19:24:47.053Z"
   },
   {
    "duration": 41,
    "start_time": "2022-09-25T19:24:47.073Z"
   },
   {
    "duration": 32,
    "start_time": "2022-09-25T19:24:47.116Z"
   },
   {
    "duration": 24,
    "start_time": "2022-09-25T19:24:47.150Z"
   },
   {
    "duration": 34,
    "start_time": "2022-09-25T19:24:47.176Z"
   },
   {
    "duration": 26,
    "start_time": "2022-09-25T19:24:47.211Z"
   },
   {
    "duration": 21,
    "start_time": "2022-09-25T19:24:47.239Z"
   },
   {
    "duration": 24,
    "start_time": "2022-09-25T19:24:47.261Z"
   },
   {
    "duration": 470,
    "start_time": "2022-09-25T19:24:47.287Z"
   },
   {
    "duration": 5,
    "start_time": "2022-09-25T19:24:47.759Z"
   },
   {
    "duration": 51,
    "start_time": "2022-09-25T19:24:47.765Z"
   },
   {
    "duration": 14,
    "start_time": "2022-09-25T19:24:47.817Z"
   },
   {
    "duration": 70,
    "start_time": "2022-09-25T19:24:47.833Z"
   },
   {
    "duration": 9,
    "start_time": "2022-09-25T19:24:47.905Z"
   },
   {
    "duration": 43,
    "start_time": "2022-09-25T19:24:47.916Z"
   },
   {
    "duration": 11,
    "start_time": "2022-09-25T19:24:47.961Z"
   },
   {
    "duration": 50,
    "start_time": "2022-09-25T19:24:47.973Z"
   },
   {
    "duration": 5,
    "start_time": "2022-09-25T19:24:48.025Z"
   },
   {
    "duration": 32,
    "start_time": "2022-09-25T19:24:48.032Z"
   },
   {
    "duration": 8,
    "start_time": "2022-09-25T19:24:48.066Z"
   },
   {
    "duration": 52,
    "start_time": "2022-09-25T19:24:48.076Z"
   },
   {
    "duration": 2,
    "start_time": "2022-09-25T19:33:46.018Z"
   },
   {
    "duration": 25,
    "start_time": "2022-09-25T19:37:56.730Z"
   },
   {
    "duration": 24,
    "start_time": "2022-09-25T19:38:30.180Z"
   },
   {
    "duration": 2,
    "start_time": "2022-09-25T19:42:31.249Z"
   },
   {
    "duration": 26,
    "start_time": "2022-09-25T19:44:02.976Z"
   },
   {
    "duration": 29,
    "start_time": "2022-09-25T19:46:45.829Z"
   },
   {
    "duration": 474,
    "start_time": "2022-09-25T20:23:06.631Z"
   },
   {
    "duration": 22,
    "start_time": "2022-09-25T20:23:07.107Z"
   },
   {
    "duration": 22,
    "start_time": "2022-09-25T20:23:07.131Z"
   },
   {
    "duration": 33,
    "start_time": "2022-09-25T20:23:07.155Z"
   },
   {
    "duration": 53,
    "start_time": "2022-09-25T20:23:07.189Z"
   },
   {
    "duration": 3,
    "start_time": "2022-09-25T20:23:07.243Z"
   },
   {
    "duration": 15,
    "start_time": "2022-09-25T20:23:07.247Z"
   },
   {
    "duration": 28,
    "start_time": "2022-09-25T20:23:07.263Z"
   },
   {
    "duration": 26,
    "start_time": "2022-09-25T20:23:07.292Z"
   },
   {
    "duration": 9,
    "start_time": "2022-09-25T20:23:07.321Z"
   },
   {
    "duration": 52,
    "start_time": "2022-09-25T20:23:07.331Z"
   },
   {
    "duration": 10,
    "start_time": "2022-09-25T20:23:07.385Z"
   },
   {
    "duration": 29,
    "start_time": "2022-09-25T20:23:07.396Z"
   },
   {
    "duration": 21,
    "start_time": "2022-09-25T20:23:07.427Z"
   },
   {
    "duration": 22,
    "start_time": "2022-09-25T20:23:07.450Z"
   },
   {
    "duration": 24,
    "start_time": "2022-09-25T20:23:07.474Z"
   },
   {
    "duration": 10,
    "start_time": "2022-09-25T20:23:07.500Z"
   },
   {
    "duration": 31,
    "start_time": "2022-09-25T20:23:07.512Z"
   },
   {
    "duration": 11,
    "start_time": "2022-09-25T20:23:07.544Z"
   },
   {
    "duration": 14,
    "start_time": "2022-09-25T20:23:07.557Z"
   },
   {
    "duration": 32,
    "start_time": "2022-09-25T20:23:07.573Z"
   },
   {
    "duration": 27,
    "start_time": "2022-09-25T20:23:07.607Z"
   },
   {
    "duration": 13,
    "start_time": "2022-09-25T20:23:07.636Z"
   },
   {
    "duration": 27,
    "start_time": "2022-09-25T20:23:07.651Z"
   },
   {
    "duration": 30,
    "start_time": "2022-09-25T20:23:07.680Z"
   },
   {
    "duration": 12,
    "start_time": "2022-09-25T20:23:07.712Z"
   },
   {
    "duration": 26,
    "start_time": "2022-09-25T20:23:07.725Z"
   },
   {
    "duration": 20,
    "start_time": "2022-09-25T20:23:07.754Z"
   },
   {
    "duration": 17,
    "start_time": "2022-09-25T20:23:07.776Z"
   },
   {
    "duration": 36,
    "start_time": "2022-09-25T20:23:07.794Z"
   },
   {
    "duration": 31,
    "start_time": "2022-09-25T20:23:07.832Z"
   },
   {
    "duration": 22,
    "start_time": "2022-09-25T20:23:07.865Z"
   },
   {
    "duration": 18,
    "start_time": "2022-09-25T20:23:07.888Z"
   },
   {
    "duration": 21,
    "start_time": "2022-09-25T20:23:07.908Z"
   },
   {
    "duration": 16,
    "start_time": "2022-09-25T20:23:07.931Z"
   },
   {
    "duration": 287,
    "start_time": "2022-09-25T20:23:07.948Z"
   },
   {
    "duration": 5,
    "start_time": "2022-09-25T20:23:08.237Z"
   },
   {
    "duration": 41,
    "start_time": "2022-09-25T20:23:08.243Z"
   },
   {
    "duration": 20,
    "start_time": "2022-09-25T20:23:08.285Z"
   },
   {
    "duration": 42,
    "start_time": "2022-09-25T20:23:08.307Z"
   },
   {
    "duration": 24,
    "start_time": "2022-09-25T20:23:08.350Z"
   },
   {
    "duration": 43,
    "start_time": "2022-09-25T20:23:08.376Z"
   },
   {
    "duration": 31,
    "start_time": "2022-09-25T20:23:08.421Z"
   },
   {
    "duration": 56,
    "start_time": "2022-09-25T20:23:08.454Z"
   },
   {
    "duration": 12,
    "start_time": "2022-09-25T20:23:08.512Z"
   },
   {
    "duration": 52,
    "start_time": "2022-09-25T20:23:08.526Z"
   },
   {
    "duration": 28,
    "start_time": "2022-09-25T20:23:08.580Z"
   },
   {
    "duration": 68,
    "start_time": "2022-09-25T20:23:08.610Z"
   },
   {
    "duration": 467,
    "start_time": "2022-09-25T23:29:03.623Z"
   },
   {
    "duration": 23,
    "start_time": "2022-09-25T23:29:04.091Z"
   },
   {
    "duration": 26,
    "start_time": "2022-09-25T23:29:04.118Z"
   },
   {
    "duration": 22,
    "start_time": "2022-09-25T23:29:04.147Z"
   },
   {
    "duration": 39,
    "start_time": "2022-09-25T23:29:04.171Z"
   },
   {
    "duration": 3,
    "start_time": "2022-09-25T23:29:04.212Z"
   },
   {
    "duration": 33,
    "start_time": "2022-09-25T23:29:04.217Z"
   },
   {
    "duration": 10,
    "start_time": "2022-09-25T23:29:04.252Z"
   },
   {
    "duration": 16,
    "start_time": "2022-09-25T23:29:04.263Z"
   },
   {
    "duration": 6,
    "start_time": "2022-09-25T23:29:04.281Z"
   },
   {
    "duration": 42,
    "start_time": "2022-09-25T23:29:04.289Z"
   },
   {
    "duration": 10,
    "start_time": "2022-09-25T23:29:04.333Z"
   },
   {
    "duration": 10,
    "start_time": "2022-09-25T23:29:04.346Z"
   },
   {
    "duration": 15,
    "start_time": "2022-09-25T23:29:04.358Z"
   },
   {
    "duration": 31,
    "start_time": "2022-09-25T23:29:04.375Z"
   },
   {
    "duration": 19,
    "start_time": "2022-09-25T23:29:04.407Z"
   },
   {
    "duration": 4,
    "start_time": "2022-09-25T23:29:04.428Z"
   },
   {
    "duration": 23,
    "start_time": "2022-09-25T23:29:04.434Z"
   },
   {
    "duration": 7,
    "start_time": "2022-09-25T23:29:04.459Z"
   },
   {
    "duration": 21,
    "start_time": "2022-09-25T23:29:04.468Z"
   },
   {
    "duration": 14,
    "start_time": "2022-09-25T23:29:04.491Z"
   },
   {
    "duration": 21,
    "start_time": "2022-09-25T23:29:04.507Z"
   },
   {
    "duration": 8,
    "start_time": "2022-09-25T23:29:04.530Z"
   },
   {
    "duration": 16,
    "start_time": "2022-09-25T23:29:04.539Z"
   },
   {
    "duration": 9,
    "start_time": "2022-09-25T23:29:04.557Z"
   },
   {
    "duration": 20,
    "start_time": "2022-09-25T23:29:04.567Z"
   },
   {
    "duration": 31,
    "start_time": "2022-09-25T23:29:04.589Z"
   },
   {
    "duration": 33,
    "start_time": "2022-09-25T23:29:04.622Z"
   },
   {
    "duration": 25,
    "start_time": "2022-09-25T23:29:04.656Z"
   },
   {
    "duration": 47,
    "start_time": "2022-09-25T23:29:04.683Z"
   },
   {
    "duration": 43,
    "start_time": "2022-09-25T23:29:04.732Z"
   },
   {
    "duration": 47,
    "start_time": "2022-09-25T23:29:04.777Z"
   },
   {
    "duration": 55,
    "start_time": "2022-09-25T23:29:04.825Z"
   },
   {
    "duration": 27,
    "start_time": "2022-09-25T23:29:04.882Z"
   },
   {
    "duration": 33,
    "start_time": "2022-09-25T23:29:04.911Z"
   },
   {
    "duration": 328,
    "start_time": "2022-09-25T23:29:04.945Z"
   },
   {
    "duration": 15,
    "start_time": "2022-09-25T23:29:05.275Z"
   },
   {
    "duration": 17,
    "start_time": "2022-09-25T23:29:05.292Z"
   },
   {
    "duration": 10,
    "start_time": "2022-09-25T23:29:05.310Z"
   },
   {
    "duration": 32,
    "start_time": "2022-09-25T23:29:05.323Z"
   },
   {
    "duration": 9,
    "start_time": "2022-09-25T23:29:05.357Z"
   },
   {
    "duration": 25,
    "start_time": "2022-09-25T23:29:05.390Z"
   },
   {
    "duration": 10,
    "start_time": "2022-09-25T23:29:05.416Z"
   },
   {
    "duration": 33,
    "start_time": "2022-09-25T23:29:05.429Z"
   },
   {
    "duration": 29,
    "start_time": "2022-09-25T23:29:05.463Z"
   },
   {
    "duration": 26,
    "start_time": "2022-09-25T23:29:05.494Z"
   },
   {
    "duration": 10,
    "start_time": "2022-09-25T23:29:05.522Z"
   },
   {
    "duration": 40,
    "start_time": "2022-09-25T23:29:05.533Z"
   }
  ],
  "colab": {
   "name": "dpp_template_part2.ipynb",
   "provenance": []
  },
  "kernelspec": {
   "display_name": "Python 3",
   "language": "python",
   "name": "python3"
  },
  "language_info": {
   "codemirror_mode": {
    "name": "ipython",
    "version": 3
   },
   "file_extension": ".py",
   "mimetype": "text/x-python",
   "name": "python",
   "nbconvert_exporter": "python",
   "pygments_lexer": "ipython3",
   "version": "3.7.0"
  },
  "toc": {
   "base_numbering": 1,
   "nav_menu": {},
   "number_sections": true,
   "sideBar": true,
   "skip_h1_title": true,
   "title_cell": "Table of Contents",
   "title_sidebar": "Contents",
   "toc_cell": false,
   "toc_position": {},
   "toc_section_display": true,
   "toc_window_display": false
  }
 },
 "nbformat": 4,
 "nbformat_minor": 5
}
